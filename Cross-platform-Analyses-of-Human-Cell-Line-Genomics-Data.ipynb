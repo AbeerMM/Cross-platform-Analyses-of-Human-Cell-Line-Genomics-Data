{
 "cells": [
  {
   "cell_type": "markdown",
   "metadata": {},
   "source": [
    "<center>\n",
    "<h1> Using LINCS Data for Computational Drug Discovery </h1>  \n",
    "<h3>Abeer Mutlaq Almutairy</h3>\n",
    "Capstone Project Report\n",
    "<h6>Institute of Technology University of Washington, Tacoma  </h6> \n",
    "Master of Computer Science and Systems\n",
    "</center>\n",
    "<center>June 9, 2017</center>\n",
    "<center>\n",
    "<h6>Chair of the Supervisory Committee: Ka Yee Yeung, Ph.D.</h6></center>\n",
    "<center>Institute of Technology, UW-Tacoma</center>\n",
    "<center><h6>Chair Ling Hong   Hung, Ph.D.</h6></center>\n",
    "<center>Center for Data Science, UW-Tacoma</center>  \n",
    "\n"
   ]
  },
  {
   "cell_type": "markdown",
   "metadata": {
    "cell_style": "center",
    "toc": "true"
   },
   "source": [
    "# Table of Contents\n",
    " <p><div class=\"lev1 toc-item\"><a href=\"#-Using-LINCS-Data-for-Computational-Drug-Discovery-\" data-toc-modified-id=\"-Using-LINCS-Data-for-Computational-Drug-Discovery--1\"><span class=\"toc-item-num\">1&nbsp;&nbsp;</span> Using LINCS Data for Computational Drug Discovery </a></div><div class=\"lev3 toc-item\"><a href=\"#Abeer-Mutlaq-Almutairy\" data-toc-modified-id=\"Abeer-Mutlaq-Almutairy-101\"><span class=\"toc-item-num\">1.0.1&nbsp;&nbsp;</span>Abeer Mutlaq Almutairy</a></div><div class=\"lev2 toc-item\"><a href=\"#Motivation-and-Overview\" data-toc-modified-id=\"Motivation-and-Overview-11\"><span class=\"toc-item-num\">1.1&nbsp;&nbsp;</span>Motivation and Overview</a></div><div class=\"lev2 toc-item\"><a href=\"#Related-Work\" data-toc-modified-id=\"Related-Work-12\"><span class=\"toc-item-num\">1.2&nbsp;&nbsp;</span>Related Work</a></div><div class=\"lev3 toc-item\"><a href=\"#The-Connectivity-Map-and-LINCS\" data-toc-modified-id=\"The-Connectivity-Map-and-LINCS-121\"><span class=\"toc-item-num\">1.2.1&nbsp;&nbsp;</span>The Connectivity Map and LINCS</a></div><div class=\"lev4 toc-item\"><a href=\"#The-Connectivity-Map\" data-toc-modified-id=\"The-Connectivity-Map-1211\"><span class=\"toc-item-num\">1.2.1.1&nbsp;&nbsp;</span>The Connectivity Map</a></div><div class=\"lev4 toc-item\"><a href=\"#Data-Processing\" data-toc-modified-id=\"Data-Processing-1212\"><span class=\"toc-item-num\">1.2.1.2&nbsp;&nbsp;</span>Data Processing</a></div><div class=\"lev4 toc-item\"><a href=\"#LINCS-L1000-Pipelines\" data-toc-modified-id=\"LINCS-L1000-Pipelines-1213\"><span class=\"toc-item-num\">1.2.1.3&nbsp;&nbsp;</span>LINCS L1000 Pipelines</a></div><div class=\"lev4 toc-item\"><a href=\"#Gene-Signatures\" data-toc-modified-id=\"Gene-Signatures-1214\"><span class=\"toc-item-num\">1.2.1.4&nbsp;&nbsp;</span>Gene Signatures</a></div><div class=\"lev3 toc-item\"><a href=\"#Data-Integration---KINOMEscan\" data-toc-modified-id=\"Data-Integration---KINOMEscan-122\"><span class=\"toc-item-num\">1.2.2&nbsp;&nbsp;</span>Data Integration - KINOMEscan</a></div><div class=\"lev3 toc-item\"><a href=\"#Predictors-based-on-public-databases\" data-toc-modified-id=\"Predictors-based-on-public-databases-123\"><span class=\"toc-item-num\">1.2.3&nbsp;&nbsp;</span>Predictors based on public databases</a></div><div class=\"lev3 toc-item\"><a href=\"#Predicting-Drug-Responses\" data-toc-modified-id=\"Predicting-Drug-Responses-124\"><span class=\"toc-item-num\">1.2.4&nbsp;&nbsp;</span>Predicting Drug Responses</a></div><div class=\"lev3 toc-item\"><a href=\"#Reproducible-Profiling-of-Cancer-Cell-Line-Panels\" data-toc-modified-id=\"Reproducible-Profiling-of-Cancer-Cell-Line-Panels-125\"><span class=\"toc-item-num\">1.2.5&nbsp;&nbsp;</span>Reproducible Profiling of Cancer Cell Line Panels</a></div><div class=\"lev2 toc-item\"><a href=\"#Methodology-and-Analysis\" data-toc-modified-id=\"Methodology-and-Analysis-13\"><span class=\"toc-item-num\">1.3&nbsp;&nbsp;</span>Methodology and Analysis</a></div><div class=\"lev3 toc-item\"><a href=\"#Overview-of-approach\" data-toc-modified-id=\"Overview-of-approach-131\"><span class=\"toc-item-num\">1.3.1&nbsp;&nbsp;</span>Overview of approach</a></div><div class=\"lev3 toc-item\"><a href=\"#Data-Sources\" data-toc-modified-id=\"Data-Sources-132\"><span class=\"toc-item-num\">1.3.2&nbsp;&nbsp;</span>Data Sources</a></div><div class=\"lev3 toc-item\"><a href=\"#Part-1:-Benchmarking,-Analysis,-and-Visualization\" data-toc-modified-id=\"Part-1:-Benchmarking,-Analysis,-and-Visualization-133\"><span class=\"toc-item-num\">1.3.3&nbsp;&nbsp;</span>Part 1: Benchmarking, Analysis, and Visualization</a></div><div class=\"lev4 toc-item\"><a href=\"#Reading-Datasets\" data-toc-modified-id=\"Reading-Datasets-1331\"><span class=\"toc-item-num\">1.3.3.1&nbsp;&nbsp;</span>Reading Datasets</a></div><div class=\"lev4 toc-item\"><a href=\"#Data-Standardization\" data-toc-modified-id=\"Data-Standardization-1332\"><span class=\"toc-item-num\">1.3.3.2&nbsp;&nbsp;</span>Data Standardization</a></div><div class=\"lev4 toc-item\"><a href=\"#Intersection-of-Datasets\" data-toc-modified-id=\"Intersection-of-Datasets-1333\"><span class=\"toc-item-num\">1.3.3.3&nbsp;&nbsp;</span>Intersection of Datasets</a></div><div class=\"lev4 toc-item\"><a href=\"#Loading-&amp;-Visualizing-the-Filtered-Datasets\" data-toc-modified-id=\"Loading-&amp;-Visualizing-the-Filtered-Datasets-1334\"><span class=\"toc-item-num\">1.3.3.4&nbsp;&nbsp;</span>Loading &amp; Visualizing the Filtered Datasets</a></div><div class=\"lev4 toc-item\"><a href=\"#Computing-Cell-Line-Distances\" data-toc-modified-id=\"Computing-Cell-Line-Distances-1335\"><span class=\"toc-item-num\">1.3.3.5&nbsp;&nbsp;</span>Computing Cell Line Distances</a></div><div class=\"lev4 toc-item\"><a href=\"#Analysis-&amp;-Visualization\" data-toc-modified-id=\"Analysis-&amp;-Visualization-1336\"><span class=\"toc-item-num\">1.3.3.6&nbsp;&nbsp;</span>Analysis &amp; Visualization</a></div><div class=\"lev3 toc-item\"><a href=\"#Part-2:-Integrating-with-KINOMEscan-Data\" data-toc-modified-id=\"Part-2:-Integrating-with-KINOMEscan-Data-134\"><span class=\"toc-item-num\">1.3.4&nbsp;&nbsp;</span>Part 2: Integrating with KINOMEscan Data</a></div><div class=\"lev4 toc-item\"><a href=\"#KINOMEscan-Data-from-HMS\" data-toc-modified-id=\"KINOMEscan-Data-from-HMS-1341\"><span class=\"toc-item-num\">1.3.4.1&nbsp;&nbsp;</span>KINOMEscan Data from HMS</a></div><div class=\"lev4 toc-item\"><a href=\"#L1000-LINCS-Data-from-L1K++-Pipeline\" data-toc-modified-id=\"L1000-LINCS-Data-from-L1K++-Pipeline-1342\"><span class=\"toc-item-num\">1.3.4.2&nbsp;&nbsp;</span>L1000 LINCS Data from L1K++ Pipeline</a></div><div class=\"lev4 toc-item\"><a href=\"#L1K++-Data-vs.-KINOMEscan-Data\" data-toc-modified-id=\"L1K++-Data-vs.-KINOMEscan-Data-1343\"><span class=\"toc-item-num\">1.3.4.3&nbsp;&nbsp;</span>L1K++ Data vs. KINOMEscan Data</a></div><div class=\"lev1 toc-item\"><a href=\"#References\" data-toc-modified-id=\"References-2\"><span class=\"toc-item-num\">2&nbsp;&nbsp;</span>References</a></div>"
   ]
  },
  {
   "cell_type": "markdown",
   "metadata": {},
   "source": [
    "## Motivation and Overview  "
   ]
  },
  {
   "cell_type": "markdown",
   "metadata": {
    "cell_style": "center"
   },
   "source": [
    "The traditional process of drug discovery is extremely time-consuming and requires a large budget [1]. Recent advances in biotechnology has led to the generation of many different types of big biomedical data, which subsequently motivates the development of computational methods to analyze these data sources. In particular, L1000 technology that represents a high-throughput gene expression profiling technique. Due to cost, the L1000 technology developed by the Broad Institute selected approximately one thousand landmark genes as a representative sample of the human genome that originally contains over 20,000 genes [2]. The L1000 technology has enabled inexpensive measurements from more than one million experiments across eighty human cell lines.  \n",
    "\n",
    "The LINCS (Library of Integrated Network based Cellular Signatures) program, funded by the National Institutes of Health, generates different types of data, including: gene expression, proteomic, and cell imaging data. These types enable scientists to understand the biological processes at the molecular and cellular level. One of the main objectives of the LINCS program is to study gene signatures resulted from perturbations applied to human cells. Using the L1000 technology mentioned above, the LINCS L1000 dataset contains the expression level of one thousand landmark genes measured in each of the perturbation experiments. \n",
    "\n",
    "Our goal is to study the consistency of cell line similarities across the LINCS L1000 data and other data sources. In particular, we used the LINCS L1000 gene expression data to explore similarities between different cell lines using different analysis methods, including clustering and dimension reduction techniques. Our work is inspired by Zhang et al [3] in which multiple datasets, including the Cancer Cell Line Encyclopedia (CCLE) data [4] and Cancer Genome Project (CGP) data [5] were used to explore similarity of cell lines and drugs. The results of this study suggested that similar cell lines are expected to have similar drug responses, and similar drugs are expected to have similar effects on a cell line."
   ]
  },
  {
   "cell_type": "markdown",
   "metadata": {},
   "source": [
    "## Related Work"
   ]
  },
  {
   "cell_type": "markdown",
   "metadata": {},
   "source": [
    "### The Connectivity Map and LINCS"
   ]
  },
  {
   "cell_type": "markdown",
   "metadata": {},
   "source": [
    "#### The Connectivity Map"
   ]
  },
  {
   "cell_type": "markdown",
   "metadata": {},
   "source": [
    "The connectivity map (CMAP) is an innovative way to use genomics for drug discovery. Gene patterns associated with diseases and patterns of this gene treated by drugs or exposed to genetic perturbations are linked and expressed in a comprehensive connectivity map. One of the connectivity map functions is to screen compounds against disease signatures instead of a preselected set of target genes. Advanced pattern-matching techniques are used to link drugs with diseases [6].  \n",
    "  \n",
    "Rouillard et al [7] described the Connectivity Map and LINCS project. The for- mer indicates associations between genes, drugs, and disease through patterns in gene expression signatures of differentially expressed genes. For example, the initial CMAP database includes more than 6000 gene signatures from 1309 compounds (small molecule perturbations) applied to the prostate cancer cell line PC3 and the breast cancer cell line MCF7. The Cancer Target Discovery and Development was developed as a cancer phenotyping project that sought to identify new cancer drug targets and unique biomarkers to diagnose cancer and predict patient response to drugs. To analyze and integrate data, Rouillard et al [7] utilized an unsupervised clustering approach, a supervised classification system, learn-to-rank algorithms, and protein-protein interaction (PPI) links. Rouillard et al [7] were able to benchmark expressed genes from microarrays and RNA-seq data by combining transcription factor knockdowns followed with genome-wide expression with ChIP-seq data which opened up opportunities to perform method validation and prediction at a revolutionary level. Moreover, supervised and unsupervised machine learning methods were shown to be effective in data integration and benchmarking.\n"
   ]
  },
  {
   "cell_type": "markdown",
   "metadata": {},
   "source": [
    "#### Data Processing"
   ]
  },
  {
   "cell_type": "markdown",
   "metadata": {},
   "source": [
    "Processing the raw data resulted from the LINCS experiments is crucial to the statistical analysis. It includes different steps of transformation and normalization. Briefly, the first step of the data processing is to obtain the raw measurements from the perturbation experiments. After that, data normalization and transformation processes are applied to obtain the numerical gene expression values [8]. In this project, we will use pre-processed L1000 data as described below."
   ]
  },
  {
   "cell_type": "markdown",
   "metadata": {},
   "source": [
    "#### LINCS L1000 Pipelines"
   ]
  },
  {
   "cell_type": "markdown",
   "metadata": {},
   "source": [
    "We will use the L1000 data processed by the L1K++ pipeline developed by Dr. Ling-Hung at University of Washington Tacoma. L1K++ is implemented in C++ using linear algorithms to make it over 1000x faster than the available pipelines [9]. L1K++ provides processed data different levels ranging from level 1 to level 2.5. A higher level represents more processed data.  \n",
    "  \n",
    "Alternatively, Liu et al [10] developed an L1000 data pipeline (csNMF) to discover, systematically, compound signatures. Profiling compound effects while avoiding bias is one of the key goals in their work. csNMF used fuzzy c-means and Gaussian mixture models to process the L1000 data and showed that their method is more accurate and efficient than the Broad processing pipeline. They also demonstrated their processed data in compound signature detection. In particular, Liu et al [10] used three approaches for the signature discovery. The first one is the Enrichment of Gene Effects to a Molecule (EGEM) score, the second approach is the constrained sparse non-negative matrix factorization (csNMF), and the third one is quadruple model training that computes correlation between drugs and their targets. In order to validate the detected signatures, Liu et al [10] used the kinome-wide drug inhibitory effects from the LINCS kinomics data.\n"
   ]
  },
  {
   "cell_type": "markdown",
   "metadata": {},
   "source": [
    "#### Gene Signatures"
   ]
  },
  {
   "cell_type": "markdown",
   "metadata": {},
   "source": [
    "A gene signature is defined as a set of differentially expressed genes in response to experimental conditions so that these genes together represent a pattern linked to a certain medical condition or a biological characteristic. In a typical differential expression experiment, a biologist identifies a set of genes that exhibit different expression patterns across two experimental conditions [11]. For the LINCS L1000 data, gene signatures can be obtained using different tools from the NIH LINCS program, which are available online from http://www.lincsproject.org/LINCS/applications. As an example application, Ma'ayan et al [12] benchmarked various methods prioritizing differentially expressed genes by examining gene expressions and comparing gene lists from ChIP-seq data."
   ]
  },
  {
   "cell_type": "markdown",
   "metadata": {},
   "source": [
    "### Data Integration - KINOMEscan"
   ]
  },
  {
   "cell_type": "markdown",
   "metadata": {
    "collapsed": true
   },
   "source": [
    "A kinase is an enzyme that manages the process of transferring phosphate groups from molecules to specific substrates. There are 518 protein kinase genes in the human genome. Almost all biochemical pathways are regulated by protein kinases [13]. A kinase functions by attaching a phosphoryl group to another molecule, which changes its characteristics. This process can affect the protein and any other molecules it is attached to. Kinases were believed to be draggable targets [14].  \n",
    "  \n",
    "KINOMEscan is a drug discovery service that provides profiling of biochemical kinases in order to measure drug binding based on about 440 kinases [15]. By integrating and analyzing the KINOMEscan data, L1000 and cell growth inhibition assay data, Vidovíc et al [16] predicted kinase inhibition and binding profiles. They found that the KINOMEscan data consisted corresponding amounts of molecules tested against a panel of 478 kinases."
   ]
  },
  {
   "cell_type": "markdown",
   "metadata": {},
   "source": [
    "### Predictors based on public databases"
   ]
  },
  {
   "cell_type": "markdown",
   "metadata": {},
   "source": [
    "Schürer et al [17] used about 500,000 molecules from the Kinase Knowledge Base (a compilation of small molecule inhibitor data) to generate hundreds of regression and classification models. After in-depth cross-validation of the models demonstrating high predictability, the application of LINCS showed agreement of profiled results with predicted activities. Schürer et al [17] concluded that, despite the questions of usefulness or integrity of large heterogeneous datasets, using publicly accessed databases are valuable to developing accurate predictors allowing the practical use of kinome-wide virtual screening applications while also complementing experimental kinase profiling."
   ]
  },
  {
   "cell_type": "markdown",
   "metadata": {},
   "source": [
    "### Predicting Drug Responses"
   ]
  },
  {
   "cell_type": "markdown",
   "metadata": {},
   "source": [
    "Zhang et al [3] used the Cancer Cell Line Encyclopedia(CCLE) [4] and Cancer Genome Project(CGP) [5] datasets to explore similarity information of cell lines and drugs. The former builds three models that predict drug responses. The first one, Cell line Similarity Network(CSN) relies on cell line similarities. The second model called the Drug Similarity Network(DSN) relies on drug similarities. The final model integrates both networks using a mathematical weighted model. The cell line similarity network is built based on the correlations between gene expression profiles for cell lines, while the drug similarity network is built based on the correlations between activity areas/IC50s for drugs. The result of this study suggests that similar cell lines are expected to have similar drug responses, and similar drugs are expected to have similar effects on a cell line. Moreover, Zhang et al [3] were able to predict the missing drug responses in the Cancer Genome Project(CGP) study using the integrated model, and those predictions were consistent with the available responses and previous studies."
   ]
  },
  {
   "cell_type": "markdown",
   "metadata": {
    "ExecuteTime": {
     "end_time": "2017-06-09T00:46:10.806326Z",
     "start_time": "2017-06-09T00:46:10.583Z"
    }
   },
   "source": [
    "### Reproducible Profiling of Cancer Cell Line Panels"
   ]
  },
  {
   "cell_type": "markdown",
   "metadata": {},
   "source": [
    "Haverty et al [18] used two project datasets, Genomics of Drug Sensitivity in Cancer(GDSC) and Cancer Cell Line Encyclopedia(CCLE), which include about 1000 cell lines and 150 anti-cancer agents. Using the response of 410 cancer cell lines to 16 agents, Haverty et al [18] tried to address the issue of screening projects’ validity and use, and the unagreement in drug responses between different studies. Haverty et al [18] assessed three screening protocols that are expected to affect drug responses, which includes cell viability, seeding density strategy, and cell culture media conditions. Haverty et al [18] suggests that identifying drug-sensitive and drug-resistant cell lines, biomarkers that can be generalized, and experimental conditions can play a significant role in addressing the problem mentioned above. They observed that applying robust viability statistics and concordance metrics can achieve reliability. The mean viability statistic was applied in this study to avoid the shortcomings that result in high variance estimates of drug responses. Then, the two studies’ results were compared with gCSI to identify the common sensitive or resistant cell lines. CCLE and GDSC studies applied elastic net to identify the predictive biomarkers. In this study, Haverty et al [18] sought more sensitive comparison between studies to find the strongly predictive biomarkers. The biomarkers from one study’s drug response data were found by applying elastic net. Then, independently, univariate regression was applied, so that the features with high predictive power were selected."
   ]
  },
  {
   "cell_type": "markdown",
   "metadata": {},
   "source": [
    "## Methodology and Analysis"
   ]
  },
  {
   "cell_type": "markdown",
   "metadata": {},
   "source": [
    "### Overview of approach"
   ]
  },
  {
   "cell_type": "markdown",
   "metadata": {},
   "source": [
    "Our goal is to use the LINCS data to discover drugs based on pattern discovery. First, we benchmarked the L1000 data using CCLE, RNAseq and applied pattern discovery techniques to explore similarities between cell lines in order to prove our hypothesis as similar cell lines have similar responses to drugs. Different techniques will be used in order to discover patterns, such as distance measurements, pairwise comparison, visualization, and clustering. Also, we integrated the HMS KINOMEscan data with the L1000 LINCS data. \n",
    "\n",
    "This study consists of two main parts: First, benchmarking L1000 LINCS data using CCLE, RNAseq data, and second is integrating the HMS KINOMEscan data with the L1000 LINCS data."
   ]
  },
  {
   "cell_type": "markdown",
   "metadata": {
    "cell_style": "center"
   },
   "source": [
    "### Data Sources"
   ]
  },
  {
   "cell_type": "markdown",
   "metadata": {
    "cell_style": "center"
   },
   "source": [
    "1. <U>Library of Integrated Network-based Cellular Signatures(LINCS) dataset [19]: Cell Line Data </U>   \n",
    "The L1000 data is available online from http://download.lincscloud.org. The L1000 data contain gene expressions for cell lines that are exposed to different genetic and chemical perturbations. The LINCS L1000 platform reduces the 20,000 genes to 1000 genes that is highly expressed and represent 80% of the information [20]. The LINCS project provides many tools to access, integrate and visualize data, such as: iLINCS [21], Enrichr [22], and LINCS Data Portal [23]. These tools have web-based user interfaces, and use clustering and Enrichment analysis.\n",
    "   \n",
    "2. <U>The Cancer Cell Line Encyclopedia(CCLE)[4]: Cell Line Data </U>    \n",
    "The CCLE data is available from https://www.broadinstitute.org/software/cprg/?q=node/11. The CCLE project contains 1000 human cancer cell lines. The CCLE provides different tools to analyze and visualize the data using mRNA expression, mutation data, DNA copy number and more. One of these tools is CMAP that contains more than 7,000 expression profiles representing 1,309 compounds [24]. CCLE data will be used to benchmark L1000 data.\n",
    "  \n",
    "3. <U>RNAseq Data by Klijn et al. [25] across human cell lines:</U>    \n",
    "Gene expression information from RNAseq data is available from ArrayExpress database for download from https://www.ebi.ac.uk/arrayexpress/experiments/E-MTAB-2706/. These datasets contain RNA-seq expression data across 675 untreated human cancer cell lines. RNAseq data will be used to benchmark L1000 data for unperturbed cell lines along with other datasets from different sources.\n",
    "  \n",
    "4. <U>KINOMEscan dataset[15]: </U>    \n",
    "KINOMEscan data is available from http://lincs.hms.harvard.edu/kinomescan/. The KINOMEscan data is generated by the Harvard Medical School(HMS) LINCS team. The KINOMEscan data measure drug binding using a panel of more than 440 kinases. Kinases are proteins that attach a small chemical group onto other molecules. Kinases are important in relaying messages from one location in a cell to another, among other functions [14]. Using the KINOMEscan data, we aim to identify protein targets of drug compounds."
   ]
  },
  {
   "cell_type": "markdown",
   "metadata": {},
   "source": [
    "### Part 1: Benchmarking, Analysis, and Visualization"
   ]
  },
  {
   "cell_type": "markdown",
   "metadata": {
    "cell_style": "center"
   },
   "source": [
    "We will use the L1000 data processed by the L1K++ pipeline developed by Dr. Ling-Hung at University of Washington Tacoma. L1K++ is implemented in C++ using linear algorithms to make it over 1000x faster than the available pipelines [9]. L1K++ provides processed data different levels ranging from level 1 to level 2.5. A higher level represents more processed data."
   ]
  },
  {
   "cell_type": "markdown",
   "metadata": {},
   "source": [
    "   \n",
    "   Run the following script to load all the required packages in this notebook."
   ]
  },
  {
   "cell_type": "code",
   "execution_count": null,
   "metadata": {
    "ExecuteTime": {
     "end_time": "2017-06-09T16:46:42.379971Z",
     "start_time": "2017-06-09T16:46:39.906Z"
    },
    "collapsed": true
   },
   "outputs": [],
   "source": [
    "suppressMessages(library(\"corpcor\"))\n",
    "suppressMessages(library(\"mclust\"))\n",
    "suppressMessages(library(\"ape\")) \n",
    "suppressMessages(library(\"heatmaply\"))\n",
    "suppressMessages(library(\"sparcl\"))\n",
    "suppressMessages(library(\"factoextra\"))"
   ]
  },
  {
   "cell_type": "markdown",
   "metadata": {},
   "source": [
    "#### Reading Datasets"
   ]
  },
  {
   "cell_type": "markdown",
   "metadata": {},
   "source": [
    "The following subsections are to read the raw datasets from their original sources. It is going to take time since we are reading the entire datasets. To skip this step and start directly from the filtered data we prepared for this notebook, skip all next sections and start running the script from \"Loading the Filtered Datasets\" section."
   ]
  },
  {
   "cell_type": "markdown",
   "metadata": {},
   "source": [
    "##### Reading CCLE Data"
   ]
  },
  {
   "cell_type": "code",
   "execution_count": null,
   "metadata": {
    "collapsed": true,
    "editable": false,
    "run_control": {
     "frozen": true
    }
   },
   "outputs": [],
   "source": [
    "library(\"stringr\")\n",
    "library(RCurl)\n",
    "library(bitops)\n",
    "#===========================================================\n",
    "#========   CCLE Data -- .res file (> 50000 genes)  ========\n",
    "#===========================================================\n",
    "breakit <- function(x)\n",
    "{\n",
    "  y <- unlist(strsplit(x,\"_\"))[1]\n",
    "  return(y)\n",
    "}\n",
    "\n",
    "#url <- \"https://portals.broadinstitute.org/ccle/downloadFile/DefaultSystemRoot/exp_10/ds_21/CCLE_Expression_2012-09-29.res?downloadff=true&fileId=6760\"\n",
    "#CCLE.res <- read.delim(url, sep=\"\\t\", row.names=NULL, check.names = FALSE) #, quote = \"\"\n",
    "CCLE.res <- read.csv(file = \"./Data/CCLE_Expression_2012-09-29.res\",sep=\"\\t\", row.names=NULL, check.names = FALSE)\n",
    "\n",
    "rownames(CCLE.res) <- CCLE.res$Description\n",
    "CCLE.res[, 1:2] <- NULL\n",
    "\n",
    "colnames(CCLE.res)[1:2073] <- colnames(CCLE.res)[2:2074]\n",
    "CCLE.res <- CCLE.res[, -seq(2,2076, by = 2)]\n",
    "\n",
    "ccleres.names <- colnames(CCLE.res)\n",
    "name.vec2 <- NULL\n",
    "for(i in 1:ncol(CCLE.res))\n",
    "{\n",
    "  name.vec2[[i]] <- breakit(ccleres.names[[i]])\n",
    "  \n",
    "}\n",
    "colnames(CCLE.res) <- name.vec2\n",
    "\n",
    "# to get columns by their partial names: dat[1:4, grep(\"TT\",colnames(dat))]\n",
    "#There are some duplicate cell lines, e.g.:\n",
    "# TT_OESOPHAGUS , TT_THYROID  &\n",
    "# NCIH292_LUNG , NCIH292_LUNG.1 \n",
    "#which(colnames(CCLE.res) == \"TT\") #565 682\n",
    "#which(colnames(CCLE.res) == \"NCIH292\") #963 991\n",
    "# To handle that:\n",
    "CCLE.res <- CCLE.res[, !duplicated(colnames(CCLE.res), fromLast = TRUE)] # 1035 cell lines\n",
    "\n",
    "CCLE.res <- t(CCLE.res)\n",
    "#CCLE.res <- CCLE.res[, -1]\n",
    "\n",
    "rownames(CCLE.res) <-  toupper(str_replace_all(rownames(CCLE.res), \"[^[:alnum:]]\", \"\"))\n",
    "dim(CCLE.res)\n",
    "#options(repr.matrix.max.cols=50, repr.matrix.max.rows=100)\n",
    "CCLE.res <- CCLE.res[, -1]\n",
    "#save(CCLE.res, file=\"./CCLE.res.RData\")\n",
    "head(CCLE.res)\n"
   ]
  },
  {
   "cell_type": "markdown",
   "metadata": {},
   "source": [
    "##### Reading L1K++ Data"
   ]
  },
  {
   "cell_type": "markdown",
   "metadata": {},
   "source": [
    "The average of replicates for each cell line were computed."
   ]
  },
  {
   "cell_type": "code",
   "execution_count": null,
   "metadata": {
    "collapsed": true,
    "editable": false,
    "run_control": {
     "frozen": true
    }
   },
   "outputs": [],
   "source": [
    "library(\"stringr\")\n",
    "#===========================================================\n",
    "#========     L1K++ Data -- 3 control types     ============\n",
    "#===========================================================\n",
    "breakit <- function(x)\n",
    "{\n",
    "  y <- unlist(strsplit(x,\"[.]\"))[1]\n",
    "  return(y)\n",
    "}\n",
    "L1K.3types <- read.csv(file = \"./Data/en_3_pert_types_combined.tsv\",sep=\"\\t\", check.names = F, row.names = NULL)\n",
    "\n",
    "rownames(L1K.3types) <- L1K.3types$Sample\n",
    "\n",
    "L1K.names <- rownames(L1K.3types)\n",
    "name.vec <- NULL\n",
    "for(i in 1:nrow(L1K.3types))\n",
    "{\n",
    "  name.vec[[i]] <- breakit(L1K.names[[i]])\n",
    "  \n",
    "}\n",
    "L1K.3types$Sample <- name.vec\n",
    "L1K.avg <- NULL\n",
    "i <- 1\n",
    "for(cline in unique(name.vec))\n",
    "{\n",
    "  means <- colMeans(L1K.3types[which(L1K.3types$Sample == cline), 2:979])\n",
    "  L1K.avg <- rbind(L1K.avg, means)\n",
    "  rownames(L1K.avg)[i] <- cline\n",
    "  i <- i + 1\n",
    "}\n",
    "rownames(L1K.avg) <-  toupper(str_replace_all(rownames(L1K.avg), \"[^[:alnum:]]\", \"\"))\n",
    "dim(L1K.avg) # 71 cell lines\n",
    "options(repr.matrix.max.cols=50, repr.matrix.max.rows=100)\n",
    "head(L1K.avg)"
   ]
  },
  {
   "cell_type": "markdown",
   "metadata": {},
   "source": [
    "##### Reading RNAseq Data"
   ]
  },
  {
   "cell_type": "code",
   "execution_count": null,
   "metadata": {
    "collapsed": true,
    "editable": false,
    "run_control": {
     "frozen": true
    }
   },
   "outputs": [],
   "source": [
    "library(\"stringr\")\n",
    "#===========================================================\n",
    "#========   RNAseq Data -- 1171 genes  ========\n",
    "#===========================================================\n",
    "\n",
    "ax                    <- read.csv(\"./Data/VSD_Entrez_in_landmark.csv\", header = F)    # File for ARRAY-EXPRESS\n",
    "ax.meta               <- read.table(\"./Data/E_MTAB_2706_sdrf.txt\", header = T, sep=\"\\t\",stringsAsFactors = F, quote = NULL, comment = \"\")\n",
    "\n",
    "row.names(ax)         <- ax$V1\n",
    "\n",
    "ax.celines            <- levels(factor(ax.meta$Characteristics.cell.line.))\n",
    "ax.celines            <-  toupper(str_replace_all(ax.celines, \"[^[:alnum:]]\", \"\"))\n",
    "\n",
    "ax$V1                 <- NULL\n",
    "names(ax)             <- ax.celines\n",
    "dim(ax) # 1171 genes x  675 cell lines\n",
    "\n",
    "landmark.genes <- read.csv(\"./landmark_genes.csv\", header = T)    # File for ARRAY-EXPRESS\n",
    "ax <- ax[intersect(landmark.genes$Entrez.Gene.ID, rownames(ax)), ]\n",
    "ax <- t(ax)\n",
    "dim(ax) #675 cell lines x 978 genes\n",
    "options(repr.matrix.max.cols=50, repr.matrix.max.rows=100)\n",
    "head(ax)"
   ]
  },
  {
   "cell_type": "markdown",
   "metadata": {},
   "source": [
    "#### Data Standardization"
   ]
  },
  {
   "cell_type": "markdown",
   "metadata": {},
   "source": [
    "we standardized each one of the three datasets separately by computing the Z score for gene expressions across all cell lines."
   ]
  },
  {
   "cell_type": "code",
   "execution_count": null,
   "metadata": {
    "collapsed": true,
    "editable": false,
    "run_control": {
     "frozen": true
    }
   },
   "outputs": [],
   "source": [
    "#----------------------------------------------\n",
    "# Scaling\n",
    "#----------------------------------------------\n",
    "\n",
    "scaled.L1K.avg  <- scale(L1K.avg, center = TRUE, scale = TRUE)\n",
    "scaled.CCLE.res <- scale(CCLE.res, center = TRUE, scale = TRUE)\n",
    "scaled.ax       <- scale(ax, center = TRUE, scale = TRUE)"
   ]
  },
  {
   "cell_type": "markdown",
   "metadata": {},
   "source": [
    "#### Intersection of Datasets"
   ]
  },
  {
   "cell_type": "markdown",
   "metadata": {},
   "source": [
    "The following script finds the intersection of genes and cell lines between L1K++ and each one of the other two datasets. For L1K++ and CCLE, 55 cell lines and the landmark genes are found in common. For L1K++ and RNAseq, 41 cell found lines in common. Thus, we have two subsets of L1K++. One is to study with CCLE data and second is to study with RNAseq data."
   ]
  },
  {
   "cell_type": "markdown",
   "metadata": {},
   "source": [
    "The following script subsets the original datasets (L1K++, CCLE, and RNAseq) based on landmark genes and cell lines in common."
   ]
  },
  {
   "cell_type": "code",
   "execution_count": null,
   "metadata": {
    "code_folding": [],
    "collapsed": true,
    "editable": false,
    "run_control": {
     "frozen": true,
     "marked": false
    }
   },
   "outputs": [],
   "source": [
    "#----------------------------------------------\n",
    "# Intersection\n",
    "#----------------------------------------------\n",
    "# 55 cell lines and 978 genes\n",
    "gene.inters <- intersect(colnames(scaled.CCLE.res), colnames(scaled.L1K.avg))\n",
    "cell.inters <- intersect(rownames(scaled.L1K.avg), rownames(scaled.CCLE.res))\n",
    "scaled.CCLE.res.inters <- scaled.CCLE.res[cell.inters, gene.inters]\n",
    "scaled.L1K.inters      <- scaled.L1K.avg[cell.inters, gene.inters]\n",
    "#---------------------------------\n",
    "# 41 cell lines and 978 genes\n",
    "cell.inters <- intersect(rownames(scaled.L1K.avg), rownames(scaled.ax))\n",
    "length(cell.inters)\n",
    "scaled.L1K.inters.ax   <- scaled.L1K.avg[cell.inters, ] #gene.inters **after mapping\n",
    "scaled.ax.inters       <- scaled.ax[cell.inters, ] #gene.inters **after mapping\n",
    "#---------------------------------\n",
    "dim(scaled.CCLE.res.inters) # 55 978\n",
    "dim(scaled.L1K.inters) # 55 978\n",
    "#-------------\n",
    "dim(scaled.L1K.inters.ax) # 41 978\n",
    "dim(scaled.ax.inters) # 41 978\n",
    "#---------------------------------"
   ]
  },
  {
   "cell_type": "markdown",
   "metadata": {},
   "source": [
    "#### Loading & Visualizing the Filtered Datasets"
   ]
  },
  {
   "cell_type": "code",
   "execution_count": null,
   "metadata": {
    "ExecuteTime": {
     "end_time": "2017-06-09T16:47:09.913850Z",
     "start_time": "2017-06-09T16:47:09.793Z"
    },
    "collapsed": true
   },
   "outputs": [],
   "source": [
    "load(\"./Data/scaled.CCLE.res.inters.RData\")\n",
    "load(\"./Data/scaled.L1K.inters.RData\")\n",
    "load(\"./Data/scaled.L1K.inters.ax.RData\")\n",
    "load(\"./Data/scaled.ax.inters.RData\")"
   ]
  },
  {
   "cell_type": "markdown",
   "metadata": {},
   "source": [
    "##### Heatmaps for Datasets"
   ]
  },
  {
   "cell_type": "markdown",
   "metadata": {},
   "source": [
    "The heatmaps are generated using <I><B>heatmaply</B></I>. These heatmaps are interactive. Placing the cursor on any point will show the information including the cell line name, the gene name, and the value of the scaled expression. These heatmaps allow zooming in/out from both rows and columns by dragging or using the upper right box that appears when the cursor is placed on it. To reset the visualization settings, zooming in/out, downloading the plot, etc., use the menu bar on the upper right side of the heatmap. \n",
    "To hide the output, click on the left side of the output box."
   ]
  },
  {
   "cell_type": "markdown",
   "metadata": {},
   "source": [
    "The plot below shows the heatmap of the scaled L1K++ gene expressions dataset consisted of 55 cell lines and 978 genes, which are resulted from the intersection of L1K++ and CCLE. "
   ]
  },
  {
   "cell_type": "code",
   "execution_count": null,
   "metadata": {
    "ExecuteTime": {
     "end_time": "2017-06-09T16:48:17.263275Z",
     "start_time": "2017-06-09T16:47:19.281Z"
    },
    "scrolled": false
   },
   "outputs": [],
   "source": [
    "options(warn=-1)\n",
    "suppressMessages(heatmaply(scaled.L1K.inters, k_row = 55, k_col = 978, colors = heat.colors(100)))"
   ]
  },
  {
   "cell_type": "markdown",
   "metadata": {},
   "source": [
    "The plot below shows the heatmap of CCLE gene expressions dataset consisted of 55 cell lines and 978 genes. "
   ]
  },
  {
   "cell_type": "code",
   "execution_count": null,
   "metadata": {
    "ExecuteTime": {
     "end_time": "2017-06-09T17:04:01.248473Z",
     "start_time": "2017-06-09T17:03:17.660Z"
    }
   },
   "outputs": [],
   "source": [
    "options(warn=-1)\n",
    "suppressMessages(heatmaply(scaled.CCLE.res.inters, k_row = 55, k_col = 978, colors = heat.colors(100)))"
   ]
  },
  {
   "cell_type": "markdown",
   "metadata": {},
   "source": [
    "The plot below shows the heatmap of RNAseq expressions dataset consisted of 41 cell lines and 978 genes. "
   ]
  },
  {
   "cell_type": "code",
   "execution_count": null,
   "metadata": {
    "ExecuteTime": {
     "end_time": "2017-06-09T17:05:06.987406Z",
     "start_time": "2017-06-09T17:04:25.323Z"
    }
   },
   "outputs": [],
   "source": [
    "options(warn=-1)\n",
    "suppressMessages(heatmaply(scaled.L1K.inters.ax, k_row = 41, k_col = 978, colors = heat.colors(100)))"
   ]
  },
  {
   "cell_type": "markdown",
   "metadata": {},
   "source": [
    "The plot below shows the heatmap of L1K++ gene expressions dataset consisted of 41 cell lines and 978 genes that resulted from the intersection of L1K++ and RNAseq. "
   ]
  },
  {
   "cell_type": "code",
   "execution_count": null,
   "metadata": {
    "ExecuteTime": {
     "end_time": "2017-06-09T17:06:09.506576Z",
     "start_time": "2017-06-09T17:05:29.726Z"
    },
    "scrolled": false
   },
   "outputs": [],
   "source": [
    "options(warn=-1)\n",
    "suppressMessages(heatmaply(scaled.ax.inters, k_row = 41, k_col = 978, colors = heat.colors(100)))"
   ]
  },
  {
   "cell_type": "markdown",
   "metadata": {},
   "source": [
    "#### Computing Cell Line Distances"
   ]
  },
  {
   "cell_type": "markdown",
   "metadata": {},
   "source": [
    "To find cell line similarities, we calculate the pairwise distances and correlation coefficients between every two cell lines based on their gene expression profiles. Different metrics are used for the distance, such as: Pearson correlation, rank-based correlation (Kendall), and squared Mahalanobis distance. This analysis consist of two main parts. One, analyzing L1K++ compared to CCLE, and second L1K++ compared to CCLE in order to benchmark the results."
   ]
  },
  {
   "cell_type": "markdown",
   "metadata": {},
   "source": [
    "##### 1. L1K++  vs. CCLE Data (55 cell lines x 978 genes)"
   ]
  },
  {
   "cell_type": "markdown",
   "metadata": {},
   "source": [
    "The following script computes the two types of correlation coefficients (Pearson & Kendall) and one distance metric (squared Mahalanobis distance) for 55 cell lines in L1K++ and CCLE data based on their expression profiles."
   ]
  },
  {
   "cell_type": "code",
   "execution_count": null,
   "metadata": {
    "ExecuteTime": {
     "end_time": "2017-06-09T17:07:47.103589Z",
     "start_time": "2017-06-09T17:06:34.039Z"
    },
    "code_folding": [],
    "collapsed": true
   },
   "outputs": [],
   "source": [
    "#==================================================================================\n",
    "#     Pearson / Kendall Correlation / Squared Mahalanobis Distance\n",
    "#==================================================================================\n",
    "\n",
    "# L1K++ vs. CCLE (55 x 55, cell lines)\n",
    "#-------------------------------------\n",
    "# *.lc = L1K++ data & *.c = CCLE data\n",
    "cor.mat.lc    <- as.dist((1-cor(t(scaled.L1K.inters), method = \"pearson\"))/2)\n",
    "cor.mat.c     <- as.dist((1-cor(t(scaled.CCLE.res.inters), method = \"pearson\"))/2)\n",
    "#...............................................................................\n",
    "cork.mat.lc    <- as.dist((1-cor(t(scaled.L1K.inters), method = \"kendall\"))/2)\n",
    "cork.mat.c     <- as.dist((1-cor(t(scaled.CCLE.res.inters), method = \"kendall\"))/2)\n",
    "#...............................................................................\n",
    "# Mahalanobis Diststance\n",
    "covs <- cov.shrink(scaled.L1K.inters, verbose = F)\n",
    "covs.inverse <- invcov.shrink(covs, verbose = F) \n",
    "distm.mat.lc <- as.dist(apply(scaled.L1K.inters,1,function(i){ \n",
    "  mahalanobis(scaled.L1K.inters,i, covs.inverse, inverted = T)})) \n",
    "#...........\n",
    "covs2 <- cov.shrink(scaled.CCLE.res.inters, verbose = F)\n",
    "covs.inverse2 <- invcov.shrink(covs2, verbose = F) \n",
    "distm.mat.c <- as.dist(apply(scaled.CCLE.res.inters,1,function(i){ \n",
    "  mahalanobis(scaled.CCLE.res.inters,i, covs.inverse2, inverted = T)})) \n"
   ]
  },
  {
   "cell_type": "markdown",
   "metadata": {},
   "source": [
    "##### 2. L1K++  vs. RNAseq Data (41 cell lines x 978 genes)"
   ]
  },
  {
   "cell_type": "markdown",
   "metadata": {},
   "source": [
    "The following script computes the two types of correlation coefficients(Pearson & Kendall) and one distance metric (squared Mahalanobis distance) for 41 cell lines in L1K++ and RNAseq data based on their expression profiles."
   ]
  },
  {
   "cell_type": "code",
   "execution_count": null,
   "metadata": {
    "ExecuteTime": {
     "end_time": "2017-06-09T17:08:54.209794Z",
     "start_time": "2017-06-09T17:08:02.072Z"
    },
    "code_folding": [],
    "collapsed": true
   },
   "outputs": [],
   "source": [
    "#==================================================================================\n",
    "#     Pearson / Kendall Correlation / Squared Mahalanobis Distance\n",
    "#==================================================================================\n",
    "# L1K++ vs. RNAseq (41 x 41, cell lines)\n",
    "#-------------------------------------\n",
    "# *.la = L1K++ data & *.a = RNAseq data\n",
    "cor.mat.la    <- as.dist((1-cor(t(scaled.L1K.inters.ax), method = \"pearson\"))/2)\n",
    "cor.mat.a     <- as.dist((1-cor(t(scaled.ax.inters), method = \"pearson\"))/2)\n",
    "#...............................................................................\n",
    "cork.mat.la    <- as.dist((1-cor(t(scaled.L1K.inters.ax), method = \"kendall\"))/2)\n",
    "cork.mat.a     <- as.dist((1-cor(t(scaled.ax.inters), method = \"kendall\"))/2)\n",
    "#...............................................................................\n",
    "# Mahalanobis Diststance\n",
    "covs <- cov.shrink(scaled.L1K.inters.ax, verbose = F)\n",
    "covs.inverse <- invcov.shrink(covs, verbose = F) \n",
    "distm.mat.la <- as.dist(apply(scaled.L1K.inters.ax,1,function(i){ \n",
    "  mahalanobis(scaled.L1K.inters.ax,i, covs.inverse, inverted = T)})) \n",
    "#...........\n",
    "covs2 <- cov.shrink(scaled.ax.inters, verbose = F)\n",
    "covs.inverse2 <- invcov.shrink(covs2, verbose = F) \n",
    "distm.mat.a <- as.dist(apply(scaled.ax.inters,1,function(i){ \n",
    "  mahalanobis(scaled.ax.inters,i, covs.inverse2, inverted = T)})) \n"
   ]
  },
  {
   "cell_type": "markdown",
   "metadata": {},
   "source": [
    "#### Analysis & Visualization"
   ]
  },
  {
   "cell_type": "markdown",
   "metadata": {},
   "source": [
    "##### A. Distance/Similarity Visualization (Heatmaps & MDSs)"
   ]
  },
  {
   "cell_type": "markdown",
   "metadata": {},
   "source": [
    "In order to improve the readability of the distance/similarity matrices, we use plotly package to visualize. It enables us to read the distance of any interesting point in our heatmap by placing the cursor on it. Since the distance/similarity matrices are symmetric, the upper and lower triangles of the heatmap are identical. Also, we used interactive Multidimensional Scaling plots to visualize the similarity measures between cell lines."
   ]
  },
  {
   "cell_type": "markdown",
   "metadata": {},
   "source": [
    "The heatmaps are generated using <I><B>Plotly</B></I> [26] package. These heatmaps are interactive. Placing the cursor on any point will show the information including the cell line name, the gene name, and the value of the scaled expression. These heatmaps allow zooming in/out from both rows and columns by dragging or using the upper right box that appears when the cursor is placed on it. To reset the visualization settings, zooming in/out, downloading the plot, etc., use the menu bar on the upper right side of the heatmap. \n",
    "To hide the output, click on the left side of the output box."
   ]
  },
  {
   "cell_type": "markdown",
   "metadata": {},
   "source": [
    "The 3D MDS plots are generated by <I><B>Plotly</B></I> [26] package. These plots are interactive. Placing the cursor on any point will show the cell line name and the measures from MDS. To zoom in/out, scroll up/down. Drag the plot to any direction to rotate. The list of cell line names on the right side is interactive as well. Double-clicking on any cell line will hide/show it on the 3D plot. To reset the plot to the original settings, place the cursor on the upper right side to show the menu bar with different tools.\n",
    "\n",
    "These heatmaps allow zooming in/out from both rows and columns by dragging or using the upper right box that appears when the cursor is placed on it. To reset the visualization settings, zooming in/out, downloading the plot, etc., use the menu bar on the upper right side of the heatmap. \n",
    "To hide the output, click on the left side of the output box."
   ]
  },
  {
   "cell_type": "markdown",
   "metadata": {},
   "source": [
    "###### a. L1K++ vs. CCLE (55 cell lines)"
   ]
  },
  {
   "cell_type": "markdown",
   "metadata": {},
   "source": [
    "<U>1. Pearson Correlation Coefficients</U>"
   ]
  },
  {
   "cell_type": "code",
   "execution_count": null,
   "metadata": {
    "ExecuteTime": {
     "end_time": "2017-06-09T17:09:29.205318Z",
     "start_time": "2017-06-09T17:09:25.792Z"
    },
    "code_folding": [],
    "format": "tab",
    "scrolled": false
   },
   "outputs": [],
   "source": [
    "options(warn=-1)\n",
    "m <- as.matrix(cor.mat.lc)\n",
    "a <- plot_ly(x = rownames(m), y = colnames(m),\n",
    "z = m, type = \"heatmap\", colors = colorRamp(c(\"red\", \"yellow\")))\n",
    "#----\n",
    "m2 <- as.matrix(cor.mat.c)\n",
    "b <- plot_ly(x = rownames(m2), y = colnames(m2),\n",
    "z = m2, type = \"heatmap\", colors = colorRamp(c(\"red\", \"yellow\")))\n",
    "#-----\n",
    "subplot(a, b, margin = 0.06)\n",
    "#-----\n",
    "\n",
    "\n",
    "#---------------------------------------------------------------------------------------------------------------\n",
    "cmd <- cmdscale(cor.mat.lc,eig=TRUE, k=3)\n",
    "x <- cmd$points[,1]\n",
    "y <- cmd$points[,2]\n",
    "z <- cmd$points[,3]\n",
    "\n",
    "plot_ly(as.data.frame(as.matrix(cor.mat.lc)), x = x, y = y, z = z, color=rownames(as.data.frame(as.matrix(cor.mat.lc))), width = 700, height = 600) %>%\n",
    "  add_markers() %>%\n",
    "  layout(title = \"MDS L1K++ (Pearson)\", scene = list(xaxis = list(title = 'x'),\n",
    "                      yaxis = list(title = 'y'),\n",
    "                      zaxis = list(title = 'z')))\n",
    "#-----------------\n",
    "cmd <- cmdscale(cor.mat.c,eig=TRUE, k=3)\n",
    "x <- cmd$points[,1]\n",
    "y <- cmd$points[,2]\n",
    "z <- cmd$points[,3]\n",
    "\n",
    "plot_ly(as.data.frame(as.matrix(cor.mat.c)), x = x, y = y, z = z, color=rownames(as.data.frame(as.matrix(cor.mat.c))), width = 700, height = 600) %>%\n",
    "  add_markers() %>%\n",
    "  layout(title = \"MDS CCLE (Pearson)\", scene = list(xaxis = list(title = 'x'),\n",
    "                      yaxis = list(title = 'y'),\n",
    "                      zaxis = list(title = 'z')))\n",
    "\n",
    "#htmlwidgets::saveWidget(a, \"MDSL1KPearson.html\")\n",
    "#htmlwidgets::saveWidget(b, \"MDSCCLEPearson.html\")\n",
    "\n",
    "#embed_notebook(a)\n",
    "#embed_notebook(b)"
   ]
  },
  {
   "cell_type": "markdown",
   "metadata": {},
   "source": [
    "<U>2. Kendall Correlation Coefficients</U>"
   ]
  },
  {
   "cell_type": "code",
   "execution_count": null,
   "metadata": {
    "ExecuteTime": {
     "end_time": "2017-06-09T17:10:40.663935Z",
     "start_time": "2017-06-09T17:10:36.797Z"
    },
    "code_folding": [],
    "format": "tab",
    "scrolled": false
   },
   "outputs": [],
   "source": [
    "options(warn=-1)\n",
    "m <- as.matrix(cork.mat.lc)\n",
    "a <- plot_ly(x = rownames(m), y = colnames(m),z = m, type = \"heatmap\", colors = colorRamp(c(\"red\", \"yellow\")))\n",
    "#------\n",
    "m2 <- as.matrix(cork.mat.c)\n",
    "b <- plot_ly(x = rownames(m2), y = colnames(m2),z = m2, type = \"heatmap\", colors = colorRamp(c(\"red\", \"yellow\")))\n",
    "#------\n",
    "subplot(a, b, margin = 0.06)\n",
    "\n",
    "#---------------------------------------------------------------------------------------------------------------\n",
    "\n",
    "cmd <- cmdscale(cor.mat.lc,eig=TRUE, k=3)\n",
    "x <- cmd$points[,1]\n",
    "y <- cmd$points[,2]\n",
    "z <- cmd$points[,3]\n",
    "\n",
    "plot_ly(as.data.frame(as.matrix(cork.mat.lc)), x = x, y = y, z = z, color=rownames(as.data.frame(as.matrix(cork.mat.lc))), width = 700, height = 600) %>%\n",
    "  add_markers() %>%\n",
    "  layout(title = \"MDS L1K++ (Kendall)\", scene = list(xaxis = list(title = 'x'),\n",
    "                      yaxis = list(title = 'y'),\n",
    "                      zaxis = list(title = 'z')))\n",
    "#--------------\n",
    "cmd <- cmdscale(cork.mat.c,eig=TRUE, k=3)\n",
    "x <- cmd$points[,1]\n",
    "y <- cmd$points[,2]\n",
    "z <- cmd$points[,3]\n",
    "\n",
    "plot_ly(as.data.frame(as.matrix(cork.mat.c)), x = x, y = y, z = z, color=rownames(as.data.frame(as.matrix(cork.mat.c))), width = 700, height = 600) %>%\n",
    "  add_markers() %>%\n",
    "  layout(title = \"MDS CCLE (Kendall)\", scene = list(xaxis = list(title = 'x'),\n",
    "                      yaxis = list(title = 'y'),\n",
    "                      zaxis = list(title = 'z')))\n",
    "\n",
    "#htmlwidgets::saveWidget(a, \"MDSL1KKendall.html\")\n",
    "#htmlwidgets::saveWidget(b, \"MDSCCLEKendall.html\")\n",
    "\n",
    "#embed_notebook(a)\n",
    "#embed_notebook(b)"
   ]
  },
  {
   "cell_type": "markdown",
   "metadata": {},
   "source": [
    "<U>3. Squared Mahalanobis Distance</U>"
   ]
  },
  {
   "cell_type": "code",
   "execution_count": null,
   "metadata": {
    "ExecuteTime": {
     "end_time": "2017-06-09T17:11:05.284415Z",
     "start_time": "2017-06-09T17:11:01.620Z"
    },
    "scrolled": false
   },
   "outputs": [],
   "source": [
    "options(warn=-1)\n",
    "m <- as.matrix(distm.mat.lc)\n",
    "a <- plot_ly(x = rownames(m), y = colnames(m),\n",
    "z = m, type = \"heatmap\", colors = colorRamp(c(\"red\", \"yellow\")))\n",
    "\n",
    "m2 <- as.matrix(distm.mat.c)\n",
    "b <- plot_ly(x = rownames(m2), y = colnames(m2),\n",
    "z = m2, type = \"heatmap\", colors = colorRamp(c(\"red\", \"yellow\")))\n",
    "\n",
    "subplot(a, b, margin = 0.06)\n",
    "\n",
    "#------------------------------------------------------------------------------------------------------\n",
    "\n",
    "cmd <- cmdscale(distm.mat.lc,eig=TRUE, k=3)\n",
    "x <- cmd$points[,1]\n",
    "y <- cmd$points[,2]\n",
    "z <- cmd$points[,3]\n",
    "\n",
    "plot_ly(as.data.frame(as.matrix(distm.mat.lc)), x = x, y = y, z = z, color=rownames(as.data.frame(as.matrix(distm.mat.lc))), width = 700, height = 600) %>%\n",
    "  add_markers() %>%\n",
    "  layout(title = \"MDS L1K++ (Sqr. Mahalanobis)\", scene = list(xaxis = list(title = 'x'),\n",
    "                      yaxis = list(title = 'y'),\n",
    "                      zaxis = list(title = 'z')))\n",
    "#------------------\n",
    "cmd <- cmdscale(distm.mat.c,eig=TRUE, k=3)\n",
    "x <- cmd$points[,1]\n",
    "y <- cmd$points[,2]\n",
    "z <- cmd$points[,3]\n",
    "\n",
    "plot_ly(as.data.frame(as.matrix(distm.mat.c)), x = x, y = y, z = z, color=rownames(as.data.frame(as.matrix(distm.mat.c))), width = 700, height = 600) %>%\n",
    "  add_markers() %>%\n",
    "  layout(title = \"MDS CCLE (Sqr. Mahalanobis)\", scene = list(xaxis = list(title = 'x'),\n",
    "                      yaxis = list(title = 'y'),\n",
    "                      zaxis = list(title = 'z')))\n",
    "\n",
    "\n",
    "#htmlwidgets::saveWidget(a, \"MDSL1KMahalanobis.html\")\n",
    "#htmlwidgets::saveWidget(b, \"MDSCCLEMahalanobis.html\")\n",
    "\n",
    "\n",
    "#embed_notebook(a)\n",
    "#embed_notebook(b)"
   ]
  },
  {
   "cell_type": "markdown",
   "metadata": {},
   "source": [
    "###### b. L1K++ vs. RNAseq (41 cell lines)"
   ]
  },
  {
   "cell_type": "markdown",
   "metadata": {},
   "source": [
    "<U>1. Pearson Correlation Coefficients</U>"
   ]
  },
  {
   "cell_type": "code",
   "execution_count": null,
   "metadata": {
    "ExecuteTime": {
     "end_time": "2017-06-09T17:11:30.745344Z",
     "start_time": "2017-06-09T17:11:27.519Z"
    },
    "format": "tab",
    "run_control": {
     "marked": false
    },
    "scrolled": false
   },
   "outputs": [],
   "source": [
    "options(warn=-1)\n",
    "m <- as.matrix(cor.mat.la)\n",
    "a <- plot_ly(x = rownames(m), y = colnames(m),\n",
    "z = m, type = \"heatmap\", colors = colorRamp(c(\"red\", \"yellow\")))\n",
    "\n",
    "m2 <- as.matrix(cor.mat.a)\n",
    "b <- plot_ly(x = rownames(m2), y = colnames(m2),\n",
    "z = m2, type = \"heatmap\", colors = colorRamp(c(\"red\", \"yellow\")))\n",
    "#---------------------------\n",
    "subplot(a, b, margin = 0.06)\n",
    "#---------------------------\n",
    "\n",
    "#-------------------------------------------------------------------------------------------------------------------------\n",
    "cmd <- cmdscale(cor.mat.la,eig=TRUE, k=3)\n",
    "x <- cmd$points[,1]\n",
    "y <- cmd$points[,2]\n",
    "z <- cmd$points[,3]\n",
    "\n",
    "plot_ly(as.data.frame(as.matrix(cor.mat.la)), x = x, y = y, z = z, color=rownames(as.data.frame(as.matrix(cor.mat.la))), width = 700, height = 600) %>%\n",
    "  add_markers() %>%\n",
    "  layout(title = \"MDS L1K++ (Pearson)\", scene = list(xaxis = list(title = 'x'),\n",
    "                      yaxis = list(title = 'y'),\n",
    "                      zaxis = list(title = 'z')))\n",
    "#-----------------------\n",
    "cmd <- cmdscale(cor.mat.a,eig=TRUE, k=3)\n",
    "x <- cmd$points[,1]\n",
    "y <- cmd$points[,2]\n",
    "z <- cmd$points[,3]\n",
    "\n",
    "plot_ly(as.data.frame(as.matrix(cor.mat.a)), x = x, y = y, z = z, color=rownames(as.data.frame(as.matrix(cor.mat.a))), width = 700, height = 600) %>%\n",
    "  add_markers() %>%\n",
    "  layout(title = \"MDS RNAseq (Pearson)\", scene = list(xaxis = list(title = 'x'),\n",
    "                      yaxis = list(title = 'y'),\n",
    "                      zaxis = list(title = 'z')))\n",
    "\n",
    "#htmlwidgets::saveWidget(a, \"MDSL1KXPearson).html\")\n",
    "#htmlwidgets::saveWidget(b, \"MDSRNAseqPearson.html\")\n",
    "\n",
    "#embed_notebook(a)\n",
    "#embed_notebook(b)"
   ]
  },
  {
   "cell_type": "markdown",
   "metadata": {},
   "source": [
    "<U>2. Kendall Correlation Coefficients</U>"
   ]
  },
  {
   "cell_type": "code",
   "execution_count": null,
   "metadata": {
    "ExecuteTime": {
     "end_time": "2017-06-09T17:11:54.237050Z",
     "start_time": "2017-06-09T17:11:48.301Z"
    },
    "format": "row",
    "scrolled": false
   },
   "outputs": [],
   "source": [
    "options(warn=-1)\n",
    "m <- as.matrix(cork.mat.la)\n",
    "a <- plot_ly(x = rownames(m), y = colnames(m),\n",
    "z = m, type = \"heatmap\", colors = colorRamp(c(\"red\", \"yellow\")))\n",
    "\n",
    "m2 <- as.matrix(cork.mat.a)\n",
    "b <- plot_ly(x = rownames(m2), y = colnames(m2),\n",
    "z = m2, type = \"heatmap\", colors = colorRamp(c(\"red\", \"yellow\")))\n",
    "#----------------------------\n",
    "subplot(a, b, margin = 0.06)\n",
    "#----------------------------\n",
    "\n",
    "#--------------------------------------------------------------------------------------------------------------------------------\n",
    "cmd <- cmdscale(cork.mat.la,eig=TRUE, k=3)\n",
    "x <- cmd$points[,1]\n",
    "y <- cmd$points[,2]\n",
    "z <- cmd$points[,3]\n",
    "\n",
    "a <- plot_ly(as.data.frame(as.matrix(cork.mat.la)), x = x, y = y, z = z, color=rownames(as.data.frame(as.matrix(cork.mat.la))), width = 700, height = 600) %>%\n",
    "  add_markers() %>%\n",
    "  layout(title = \"MDS L1K++ (Kendall)\", scene = list(xaxis = list(title = 'x'),\n",
    "                      yaxis = list(title = 'y'),\n",
    "                      zaxis = list(title = 'z')))\n",
    "#-----------------\n",
    "cmd <- cmdscale(cork.mat.a,eig=TRUE, k=3)\n",
    "x <- cmd$points[,1]\n",
    "y <- cmd$points[,2]\n",
    "z <- cmd$points[,3]\n",
    "\n",
    "b <- plot_ly(as.data.frame(as.matrix(cork.mat.a)), x = x, y = y, z = z, color=rownames(as.data.frame(as.matrix(cork.mat.a))), width = 700, height = 600) %>%\n",
    "  add_markers() %>%\n",
    "  layout(title = \"MDS RNAseq (Kendall)\", scene = list(xaxis = list(title = 'x'),\n",
    "                      yaxis = list(title = 'y'),\n",
    "                      zaxis = list(title = 'z')))\n",
    "\n",
    "#htmlwidgets::saveWidget(a, \"MDSL1KXKendall.html\")\n",
    "#htmlwidgets::saveWidget(b, \"MDSRNAseqKendall.html\")\n",
    "\n",
    "embed_notebook(a)\n",
    "embed_notebook(b)"
   ]
  },
  {
   "cell_type": "markdown",
   "metadata": {},
   "source": [
    "<U>3. Squared Mahalanobis Distance</U>"
   ]
  },
  {
   "cell_type": "code",
   "execution_count": null,
   "metadata": {
    "ExecuteTime": {
     "end_time": "2017-06-09T17:12:43.106990Z",
     "start_time": "2017-06-09T17:12:36.949Z"
    },
    "scrolled": false
   },
   "outputs": [],
   "source": [
    "options(warn=-1)\n",
    "m <- as.matrix(distm.mat.la)\n",
    "a <- plot_ly(x = rownames(m), y = colnames(m),\n",
    "z = m, type = \"heatmap\", colors = colorRamp(c(\"red\", \"yellow\")))\n",
    "\n",
    "m2 <- as.matrix(distm.mat.a)\n",
    "b <- plot_ly(x = rownames(m2), y = colnames(m2),\n",
    "z = m2, type = \"heatmap\", colors = colorRamp(c(\"red\", \"yellow\")))\n",
    "#---------------------------\n",
    "subplot(a, b, margin = 0.06)\n",
    "#---------------------------\n",
    "\n",
    "#-------------------------------------------------------------------------------------------------------------\n",
    "cmd <- cmdscale(distm.mat.la,eig=TRUE, k=3)\n",
    "x <- cmd$points[,1]\n",
    "y <- cmd$points[,2]\n",
    "z <- cmd$points[,3]\n",
    "\n",
    "a <- plot_ly(as.data.frame(as.matrix(distm.mat.la)), x = x, y = y, z = z, color=rownames(as.data.frame(as.matrix(distm.mat.la))), width = 700, height = 600) %>%\n",
    "  add_markers() %>%\n",
    "  layout(title = \"MDS L1K++ (Sqr. Mahalanobis)\", scene = list(xaxis = list(title = 'x'),\n",
    "                      yaxis = list(title = 'y'),\n",
    "                      zaxis = list(title = 'z')))\n",
    "#------------------------------------------\n",
    "cmd <- cmdscale(distm.mat.a,eig=TRUE, k=3)\n",
    "x <- cmd$points[,1]\n",
    "y <- cmd$points[,2]\n",
    "z <- cmd$points[,3]\n",
    "\n",
    "b <- plot_ly(as.data.frame(as.matrix(distm.mat.a)), x = x, y = y, z = z, color=rownames(as.data.frame(as.matrix(distm.mat.a))), width = 700, height = 600) %>%\n",
    "  add_markers() %>%\n",
    "  layout(title = \"MDS RNAseq (Sqr. Mahalanobis)\", scene = list(xaxis = list(title = 'x'),\n",
    "                      yaxis = list(title = 'y'),\n",
    "                      zaxis = list(title = 'z')))\n",
    "\n",
    "#htmlwidgets::saveWidget(a, \"MDSL1KXMahalanobis.html\")\n",
    "#htmlwidgets::saveWidget(b, \"MDSRNAseqMahalanobis.html\")\n",
    "\n",
    "embed_notebook(a)\n",
    "embed_notebook(b)"
   ]
  },
  {
   "cell_type": "markdown",
   "metadata": {},
   "source": [
    "<html>\n",
    "<head>\n",
    "  <link rel=\"import\" href=\"./MDSCCLEPearson.html\">\n",
    "</head>\n",
    "</html>"
   ]
  },
  {
   "cell_type": "markdown",
   "metadata": {},
   "source": [
    "##### B. Clustering Visualization"
   ]
  },
  {
   "cell_type": "markdown",
   "metadata": {
    "run_control": {
     "marked": false
    }
   },
   "source": [
    "Clustering is an effective tool in this project to explore data and discover patterns in cell lines across different perturbations. In particular, we use some clustering approaches as a similarity measurement [27]. Hierarchical clustering and model-based clustering are used to cluster similar cell lines and similar drugs. Hierarchical clustering algorithms return the clusters in a hierarchical structure and do not require a prior knowledge of the number of the clusters [28]. Model-based clustering can be a good alternative to heuristic algorithms using some mathematical models such as decision trees [29]. We cluster cell lines based on their gene expressions, and then compute the adjust rand index to assess the clustering of each two datasets. R Packages are used in this study. For hierarchical clustering, we use <B><I>\"stats\"</I></B> [30] package to build the hierarchical clusters, and for model-based clustering, we use <B><I>\"mclust\"</I></B> [31] package."
   ]
  },
  {
   "cell_type": "markdown",
   "metadata": {
    "format": "row",
    "run_control": {
     "marked": false
    }
   },
   "source": [
    "###### Hierarchical Clustering"
   ]
  },
  {
   "cell_type": "markdown",
   "metadata": {},
   "source": [
    "The following scripts includes a function that takes two distance matrices, a model name, and a threshold as parameters to test different numbers of clusters for each two datasets (L1K++ vs. CCLE & L1K++ vs. RNAseq) and print all the combinations of clusters number that gives an adjust rand index greater than the threshold. To start the process, first, the following script should be run."
   ]
  },
  {
   "cell_type": "code",
   "execution_count": null,
   "metadata": {
    "ExecuteTime": {
     "end_time": "2017-06-09T16:53:20.922764Z",
     "start_time": "2017-06-09T16:53:20.905Z"
    },
    "cell_style": "center",
    "code_folding": [
     3
    ],
    "collapsed": true,
    "format": "row"
   },
   "outputs": [],
   "source": [
    "findOptNumClust.hc <<- function(dist.mat1, dist.mat2, model, thrsh)\n",
    "{\n",
    "  thrshold  <- thrsh\n",
    "  for(i in 2:15)\n",
    "  {\n",
    "    for(j in 2:15)\n",
    "    {\n",
    "      #-------------------\n",
    "      ARI   <<- NULL\n",
    "      ARI2  <<- NULL\n",
    "      \n",
    "      hc1 <- cutree(hclust(dist.mat1, method = model), i)\n",
    "      hc2 <- cutree(hclust(dist.mat2, method = model), j) \n",
    "        \n",
    "      tryCatch({\n",
    "        if(adjustedRandIndex(hc1, hc2) >= thrshold)\n",
    "        {\n",
    "          ARI  <<- adjustedRandIndex(hc1, hc2) \n",
    "          cat(\"======================================\\n\")\n",
    "          cat(\"#cluster_1 :\", i, \"  | \")\n",
    "          cat(\"#cluster_2 :\", j, \"\\n\")\n",
    "          cat(\"threshold :\", thrshold, \" | \")\n",
    "          cat(\"Model: \", model, \"\\n\")\n",
    "          cat(\"         --------------------------\\n\")\n",
    "          cat(\"ARI :\", ARI, \"\\n\")\n",
    "        }\n",
    "      }, error=function(e){cat(\"ERROR:\",conditionMessage(e), \"\\n\")}) \n",
    "      #-------------------\n",
    "      j <- j + 1;\n",
    "    }\n",
    "    i <- i + 1;\n",
    "  }\n",
    "}"
   ]
  },
  {
   "cell_type": "markdown",
   "metadata": {},
   "source": [
    "Now, we call the function <B><I>findOptimalNumClust.hc()</I></B> and send the desired parameters including: the distance matrices for the two datasets we are clustering, the model type, and the threshold for the adjust rand index values. Before running the following script, set the four parameters to the dsired values, then run the script."
   ]
  },
  {
   "cell_type": "code",
   "execution_count": null,
   "metadata": {
    "ExecuteTime": {
     "end_time": "2017-06-09T16:53:36.127925Z",
     "start_time": "2017-06-09T16:53:35.908Z"
    },
    "cell_style": "center",
    "code_folding": [],
    "format": "row",
    "scrolled": true
   },
   "outputs": [],
   "source": [
    "# Set/Change the parameters as desired:\n",
    "# 1st parameter: distance matrix for the 1st dataset (one of the two versions of L1K++ data)\n",
    "# 2nd parameter: distance matrix for the 2nd dataset (CCLE | RNAseq)\n",
    "# (see section: \"Computing Cell Line Distance\" to find the matrices names)\n",
    "# 3rd parameter: cluster link type = {complete | average}\n",
    "# 4th parameter: threshold to print the numbers of clusters that gives ARI are >= threshold\n",
    "# Here we are setting the parameters to some values\n",
    "dist.mat  <- cor.mat.lc\n",
    "dist.mat2 <- cor.mat.c\n",
    "link      <- \"complete\"\n",
    "threshold <- 0.25\n",
    "\n",
    "#---------------------------------------------------------\n",
    "findOptNumClust.hc(dist.mat, dist.mat2, link, threshold)"
   ]
  },
  {
   "cell_type": "markdown",
   "metadata": {},
   "source": [
    "The output above helps us pick the best number of clusters for each one of the two datasets based on the clustering adjust rand index. It shows different combinations of the number of clusters for the two datasets we are studying.\n",
    "\n",
    "After many experiments, we have the next tables that show the top results of the clustering analysis based on the adjust rand values. For L1K++ vs. RNAseq, the hierarchical clustering based on Mahalanobis distance is the best we can obtain from the two datasets. For L1K++ vs. CCLE, the top adjust rand values using different distance metrics are significantly higher than the ones resulted from the previous two datasets (L1K++ vs. RNAseq). "
   ]
  },
  {
   "cell_type": "markdown",
   "metadata": {},
   "source": [
    "<table><tr><td><img src='./hclust_result1.png' style=\"width: 800px;\"></td></tr><tr><td><img src='hclust_result2.png' style=\"width: 800px;\"></td></tr></table>"
   ]
  },
  {
   "cell_type": "markdown",
   "metadata": {},
   "source": [
    "To visualize the clustering results for L1K++ against each one of the other two datasets, we can change the parameters of the following functions to visualize any dataset clustering result selecting a distance matrix, number of clusters, and visualization format."
   ]
  },
  {
   "cell_type": "code",
   "execution_count": null,
   "metadata": {
    "ExecuteTime": {
     "end_time": "2017-06-09T16:53:46.811719Z",
     "start_time": "2017-06-09T16:53:46.772Z"
    },
    "collapsed": true
   },
   "outputs": [],
   "source": [
    "# Set/Change the parameters as desired:\n",
    "# 1st parameter: distance matrix for the 1st dataset (one of the two versions of L1K++ data)\n",
    "# 2nd parameter: distance matrix for the 2nd dataset (CCLE | RNAseq)\n",
    "# (see section: \"Computing Cell Line Distance\" to find the matrices names)\n",
    "# 3rd parameter: Number of clusters for the 1st data matrix (just to color the resulted tree)\n",
    "# 4th parameter: Number of clusters for the 2nd data matrix (just to color the resulted tree)\n",
    "# 5th parameter: cluster link type = {complete | average}\n",
    "#.......\n",
    "# Note:\n",
    "#.......\n",
    "# if you run this script without any change, it will use the distance matrices used above \n",
    "# to find the optimal clustering. Although, you can change the nubmer of clusters for each dataset\n",
    "# even if you keep the other parameters the same.\n",
    "dist.mat  <- cor.mat.lc\n",
    "dist.mat2 <- cor.mat.c\n",
    "nuClust   <- 5\n",
    "nuClust2  <- 5\n",
    "link      <- \"complete\""
   ]
  },
  {
   "cell_type": "code",
   "execution_count": null,
   "metadata": {
    "ExecuteTime": {
     "end_time": "2017-06-09T16:53:52.837225Z",
     "start_time": "2017-06-09T16:53:52.631Z"
    },
    "run_control": {
     "marked": false
    }
   },
   "outputs": [],
   "source": [
    "hc <- hclust(dist.mat, method = link)\n",
    "y = cutree(hc, nuClust)\n",
    "par(cex=.6, cex.main=1.5)\n",
    "ColorDendrogram(hc, y = y, labels = names(y), main = \"Cell Line Clustering\", branchlength = 0.1, xlab=\"\")\n",
    "options(repr.plot.width=8, repr.plot.height=5)\n",
    "#.....................................................\n",
    "hc2 <- hclust(dist.mat2, method = link)\n",
    "y2 = cutree(hc2, nuClust2)\n",
    "par(cex=.6, cex.main=1.5)\n",
    "ColorDendrogram(hc2, y = y2, labels = names(y2), main = \"Cell Line Clustering\", branchlength = 0.1, xlab=\"\")\n",
    "options(repr.plot.width=8, repr.plot.height=5)"
   ]
  },
  {
   "cell_type": "markdown",
   "metadata": {},
   "source": [
    "The following script is just another way to visualize the hierarchical clustering for the two datasets."
   ]
  },
  {
   "cell_type": "code",
   "execution_count": null,
   "metadata": {
    "ExecuteTime": {
     "end_time": "2017-06-09T16:54:01.245297Z",
     "start_time": "2017-06-09T16:54:00.890Z"
    }
   },
   "outputs": [],
   "source": [
    "hc <- hclust(dist.mat, method = link)\n",
    "hcd = as.dendrogram(hc, hang=0.3)\n",
    "par(cex=.6, cex.main=1.5)\n",
    "plot(hcd, type = \"triangle\", main= \"Cell Line Clustering\")\n",
    "options(repr.plot.width=9, repr.plot.height=5)\n",
    "\n",
    "hc2 <- hclust(dist.mat2, method = link)\n",
    "hcd2 = as.dendrogram(hc2, hang=0.3)\n",
    "par(cex=.6, cex.main=1.5)\n",
    "plot(hcd2, type = \"triangle\", main= \"Cell Line Clustering\")\n",
    "options(repr.plot.width=9, repr.plot.height=5)"
   ]
  },
  {
   "cell_type": "markdown",
   "metadata": {},
   "source": [
    "The following script show the clustering for the two datasets in a different way from the trees. You can set the format of the plot by choosing one of these options:"
   ]
  },
  {
   "cell_type": "code",
   "execution_count": null,
   "metadata": {
    "ExecuteTime": {
     "end_time": "2017-06-09T16:54:09.381550Z",
     "start_time": "2017-06-09T16:54:09.361Z"
    },
    "collapsed": true
   },
   "outputs": [],
   "source": [
    "# format: \"unrooted\" | \"fan\" | \"radial\"\n",
    "format <- \"unrooted\""
   ]
  },
  {
   "cell_type": "code",
   "execution_count": null,
   "metadata": {
    "ExecuteTime": {
     "end_time": "2017-06-09T16:54:13.892432Z",
     "start_time": "2017-06-09T16:54:13.710Z"
    }
   },
   "outputs": [],
   "source": [
    "#.......................\n",
    "clus <- cutree(hclust(dist.mat, method = link), nuClust)\n",
    "pal = rainbow(nuClust, alpha=0.95) \n",
    "par(cex=.9, cex.main=1.5, mar=c(0,0,0,0))\n",
    "options(repr.plot.width=5, repr.plot.height=5)\n",
    "plot(as.phylo(hclust(dist.mat, method = link)), type = format , tip.color = pal[clus]) # unrooted , fan, radial\n",
    "#.......................................................................\n",
    "clus2 <- cutree(hclust(dist.mat2, method = link), nuClust2)\n",
    "pal2 = rainbow(nuClust2, alpha=0.95) \n",
    "par(cex=.9, cex.main=1.5, mar=c(0,0,0,0))\n",
    "options(repr.plot.width=5, repr.plot.height=5)\n",
    "plot(as.phylo(hclust(dist.mat2, method = link)), type = format , tip.color = pal2[clus2]) # unrooted , fan, radial"
   ]
  },
  {
   "cell_type": "markdown",
   "metadata": {
    "format": "row",
    "hide_input": false
   },
   "source": [
    "###### Model-based Clustering"
   ]
  },
  {
   "cell_type": "markdown",
   "metadata": {},
   "source": [
    "Since we are clustering to benchmark cell line similarities in L1K++ with each one of the two datasets: CCLE, RNAseq, we want to find the optimal number of clusters that gives the highest adjust rand index for each two datasets.  \n",
    "  \n",
    "The following script includes a function that generates hc objects for the two datasets to initialize the mclust with."
   ]
  },
  {
   "cell_type": "code",
   "execution_count": null,
   "metadata": {
    "ExecuteTime": {
     "end_time": "2017-06-09T16:54:21.856666Z",
     "start_time": "2017-06-09T16:54:21.835Z"
    },
    "code_folding": [
     1
    ],
    "collapsed": true
   },
   "outputs": [],
   "source": [
    "findOptimalNumClust.mc <- function(data1, data2, threshold, model.h, model.m)\n",
    "{\n",
    "hc1 <<- hc(data1, modelName = model.h)\n",
    "hc2 <<- hc(data2, modelName = model.h)\n",
    "for(g1 in 2:15)\n",
    "{\n",
    "  for(g2 in 2:15)\n",
    "  {\n",
    "    mc1 <- Mclust(data1, modelNames = model.m, G = g1, initialization = list(hcPairs= hc1))\n",
    "    mc2 <- Mclust(data2, modelNames = model.m, G = g2, initialization = list(hcPairs= hc2))\n",
    "    tryCatch({\n",
    "      if(adjustedRandIndex(mc1$classification, mc2$classification) >= threshold)\n",
    "      {\n",
    "        ARI  <- adjustedRandIndex(mc1$classification, mc2$classification)\n",
    "        cat(\"# clusters_L1K :\", g1, \"\\n\")\n",
    "        cat(\"# clusters_2nd :\", g2, \"\\n\")\n",
    "        cat(\"threshold :\", threshold, \"\\n\")\n",
    "        \n",
    "        cat(\"ARI :\", ARI, \"\\n\")\n",
    "        cat(\"---------------------------------\\n\")\n",
    "      }\n",
    "    }, error=function(e){cat(\"ERROR :\",conditionMessage(e), \"\\n\")})\n",
    "  }\n",
    "}\n",
    "}"
   ]
  },
  {
   "cell_type": "markdown",
   "metadata": {},
   "source": [
    "Now we call the function after setting the parameters to the desired values."
   ]
  },
  {
   "cell_type": "code",
   "execution_count": null,
   "metadata": {
    "ExecuteTime": {
     "end_time": "2017-06-09T16:55:58.157707Z",
     "start_time": "2017-06-09T16:54:27.864Z"
    },
    "scrolled": true
   },
   "outputs": [],
   "source": [
    "#------------------------------------------------------------------\n",
    "# There are 4 data matrices(their names on the right hand):\n",
    "#------------------------------------------------------------------\n",
    "# L1Kc:   its cell lines intersect with CCLE    --> scaled.L1K.inters\n",
    "# CCLE:    ---     ---     ---     ---     ---  --> scaled.CCLE.res.inters\n",
    "# L1Ka:   its cell lines intersect with RNAseq  --> scaled.L1K.inters.ax\n",
    "# RNAseq:  ---     ---     ---     ---     ---  --> scaled.RNAseq.inters\n",
    "data1      <<- scaled.L1K.inters\n",
    "data2      <<- scaled.CCLE.res.inters\n",
    "#------------------------------------------------------------------\n",
    "threshold  <<- 0.06   # threshold of Adjust rand index values\n",
    "model.h    <<- \"EEE\"  # pick one of those two models {EEE | EII} for hc\n",
    "model.m    <<- \"EEI\"  # pick one of those two models {EEI | EII} for mclust\n",
    "#------------------------------------------------------------------\n",
    "\n",
    "findOptimalNumClust.mc(data1, data2, threshold, model.h, model.m)"
   ]
  },
  {
   "cell_type": "markdown",
   "metadata": {},
   "source": [
    "After getting the output of the function, we can select the number of clusters for each of the two datasets we are testing, which gives the largest value of the adjust index rand for the two clusterings. We use these parameters to build the final clusterings in order to visualize."
   ]
  },
  {
   "cell_type": "code",
   "execution_count": null,
   "metadata": {
    "ExecuteTime": {
     "end_time": "2017-06-09T16:56:06.675075Z",
     "start_time": "2017-06-09T16:56:06.299Z"
    },
    "collapsed": true
   },
   "outputs": [],
   "source": [
    "# Let's say that these numbers of clusters gave the largest ARI value, \n",
    "# we can start building the final clustering based on that\n",
    "numClust1 <- 4\n",
    "numClust2 <- 10\n",
    "mc1 <- Mclust(data1, modelNames = model.m, G = numClust1, initialization = list(hcPairs= hc1))\n",
    "mc2 <- Mclust(data2, modelNames = model.m, G = numClust2, initialization = list(hcPairs= hc2))"
   ]
  },
  {
   "cell_type": "markdown",
   "metadata": {},
   "source": [
    "Then following script prints the clustering results for each one of the two clusterings."
   ]
  },
  {
   "cell_type": "code",
   "execution_count": null,
   "metadata": {
    "ExecuteTime": {
     "end_time": "2017-06-09T16:56:14.135176Z",
     "start_time": "2017-06-09T16:56:14.075Z"
    },
    "scrolled": true
   },
   "outputs": [],
   "source": [
    "cat(\"..............................................\\n\")\n",
    "cat(\"L1K++ Clusters\\n\")\n",
    "cat(\"..............................................\\n\")\n",
    "clusters.lc <- sapply(1:numClust1, function(x){names(which(mc1$classification == x))})\n",
    "noquote(clusters.lc)\n",
    "cat(\"..............................................\\n\")\n",
    "cat(\"2nd Dataset Clusters\\n\")\n",
    "cat(\"..............................................\\n\")\n",
    "clusters.c  <- sapply(1:numClust2, function(x){names(which(mc2$classification == x))})\n",
    "noquote(clusters.c)"
   ]
  },
  {
   "cell_type": "markdown",
   "metadata": {},
   "source": [
    "Now you can use <B><I>\"fviz_cluster\"</I></B> that uses principal components to visualize the clustering for each of the two tested datasets."
   ]
  },
  {
   "cell_type": "code",
   "execution_count": null,
   "metadata": {
    "ExecuteTime": {
     "end_time": "2017-06-09T16:56:23.048065Z",
     "start_time": "2017-06-09T16:56:21.411Z"
    },
    "format": "row",
    "scrolled": false
   },
   "outputs": [],
   "source": [
    "options(warn=-1)\n",
    "options(repr.plot.width=9, repr.plot.height=5)\n",
    "fviz_cluster(mc1, frame.type = \"norm\", geom = \"text\", main = \"L1K++ Clusters\")\n",
    "fviz_cluster(mc2, frame.type = \"norm\", geom = \"text\", main = \"Second Datasets Clusters\")"
   ]
  },
  {
   "cell_type": "markdown",
   "metadata": {},
   "source": [
    "### Part 2: Integrating with KINOMEscan Data"
   ]
  },
  {
   "cell_type": "markdown",
   "metadata": {
    "heading_collapsed": true
   },
   "source": [
    "#### KINOMEscan Data from HMS"
   ]
  },
  {
   "cell_type": "markdown",
   "metadata": {
    "hidden": true
   },
   "source": [
    "For this part, we used the HMS KINOMEscan data. We found 87 drug datasets with 10 Mu drug concentration and ~440 kinases. Each dataset contains the % control/binding for each kinase as a drug response, where 100% of control means no inhibition of kinase binding, while low percent of control indicates strong inhibition."
   ]
  },
  {
   "cell_type": "markdown",
   "metadata": {
    "hidden": true
   },
   "source": [
    "The following script downloads all the KINOMEscan datasets in [HMS LINCS KINOMEscan Database](http://lincs.hms.harvard.edu/db/). There are 165 KINOMEscan datasets."
   ]
  },
  {
   "cell_type": "code",
   "execution_count": null,
   "metadata": {
    "collapsed": true,
    "hidden": true
   },
   "outputs": [],
   "source": [
    "#========================================================================================\n",
    "# KINOMEscan Data\n",
    "#========================================================================================\n",
    "\n",
    "# Downloaded the table of KINOMEscan datasets from HMS KINOMEscan \n",
    "# Read the datasets indices file\n",
    "Datasets.table   <- read.csv(file = \"datasetIndex_20170403225015.csv\",sep=\",\", row.names = 1, check.names = F, stringsAsFactors=FALSE) \n",
    "dim(Datasets.table) # 165 Datasets (165 drugs, ~ 400 kinases)\n",
    "Datasets.indices   <- sort(rownames(Datasets.table)) \n",
    "Datasets.indices[1:10] # 165 Datasets for each drug (~ 400 kinases)\n",
    "\n",
    "#Download the KINOMEscan datasets for all small molecules (~440 kinases) \n",
    "# 165 datasets = 106 with control percentage for 106 small molecules (different concenterations) + (56 with kd measurements + 3 with no info)\n",
    "# 106 = 84 with 10uM concentration + 15 with 1uM + 3 with 1&10 uM + 4 with 100 & 1000 uM\n",
    "baseURL     <- 'http://lincs.hms.harvard.edu/db/datasets/'\n",
    "suffixURL   <- '/results?search=&output_type=.csv'\n",
    "for(DS.index in Datasets.indices)\n",
    "{\n",
    "  datestring  <- toString(DS.index) \n",
    "  url2fetch <- paste(baseURL, datestring, suffixURL, sep='')\n",
    "  download.file(url2fetch,destfile=paste0(datestring, \".csv\"),method=\"libcurl\")\n",
    "}"
   ]
  },
  {
   "cell_type": "markdown",
   "metadata": {
    "hidden": true
   },
   "source": [
    "Then, we read the file that contains all the ID's available for the ~440 proteins including: prtein names, HMS LINCS IDs, UniProt IDs, Gene symbols, and Gene ID's. The number fo unique ID's is commented in the script. Then, each ID type is stored separately to be used in the next steps."
   ]
  },
  {
   "cell_type": "code",
   "execution_count": null,
   "metadata": {
    "collapsed": true,
    "hidden": true
   },
   "outputs": [],
   "source": [
    "#.....................................................\n",
    "# Read the file contains the 494 protein id's\n",
    "#.....................................................\n",
    "Proteins.table   <- read.csv(file = \"494_proteins_20170407074852.csv\",sep=\",\", check.names = F, stringsAsFactors=FALSE) \n",
    "dim(Proteins.table) # 494 x 22\n",
    "\n",
    "# we are going to use gene entrez ids\n",
    "length(unique(Proteins.table$Name))             # protein names (494 unique) \n",
    "length(unique(Proteins.table$`HMS LINCS ID`))   # HMS LINCS IDs (494 unique)\n",
    "length(unique(Proteins.table$`UniProt ID`))     # UniProt IDs (395)\n",
    "length(unique(Proteins.table$`Gene Symbol`))    # Gene Symbol (396)\n",
    "length(unique(Proteins.table$`Gene ID`))        # Gene ID (396)\n",
    "\n",
    "protein.names           <- as.vector(Proteins.table$Name)\n",
    "protein.HMS.LINCS.IDs   <- as.vector(Proteins.table$`HMS LINCS ID`)\n",
    "protein.UniProt.IDs     <- as.vector(Proteins.table$`UniProt ID`)\n",
    "protein.gene.symbols    <- as.vector(Proteins.table$`Gene Symbol`)\n",
    "protein.gene.ids        <- as.vector(Proteins.table$`Gene ID`)\n"
   ]
  },
  {
   "cell_type": "markdown",
   "metadata": {
    "hidden": true
   },
   "source": [
    "The next scripts reads the drug response data with 10 Mu concentration to build the percent of control matrix (Compounds x Proteins)."
   ]
  },
  {
   "cell_type": "code",
   "execution_count": null,
   "metadata": {
    "collapsed": true,
    "hidden": true
   },
   "outputs": [],
   "source": [
    "#.....................................................\n",
    "# Fill in the % control matrix (compounds vs. kinases)    --KINOMEscan Data\n",
    "#.....................................................\n",
    "# Compound binding data with different Concentrations 10, 1 & 10, 1, and \n",
    "# 100&1000 uM (extract data with concentration 10, and ignore the rest) \n",
    "# Get the drug binding file names that were downloaded automatically (files contain data for concentration 10 uM only)\n",
    "filenames             <- list.files(\"KINOMEscanData/\")\n",
    "# The control percentage matrix (106 compounds x ~ 494 proteins)\n",
    "ctrl.percentages.10uM.mat <- matrix(NA, 106, 494, dimnames = list(seq(1:106), protein.names))\n",
    "# Fill in the control percentage matrix (compounds' HMS LINCS IDs vs. kinases' names)\n",
    "for(i in 1:length(filenames))\n",
    "{\n",
    "  drug.bindings   <- read.csv(file = paste0(\"KINOMEscanData/\", filenames[i]), sep = \",\", check.names = F, stringsAsFactors=FALSE) \n",
    "  drug.bindings   <- drug.bindings[which(drug.bindings$`Assay compound conc` == 10), ]\n",
    "  drug.bindings   <- drug.bindings[!duplicated(drug.bindings), ]\n",
    "  proteins        <- intersect(drug.bindings$`Protein Name`, protein.names)\n",
    "  sapply(proteins, function(p){\n",
    "    ctrl.percentages.10uM.mat[i, p] <<- drug.bindings[which(drug.bindings$`Protein Name` == p), \"% Control\"]})\n",
    "  row.names(ctrl.percentages.10uM.mat)[i] <- sub(pattern = \"(\\\\d+\\\\-\\\\d+).*\", replacement = \"\\\\1\", toString(drug.bindings$`Small Molecule HMS LINCS ID`[1]))\n",
    "}"
   ]
  },
  {
   "cell_type": "markdown",
   "metadata": {
    "hidden": true
   },
   "source": [
    "Next, we clean the matrix and remove NA's."
   ]
  },
  {
   "cell_type": "code",
   "execution_count": null,
   "metadata": {
    "collapsed": true,
    "hidden": true
   },
   "outputs": [],
   "source": [
    "#.....................................................\n",
    "# remove rows/columns with NA's only from the % control matrix\n",
    "#.....................................................\n",
    "ctrl.percentages.10uM.mat <- ctrl.percentages.10uM.mat[-which(apply(ctrl.percentages.10uM.mat, 1, function(x) all(is.na(x)))), ]\n",
    "dim(ctrl.percentages.10uM.mat)\n",
    "ctrl.percentages.10uM.mat <- ctrl.percentages.10uM.mat[, -which(apply(ctrl.percentages.10uM.mat, 2, function(x) all(is.na(x))))]\n",
    "dim(ctrl.percentages.10uM.mat)"
   ]
  },
  {
   "cell_type": "markdown",
   "metadata": {
    "hidden": true
   },
   "source": [
    "<U><B>ID's Mapping for KINOMEscan Data:</B><U>"
   ]
  },
  {
   "cell_type": "markdown",
   "metadata": {
    "hidden": true
   },
   "source": [
    "In order to integrate KINOMEscan data with the L1000 LINCS data, we map the proteins to their corresponding genes."
   ]
  },
  {
   "cell_type": "code",
   "execution_count": null,
   "metadata": {
    "ExecuteTime": {
     "end_time": "2017-06-09T11:10:26.040256Z",
     "start_time": "2017-06-09T11:10:25.928Z"
    },
    "collapsed": true,
    "hidden": true
   },
   "outputs": [],
   "source": [
    "#.....................................................\n",
    "# Map proteins to gene entrez id's\n",
    "#.....................................................\n",
    "gene.entrez.ids <- Proteins.table[which(Proteins.table$Name %in% colnames(ctrl.percentages.10uM.mat)), \"Gene ID\"]\n",
    "colnames(ctrl.percentages.10uM.mat) <- gene.entrez.ids\n",
    "dim(ctrl.percentages.10uM.mat) # 87 compounds x 482 kinases"
   ]
  },
  {
   "cell_type": "markdown",
   "metadata": {
    "hidden": true
   },
   "source": [
    "Also, we need to map the compounds/drugs in KINOMEscan data to their corresponding LINCS IDs to prepare the data for the integration."
   ]
  },
  {
   "cell_type": "code",
   "execution_count": null,
   "metadata": {
    "collapsed": true,
    "hidden": true
   },
   "outputs": [],
   "source": [
    "#.....................................................\n",
    "# Map drugs in KINOMEscan data to LINCS IDs\n",
    "#.....................................................\n",
    "# \"small molecules table\" for HMS data (all molecules used in HMS datasets \n",
    "# whether it is KINOMEscan or other dataset)\n",
    "HMS.587.molecules         <- read.csv(file = \"587_small_molecule_HMS.csv\",sep=\",\", row.names = 1, check.names = F, stringsAsFactors=FALSE)  # 587 drugs\n",
    "\n",
    "# use the HMS.LINCS.IDs (extracted from the KINOMEscan datasets) to \n",
    "# subset the HMS.587.molecules matrix that has all drug ids \n",
    "# to be used later (with L1K++ dataset)\n",
    "HMS.LINCS.IDs             <- rownames(ctrl.percentages.10uM.mat) # 87 drugs with 10 uM concentration\n",
    "# subset the id columns we are interested in\n",
    "molecules.87.ids.mat      <- HMS.587.molecules[HMS.LINCS.IDs, c(3,4,1,8,9,10)]\n",
    "# bind the extracted drug ids to the % control matrix (drugs x proteins)\n",
    "ctrl.percentages.10uM.mat <- cbind(molecules.87.ids.mat, ctrl.percentages.10uM.mat)\n",
    "head(ctrl.percentages.10uM.mat)"
   ]
  },
  {
   "cell_type": "markdown",
   "metadata": {
    "heading_collapsed": true
   },
   "source": [
    "#### L1000 LINCS Data from L1K++ Pipeline"
   ]
  },
  {
   "cell_type": "markdown",
   "metadata": {
    "hidden": true
   },
   "source": [
    "From the previous scripts, we generated the percent of control matrix for the KINOMEscan data (Compounds x Genes). Next, we need to prepare the L1000 LINCS data from L1K++ pipeline for the integration.\n",
    "\n",
    "The following script reads the data (including control data and data after perturbation) for one of the 71 one cell lines in the LINCS data. We studied three popular cell lines in this part: MCF7, A549, and VCAP. Before running the following script, you can change the name of the files by only replacing the cell line name with the desired one to study."
   ]
  },
  {
   "cell_type": "code",
   "execution_count": null,
   "metadata": {
    "ExecuteTime": {
     "end_time": "2017-06-09T11:45:01.133294Z",
     "start_time": "2017-06-09T11:45:01.108Z"
    },
    "collapsed": true,
    "hidden": true
   },
   "outputs": [],
   "source": [
    "#========================================================================================\n",
    "# L1K++ (MCF7 | A549 | VCAP, ensemble 2.5) >> pert_type: trt_cp & cell_id: MCF7/A549 & pert_dose: 10uM & pert_time: 6h \n",
    "#========================================================================================\n",
    "\n",
    "#.....................................................\n",
    "# Read L1K++ data (MCF7 | A549 | VCAP, 10uM, 6h)\n",
    "#.....................................................\n",
    "pert.L1K.VCAP   <- read.csv(file = \"LINCS/entrez_VCAP_trt_cp_10uM_6h.tsv\", sep = \"\\t\", check.names = F, stringsAsFactors=FALSE)  # 5736 drugs x 978 genes\n",
    "ctrl.L1K.VCAP   <- read.csv(file = \"LINCS/entrez_VCAP_ctr_trt_cp_10uM_6h.tsv\", sep = \"\\t\", check.names = F, stringsAsFactors=FALSE)  # 5736 drugs x 978 genes\n",
    "head(pert.L1K.VCAP)\n",
    "head(ctrl.L1K.VCAP)"
   ]
  },
  {
   "cell_type": "markdown",
   "metadata": {
    "ExecuteTime": {
     "end_time": "2017-06-09T11:47:19.606360Z",
     "start_time": "2017-06-09T11:47:19.588Z"
    },
    "hidden": true
   },
   "source": [
    "##### ID's Mapping for L1K++ Data:"
   ]
  },
  {
   "cell_type": "markdown",
   "metadata": {
    "hidden": true
   },
   "source": [
    "###### Drugs/Small Molecules Mapping"
   ]
  },
  {
   "cell_type": "markdown",
   "metadata": {
    "hidden": true
   },
   "source": [
    "For LINCS data, we only need to map the drug IDs. The following script reads the metadata for the cell line and another metadata file contains all the drugs in L1K++ to map the drug IDs."
   ]
  },
  {
   "cell_type": "code",
   "execution_count": null,
   "metadata": {
    "collapsed": true,
    "hidden": true
   },
   "outputs": [],
   "source": [
    "#small molecules table for LINCS data (MCF7 | A549 | VCAP) (contains only perturbations/drugs ids) \n",
    "# --metadata downloaded along with L1K++ data for 5736 small molecules\n",
    "small.molecules.LINCS.VCAP <- read.csv(file = \"LINCS/small_molecules_VCAP_10uM_6h_meta.tsv\",sep=\"\\t\", check.names = F, stringsAsFactors=FALSE) \n",
    "trt.cp.compounds.mapping   <- read.csv(file = \"LINCS/trt_cp_compounds_L1K.csv\", sep = \",\", check.names = F, header = T, stringsAsFactors=FALSE) \n",
    "\n",
    "# Replace the sample/experiment name with the pert id only\n",
    "row.names(pert.L1K.VCAP) <- sub(pattern = \"(\\\\d+).*\", replacement = \"\\\\1\", pert.L1K.VCAP[, 1])\n",
    "row.names(ctrl.L1K.VCAP) <- sub(pattern = \"(\\\\d+).*\", replacement = \"\\\\1\", ctrl.L1K.VCAP[, 1])\n",
    "pert.L1K.VCAP   <- pert.L1K.VCAP[, -1]\n",
    "ctrl.L1K.VCAP   <- ctrl.L1K.VCAP[, -1]\n",
    "\n",
    "# concatenate the id's table from L1K++ to the L1K++ VCAP data\n",
    "pert.L1K.VCAP   <- cbind(small.molecules.LINCS.VCAP, pert.L1K.VCAP)\n",
    "ctrl.L1K.VCAP   <- cbind(small.molecules.LINCS.VCAP, ctrl.L1K.VCAP)\n",
    "pert.L1K.VCAP[pert.L1K.VCAP == \"''\"] <- \"\"\n",
    "ctrl.L1K.VCAP[ctrl.L1K.VCAP == \"''\"] <- \"\""
   ]
  },
  {
   "cell_type": "markdown",
   "metadata": {
    "hidden": true
   },
   "source": [
    "Now, we have two L1K++ matrices. One is for the control data, and the other is for the perturbed data. The script below merges the ID's obtained previously with the gene expression matrices."
   ]
  },
  {
   "cell_type": "code",
   "execution_count": null,
   "metadata": {
    "collapsed": true,
    "hidden": true
   },
   "outputs": [],
   "source": [
    "#.....................................................\n",
    "# Adding LINCS IDs to the L1K++ data matrices (trt_ & ctrl)\n",
    "#.....................................................\n",
    "\n",
    "# merge the LINCS IDs (using pubchem ids) with the L1K++ data matrix\n",
    "tmp.pert <- merge(trt.cp.compounds.mapping, pert.L1K.MCF7, by.x = c(\"SM_Center_Canonical_ID\", \"SM_PubChem_CID\", \"SM_SMILES\", \"InChIKey\", \"InChI\", \"pert_iname\"), by.y = c(\"pert_id\", \"pubchem_cid\", \"canonical_smiles\", \"inchi_key\", \"inchi_string\", \"pert_iname\"), all.y = T)\n",
    "tmp.ctrl <- merge(trt.cp.compounds.mapping, ctrl.L1K.MCF7, by.x = c(\"SM_Center_Canonical_ID\", \"SM_PubChem_CID\", \"SM_SMILES\", \"InChIKey\", \"InChI\", \"pert_iname\"), by.y = c(\"pert_id\", \"pubchem_cid\", \"canonical_smiles\", \"inchi_key\", \"inchi_string\", \"pert_iname\"), all.y = T)\n",
    "x <- tmp.pert[duplicated(tmp.pert), ]\n",
    "x <- tmp.ctrl[duplicated(tmp.ctrl), ]\n",
    "\n",
    "rownames(tmp.pert) <- c(1:nrow(tmp.pert))\n",
    "rownames(tmp.ctrl) <- c(1:nrow(tmp.ctrl))\n",
    "\n",
    "pert.L1K.MCF7  <- tmp.pert\n",
    "ctrl.L1K.MCF7  <- tmp.ctrl\n",
    "dim(pert.L1K.MCF7)\n",
    "dim(ctrl.L1K.MCF7)\n"
   ]
  },
  {
   "cell_type": "markdown",
   "metadata": {
    "hidden": true
   },
   "source": [
    "After mapping the ID's, the next script computes 1.5 fold-change for gene expressions in L1K++ data using the control and perturbed matrices generated above."
   ]
  },
  {
   "cell_type": "code",
   "execution_count": null,
   "metadata": {
    "collapsed": true,
    "hidden": true
   },
   "outputs": [],
   "source": [
    "#.....................................................\n",
    "# fold change for ensemble L1K++ for cell line MCF7\n",
    "#.....................................................\n",
    "L1K.MCF7.FC <- as.data.frame.numeric(0) #matrix()\n",
    "L1K.MCF7.FC <- cbind(pert.L1K.MCF7[, 1:8])\n",
    "L1K.MCF7.FC <- cbind(L1K.MCF7.FC, pert.L1K.MCF7[, 9:986] - ctrl.L1K.MCF7[, 9:986])\n",
    "rownames(L1K.MCF7.FC) <- rownames(pert.L1K.MCF7)\n",
    "colnames(L1K.MCF7.FC) <- colnames(pert.L1K.MCF7)\n",
    "L1K.MCF7.FC   <- L1K.MCF7.FC[!duplicated(L1K.MCF7.FC), ]\n",
    "rownames(L1K.MCF7.FC) <- 1:nrow(L1K.MCF7.FC)\n",
    "\n",
    "# --------------------------------------------------\n",
    "# Remove entries from KINOMEscan data with no LINCS IDs (2 entries). I checked if I can find those drugs\n",
    "# using their other ids, but nothing found.\n",
    "ctrl.percentages.10uM.mat <- ctrl.percentages.10uM.mat[-c(which(ctrl.percentages.10uM.mat$`LINCS ID` == \"\"), which(ctrl.percentages.10uM.mat$`LINCS ID` %in% setdiff(ctrl.percentages.10uM.mat$`LINCS ID`, L1K.MCF7.FC$LINCS_ID))), ]\n",
    "HMS.ids <- rownames(ctrl.percentages.10uM.mat)\n",
    "rownames(ctrl.percentages.10uM.mat) <- ctrl.percentages.10uM.mat$`LINCS ID`\n",
    "ctrl.percentages.10uM.mat$`LINCS ID` <- HMS.ids\n",
    "colnames(ctrl.percentages.10uM.mat)[1] <- \"HMS ID\"\n",
    "\n",
    "for(i in rownames(ctrl.percentages.10uM.mat))\n",
    "{\n",
    "  #tryCatch({\n",
    "  ctrl.percentages.10uM.mat[i, 5] <- paste0(\"InChIKey=\", ctrl.percentages.10uM.mat[i, 5])\n",
    "  #}, error=function(e){cat(\"ERROR :\",conditionMessage(e), \"\\n\")})\n",
    "}\n",
    "head(L1K.MCF7.FC)"
   ]
  },
  {
   "cell_type": "markdown",
   "metadata": {
    "heading_collapsed": true
   },
   "source": [
    "#### L1K++ Data vs. KINOMEscan Data"
   ]
  },
  {
   "cell_type": "markdown",
   "metadata": {
    "hidden": true
   },
   "source": [
    "After preparing the KINOMEscan data and L1K++ data, we find the intersection of the two datasets based on the genes and drugs they have in common."
   ]
  },
  {
   "cell_type": "code",
   "execution_count": null,
   "metadata": {
    "collapsed": true,
    "hidden": true
   },
   "outputs": [],
   "source": [
    "#===============================================================================\n",
    "# L1K++ vs. KINOMEscan\n",
    "#===============================================================================\n",
    "# Find intersection of drugs between Kinomescan and L1K++(MCF7)\n",
    "# .l:      LINCS ID\n",
    "# .p:      Pubchem CID\n",
    "# .InC:    InChi\n",
    "# .InCK:   InChi Key\n",
    "# .Smil:   Smiles\n",
    "# l --> L1K++ data\n",
    "# k --> KINOMEscan data\n",
    "drugs.l    <- intersect(rownames(ctrl.percentages.10uM.mat), L1K.MCF7.FC$LINCS_ID)           #61\n",
    "drugs.p    <- intersect(ctrl.percentages.10uM.mat$`PubChem CID`, L1K.MCF7.FC$SM_PubChem_CID) #50\n",
    "drugs.InC  <- intersect(ctrl.percentages.10uM.mat$InChi, L1K.MCF7.FC$InChI)                  #58\n",
    "drugs.InCK <- intersect(ctrl.percentages.10uM.mat$`InChi Key`, L1K.MCF7.FC$InChIKey)         #58\n",
    "drugs.Smi  <- intersect(ctrl.percentages.10uM.mat$SMILES, L1K.MCF7.FC$SM_SMILES)             #0\n"
   ]
  },
  {
   "cell_type": "markdown",
   "metadata": {
    "hidden": true
   },
   "source": [
    "There are 65 unique genes and ~80 drugs in common between KINOMEscan data and L1K++ data"
   ]
  },
  {
   "cell_type": "code",
   "execution_count": null,
   "metadata": {
    "collapsed": true,
    "hidden": true
   },
   "outputs": [],
   "source": [
    "# Checking the intersection for the current matrices\n",
    "# 65 unique genes in common\n",
    "entrez.genes <- intersect(colnames(ctrl.percentages.10uM.mat), colnames(L1K.MCF7.FC))\n",
    "# 120 columns for the 65 genes\n",
    "gene.cols <- which(colnames(ctrl.percentages.10uM.mat) %in% colnames(L1K.MCF7.FC))\n",
    "length(gene.cols)\n",
    "\n",
    "ctrl.percentages.10uM.mat <- ctrl.percentages.10uM.mat[drugs.l, c(1:6, gene.cols)]\n",
    "colnames(ctrl.percentages.10uM.mat) <- sub('\\\\..*', '', colnames(ctrl.percentages.10uM.mat))\n",
    "\n",
    "L1K.MCF7.FC <- L1K.MCF7.FC[which(L1K.MCF7.FC$LINCS_ID %in% drugs.l), c(colnames(L1K.MCF7.FC)[1:7], unique(colnames(ctrl.percentages.10uM.mat))[7:71])]\n",
    "rownames(L1K.MCF7.FC) <- 1:nrow(L1K.MCF7.FC)\n",
    "\n",
    "# There is only one duplicate in L1K.MCF7.FC\n",
    "# LSM-1051 has different pubchem and InChi key, so we picked the one \n",
    "# in commone and remove the other!\n",
    "which(duplicated(L1K.MCF7.FC$LINCS_ID))\n",
    "L1K.MCF7.FC <- L1K.MCF7.FC[-which(duplicated(L1K.MCF7.FC$LINCS_ID)), ]\n",
    "\n",
    "# To make the rows order identical in both matrices\n",
    "rownames(L1K.MCF7.FC) <- L1K.MCF7.FC$LINCS_ID\n",
    "L1K.MCF7.FC$LINCS_ID <- NULL\n",
    "L1K.MCF7.FC <- L1K.MCF7.FC[rownames(ctrl.percentages.10uM.mat), ]\n",
    "head(L1K.MCF7.FC)"
   ]
  },
  {
   "cell_type": "markdown",
   "metadata": {
    "hidden": true
   },
   "source": [
    "For L1K++, we tried different threshold to identify the drug response as 0 or 1, and we finally used 1.5. You can change the threshold from the following script before running it using the variable \"thrl\"."
   ]
  },
  {
   "cell_type": "code",
   "execution_count": null,
   "metadata": {
    "collapsed": true,
    "hidden": true
   },
   "outputs": [],
   "source": [
    "thrl <- 1.5      # Use 1.5 | 2\n",
    "\n",
    "#------- threshold L1K++ MCF7 ~4000 combinations of drug x gene\n",
    "disc.L1K.MCF7.FC <- L1K.MCF7.FC[, 7:71]\n",
    "indices1 <- which(abs(disc.L1K.MCF7.FC) >= thrl, arr.ind = TRUE) # 111  184\n",
    "indices0 <- which((abs(disc.L1K.MCF7.FC) < thrl & abs(disc.L1K.MCF7.FC) > -thrl), arr.ind = TRUE) # 3854  3781\n",
    "for(i in 1:nrow(indices1))\n",
    "{\n",
    "  disc.L1K.MCF7.FC[indices1[i, ][1], indices1[i, ][2]] <- 1\n",
    "}\n",
    "for(i in 1:nrow(indices0))\n",
    "{\n",
    "  disc.L1K.MCF7.FC[indices0[i, ][1], indices0[i, ][2]] <- 0\n",
    "}\n",
    "head(disc.L1K.MCF7.FC)"
   ]
  },
  {
   "cell_type": "markdown",
   "metadata": {
    "hidden": true
   },
   "source": [
    "For Kinomescan data, through literature search, the threshold %20-%35 is commonly used. In this study, we used %35 to identify the percent of control as 0 or 1. You can change the threshold from the following script before running it using the variable \"thrk\"."
   ]
  },
  {
   "cell_type": "code",
   "execution_count": null,
   "metadata": {
    "collapsed": true,
    "hidden": true
   },
   "outputs": [],
   "source": [
    "thrk <- 35        # Use %20 | %35\n",
    "#------- threshold KINOMEscan 35% ~7000 combinations of drug x gene\n",
    "disc.ctrl.percentages.10uM.mat <- ctrl.percentages.10uM.mat[, 7:126]\n",
    "colnames(disc.ctrl.percentages.10uM.mat) <- sub('\\\\..*', '', colnames(disc.ctrl.percentages.10uM.mat))\n",
    "indices1 <- which(disc.ctrl.percentages.10uM.mat <= thrk, arr.ind = TRUE) #1373    #1059\n",
    "indices0 <- which(disc.ctrl.percentages.10uM.mat > thrk, arr.ind = TRUE)  #4800    #5114\n",
    "for(i in 1:nrow(indices1))\n",
    "{\n",
    "  disc.ctrl.percentages.10uM.mat[indices1[i, ][1], indices1[i, ][2]] <- 1\n",
    "}\n",
    "for(i in 1:nrow(indices0))\n",
    "{\n",
    "  disc.ctrl.percentages.10uM.mat[indices0[i, ][1], indices0[i, ][2]] <- 0\n",
    "}\n",
    "\n",
    "head(disc.ctrl.percentages.10uM.mat)"
   ]
  },
  {
   "cell_type": "markdown",
   "metadata": {
    "hidden": true
   },
   "source": [
    "Based on the previous steps, we have two binary matrices. One is the KINOMEscan data and the other is the L1K++ data. Next, we create the contingency tables for the two datasets."
   ]
  },
  {
   "cell_type": "code",
   "execution_count": null,
   "metadata": {
    "collapsed": true,
    "hidden": true
   },
   "outputs": [],
   "source": [
    "#---------- contingency Table -------------\n",
    "TP <- 0\n",
    "FP <- 0\n",
    "FN <- 0\n",
    "TN <- 0\n",
    "TP.indices <- matrix(, ncol = 2)\n",
    "colnames(TP.indices) <- c(\"Compound\", \"Gene Entez\")\n",
    "for(i in 1: nrow(disc.ctrl.percentages.10uM.mat))\n",
    "{\n",
    "  for(j in 1:ncol(disc.ctrl.percentages.10uM.mat))\n",
    "  {\n",
    "    if(!(is.na(disc.ctrl.percentages.10uM.mat[i, j])))\n",
    "    {\n",
    "      if(disc.ctrl.percentages.10uM.mat[i, j] == 0 & disc.L1K.MCF7.FC[rownames(disc.ctrl.percentages.10uM.mat)[i], colnames(disc.ctrl.percentages.10uM.mat)[j]] == 0)\n",
    "        TN <- TN + 1\n",
    "      else if(disc.ctrl.percentages.10uM.mat[i, j] == 0 & disc.L1K.MCF7.FC[rownames(disc.ctrl.percentages.10uM.mat)[i], colnames(disc.ctrl.percentages.10uM.mat)[j]] == 1)\n",
    "        FP <- FP + 1\n",
    "      else if(disc.ctrl.percentages.10uM.mat[i, j] == 1 & disc.L1K.MCF7.FC[rownames(disc.ctrl.percentages.10uM.mat)[i], colnames(disc.ctrl.percentages.10uM.mat)[j]] == 0)\n",
    "        FN <- FN + 1\n",
    "      else if(disc.ctrl.percentages.10uM.mat[i, j] == 1 & disc.L1K.MCF7.FC[rownames(disc.ctrl.percentages.10uM.mat)[i], colnames(disc.ctrl.percentages.10uM.mat)[j]] == 1)\n",
    "      {\n",
    "        TP <- TP + 1\n",
    "        TP.indices <- rbind(TP.indices, c(rownames(disc.ctrl.percentages.10uM.mat)[i], colnames(disc.ctrl.percentages.10uM.mat)[j]))\n",
    "      }\n",
    "      \n",
    "    }\n",
    "  }\n",
    "}\n",
    "TP.indices <- TP.indices[-1, ] \n",
    "   \n",
    "cont.table = matrix(c(TP,FN,FP,TN), nrow = 2, dimnames = list(LINCS = c(\"T\", \"F\"),\n",
    "                                                              KINOMEscan = c(\"T\", \"F\")))\n",
    "cont.table\n",
    "fisher.test(cont.table)\n"
   ]
  },
  {
   "cell_type": "markdown",
   "metadata": {
    "hidden": true
   },
   "source": [
    "The contingency tables for three cell lines from L1K++ data used in the integration as shown below."
   ]
  },
  {
   "cell_type": "markdown",
   "metadata": {
    "hidden": true
   },
   "source": [
    "<table><tr><td><img src='./MCF7_t.png' style=\"width: 400px;\"></td><td><img src='A549_t.png' style=\"width: 400px;\"></td><td><img src='VCAP_t.png' style=\"width: 400px;\"></td></tr></table>"
   ]
  },
  {
   "cell_type": "markdown",
   "metadata": {
    "hidden": true
   },
   "source": [
    "We, then, computed the P-value for each table using fisher's exact test. The results are 0.3270, 0.3384, and 0.1273 for MCF7, A549, and VCAP respectively. This difference in p-values based on cell lines drew our attention to consider selecting cell lines with the same cancer type (cervical cancer) as HeLa cell that was used in KINOMEscan data.\n"
   ]
  },
  {
   "cell_type": "markdown",
   "metadata": {},
   "source": [
    "# References\n",
    "\n"
   ]
  },
  {
   "cell_type": "markdown",
   "metadata": {
    "cell_style": "center"
   },
   "source": [
    "[1] J. Drews, Drug Discovery: A Historical Perspective. Science, vol. 287, no. 5460, pp. 1960-1964, 2000.  \n",
    "[2] W. C. Young, K. Y. Yeung and A. E. Raftery. A Posterior Probability Approach for Gene Regulatory Network Inference in Genetic Perturbation Data. MBE Mathematical Biosciences and Engineering 13.6, 1241-251. Web, 2016.  \n",
    "[3] N. Zhang, H. Wang, Y. Fang, J. Wang, X. Zheng and X. S. Liu, Predicting Anti- cancer Drug Responses Using a Dual-Layer Integrated Cell Line-Drug Network Model. PLOS Computational Biology PLoS Comput Biol, vol. 11, no. 9, 2015.    \n",
    "[4] The Cancer Cell Line Encyclopedia, Broadinstitute.org, 2016. Available:\n",
    "http://www.broadinstitute.org/ccle. [Accessed: 04-Mar-2016].    \n",
    "[5] Cancer Genome Project. Secondary Cancer Genome Project. http://www.sanger.ac.uk/science/groups/cancer-genome-project.  \n",
    "[6] Connectivity Map — Broad Institute of MIT and Harvard, Broadinstitute.org, 2016. [Online]. Available:\n",
    "https://www.broadinstitute.org/genomebio/connectivitymap.html. [Accessed: 14-May-2016]    \n",
    "[7] A. D. Rouillard, Z. Wang and A. Ma. Abstraction for data integration : Fusing mammalian molecular, cellular and phenotype big datasets for better knowledge extraction. Computational Biology and Chemistry, vol. 59, pp. 123-138, 2015.\n",
    "[8] W. C. Young, K. Y. Yeung and A. E. Raftery. Model-based clustering with data correction for removing artifacts in gene expression data. arXiv preprint arXiv:1602.06316, 2016.  \n",
    "[9] L. Hung, L1K++: A Fast Pipeline that Increases the Accuracy of L1000 Gene Expression Data. BD2K-LINCS DCIC, 2015 [Online]. Available: https://youtu.be/jcpEagg1iaQ. [Accessed: 10-Sep-2016]  \n",
    "[10] C. Liu, J. Su, F. Yang, K. Wei, J. Ma and X. Zhou, Compound signature de- tection on LINCS L1000 big data. Mol. BioSyst., vol. 11, no. 3, pp. 714-722, 2015.  \n",
    "[11] J. Lamb, The Connectivity Map: a new tool for biomedical research. Nature Reviews Cancer, vol. 7, no. 1, pp. 54-60, 2007.  \n",
    "[12] A. Màayan, A. Rouillard, N. Clark, Z. Wang, Q. Duan and Y. Kou, testitLean Big Data integration in systems biology and systems pharmacology, Trends in Pharmacological Sciences, vol. 35, no. 9, pp. 450-460, 2014.  \n",
    "[13] M. Khosrow-Pour, Bioinformatics: concepts, methodologies, tools, and applications. Hershey, PA: Medical Information Science Reference, IGI Global, 2013.\n",
    "[14] B. Stockwell, The quest for the cure. New York: Columbia University Press, 2011.\n",
    "[15] KINOMEscan data - HMS LINCS Project, Lincs.hms.harvard.edu, 2016. [On- line]. Available:\n",
    "http://lincs.hms.harvard.edu/kinomescan/. [Accessed: 17-Sep-2016]  \n",
    "[16] D. Vidovíc, A. Koleti and S. C. Schürer, Large-scale integration of small molecule-induced genome-wide transcriptional responses, Kinome-wide binding affinities and cell-growth inhibition profiles reveal global trends characterizing systems-level drug action. Front. Genet. Frontiers in Genetics, vol. 5, 2014.  \n",
    "[17] S. C. Schürer and S. M. Muskal, Kinome-wide Activity Modeling from Diverse Public High-Quality Datasets. Journal of Chemical Information and Modeling J. Chem. Inf. Model., vol. 53, no. 1, pp. 27?38, 2013.  \n",
    "[18] P. M. Haverty, E. Lin, J. Tan, Y. Yu, B. Lam, S. Lianoglou, R. M. Neve, S. Mar- tin, J. Settleman, R. L. Yauch and R. Bourgon, Reproducible pharmacogenomic profiling of cancer cell line panels. Nature, vol. 533, no. 7603, pp. 333-337, 2016.  \n",
    "[19] NIH LINCS Program, Lincsproject.org, 2016. [Online]. Available: http://www.lincsproject.org/data/. [Accessed: 04-Mar-2016]  \n",
    "[20] Gene Expression Data (L1000), 2016. [Online]. Available: http://www.lincscloud.org/l1000/. [Accessed: 04-Mar-2016].  \n",
    "[21] iLincs - DCIC integrative LINCS genomics data portal, Ilincs.org, 2016. [Online]. Available:\n",
    "http://www.ilincs.org/ilincs/#/. [Accessed: 16-Sep-2016]  \n",
    "[22] Enrichr, Amp.pharm.mssm.edu, 2016. [Online]. Available: http://amp.pharm.mssm.edu/Enrichr/. [Accessed: 16-Sep-2016]  \n",
    "[23] LINCS Data Portal, 2016. [Online]. Available: http://www.lincscloud.org/l1000/. [Accessed: 16-Sep-2016]   \n",
    "[24] Cancer Program Resource Gateway, 2016. [Online]. Available: https://www.broadinstitute.org/software/cprg/?  \n",
    "[25] C. Klijn, J. Settleman, S. Seshagiri and Z. Zhang, Abstract A1-19: A comprehensive transcriptional portrait of human cancer cell lines, Cancer Research, vol. 75, no. 221, pp. A1-19 A1-19, 2015.  \n",
    "[26] Carson Sievert, Chris Parmer, Toby Hocking, Scott Chamberlain, Karthik Ram, Marianne Corvellec and Pedro Despouy (2017). plotly: Create Interactive Web Graphics via 'plotly.js'. R package version 4.6.0. https://CRAN.R-project.org/package=plotly  \n",
    "[27] C. Tang and A. Zhang, An iterative strategy for pattern discovery in high- dimensional data sets. Proceedings of the eleventh international conference on Information and knowledge management - CIKM ’02, 2002.   \n",
    "[28] Hierarchical clustering, 2016. [Online]. Available: http://nlp.stanford.edu/IR-book/html/htmledition/hierarchical clustering-1.html. [Accessed: 04-Mar-2016].  \n",
    "[29] L. Rokach and O. Maimon, Chapter 15 Minkowski : Distance Measures for Numeric Attributes in DATA MINING AND KNOLEDGE DISCOVERY HAND- BOOK, New York: Springer, 2005.   \n",
    "[30] 'stats': R Core Team (2016). R: A language and environment for statistical computing. R Foundation for Statistical Computing, Vienna, Austria. URL https://www.R-project.org/.  \n",
    "[31] Chris Fraley, Adrian E. Raftery, T. Brendan Murphy, and Luca Scrucca (2012) mclust Version 4 for R: Normal Mixture Modeling for Model-Based Clustering, Classification, and Density Estimation Technical Report No. 597, Department of Statistics, University of Washington.  \n",
    "[32] Tal Galili (2017). heatmaply: Interactive Cluster Heat Maps Using 'plotly'. R package version 0.9.1. https://CRAN.R-project.org/package=heatmaply    \n",
    "[33] Daniela M. Witten and Robert Tibshirani (2013). sparcl: Perform sparse hierarchical clustering and sparse k-means clustering. R package version 1.0.3. https://CRAN.R-project.org/package=sparcl   \n",
    "[34] Alboukadel Kassambara and Fabian Mundt (2017). factoextra: Extract and Visualize the Results of Multivariate Data Analyses. R package version 1.0.4. https://CRAN.R-project.org/package=factoextra    \n",
    "[35] Juliane Schafer, Rainer Opgen-Rhein, Verena Zuber, Miika Ahdesmaki, A. Pedro Duarte Silva and Korbinian Strimmer. (2017). corpcor: Efficient Estimation of Covariance and (Partial) Correlation. R package version 1.6.9. https://CRAN.R-project.org/package=corpcor  \n",
    "[36] Maechler, M., Rousseeuw, P., Struyf, A., Hubert, M., Hornik, K.(2017).  cluster: Cluster Analysis Basics and Extensions. R package version 2.0.6.  \n",
    "[37] Hadley Wickham (2017). stringr: Simple, Consistent Wrappers for Common String Operations. R package version 1.2.0. https://CRAN.R-project.org/package=stringr  \n",
    "[38] Julien Pele with Jean-Michel Becu, Herve Abdi and Marie Chabbert (2012). bios2mds: From BIOlogical Sequences to MultiDimensional Scaling. R package version 1.2.2. https://CRAN.Rproject.org/package=bios2mds  \n",
    "[39] Daniel Adler, Duncan Murdoch and others (2017). rgl: 3D Visualization Using OpenGL. R package version 0.98.1. https://CRAN.R-project.org/package=rgl  \n",
    "[40] Paradis E., Claude J. & Strimmer K. 2004. APE: analyses of phylogenetics and evolution in R language. Bioinformatics 20: 289-290.  \n",
    "[41] Andrie de Vries and Brian D. Ripley (2016). ggdendro: Create Dendrograms and Tree Diagrams Using 'ggplot2'. R package version 0.1-20. https://CRAN.R-project.org/package=ggdendro  "
   ]
  }
 ],
 "metadata": {
  "_draft": {
   "nbviewer_url": "https://gist.github.com/714524fdebd24ac07d0900323670eaa8"
  },
  "gist": {
   "data": {
    "description": "/Case Study LINCS Data & External Datasets.ipynb",
    "public": false
   },
   "id": "714524fdebd24ac07d0900323670eaa8"
  },
  "hide_input": false,
  "kernelspec": {
   "display_name": "R",
   "language": "R",
   "name": "ir"
  },
  "language_info": {
   "codemirror_mode": "r",
   "file_extension": ".r",
   "mimetype": "text/x-r-source",
   "name": "R",
   "pygments_lexer": "r",
   "version": "3.3.2"
  },
  "latex_envs": {
   "LaTeX_envs_menu_present": true,
   "autocomplete": true,
   "bibliofile": "biblio.bib",
   "cite_by": "key",
   "current_citInitial": 1,
   "eqLabelWithNumbers": true,
   "eqNumInitial": 1,
   "hotkeys": {
    "equation": "Ctrl-E",
    "itemize": "Ctrl-I"
   },
   "labels_anchors": true,
   "latex_user_defs": true,
   "report_style_numbering": true,
   "user_envs_cfg": false
  },
  "toc": {
   "colors": {
    "hover_highlight": "#DAA520",
    "navigate_num": "#000000",
    "navigate_text": "#333333",
    "running_highlight": "#FF0000",
    "selected_highlight": "#FFD700",
    "sidebar_border": "#EEEEEE",
    "wrapper_background": "#FFFFFF"
   },
   "moveMenuLeft": true,
   "nav_menu": {
    "height": "333px",
    "width": "356px"
   },
   "navigate_menu": true,
   "number_sections": false,
   "sideBar": true,
   "threshold": 4,
   "toc_cell": true,
   "toc_position": {
    "height": "687px",
    "left": "0px",
    "right": "989px",
    "top": "130px",
    "width": "156px"
   },
   "toc_section_display": "block",
   "toc_window_display": true,
   "widenNotebook": false
  },
  "varInspector": {
   "cols": {
    "lenName": 16,
    "lenType": 16,
    "lenVar": 40
   },
   "kernels_config": {
    "python": {
     "delete_cmd_postfix": "",
     "delete_cmd_prefix": "del ",
     "library": "var_list.py",
     "varRefreshCmd": "print(var_dic_list())"
    },
    "r": {
     "delete_cmd_postfix": ") ",
     "delete_cmd_prefix": "rm(",
     "library": "var_list.r",
     "varRefreshCmd": "cat(var_dic_list()) "
    }
   },
   "types_to_exclude": [
    "module",
    "function",
    "builtin_function_or_method",
    "instance",
    "_Feature"
   ],
   "window_display": false
  }
 },
 "nbformat": 4,
 "nbformat_minor": 2
}
