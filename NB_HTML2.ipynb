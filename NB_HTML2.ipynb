{
 "cells": [
  {
   "cell_type": "markdown",
   "metadata": {
    "toc": "true"
   },
   "source": [
    "# Table of Contents\n",
    " <p>"
   ]
  },
  {
   "cell_type": "markdown",
   "metadata": {},
   "source": [
    ".html('<script>require([\"https://cdn.plot.ly/plotly-latest.min.js\"], function(Plotly) { if (Plotly) window.Plotly = Plotly; })</script>');"
   ]
  },
  {
   "cell_type": "markdown",
   "metadata": {},
   "source": [
    "<html>\n",
    "<head>\n",
    "<script>\n",
    "function getOption() {\n",
    "    var obj = document.getElementById(\"mySelect\");\n",
    "    document.getElementById(\"demo\").innerHTML = \n",
    "    obj.options[obj.selectedIndex].text;\n",
    "\n",
    "}\n",
    "</script>\n",
    "</head>\n",
    "<body>\n",
    "\n",
    "<form>\n",
    "Select your favorite fruit:\n",
    "<select id=\"mySelect\">\n",
    "  <option>indexaaa</option>\n",
    "  <option>Orange</option>\n",
    "  <option>Pineapple</option>\n",
    "  <option>Banana</option>\n",
    "</select>\n",
    "<br><br>\n",
    "<input type=\"button\" onclick=\"getOption()\" value=\"Click Me!\">\n",
    "</form>\n",
    "\n",
    "<p id=\"demo\"></p>\n",
    "<iframe src= paste(\"'\",document.getElementById(\"mySelect\"), \".html'\") width = 100% height = 400>test</iframe>\n",
    "</body>\n",
    "</html>\n"
   ]
  },
  {
   "cell_type": "markdown",
   "metadata": {},
   "source": [
    "<html><iframe src='indexbbb.html' width = 100% height = 400>test</iframe></html>"
   ]
  },
  {
   "cell_type": "code",
   "execution_count": 13,
   "metadata": {},
   "outputs": [
    {
     "data": {
      "text/html": [
       "<iframe src= 'indexbbb.html' width = 100% height = 400></iframe>"
      ]
     },
     "metadata": {},
     "output_type": "display_data"
    }
   ],
   "source": [
    "library(htmlwidgets)\n",
    "tf = 'indexbbb.html'\n",
    "IRdisplay::display_html(\"<iframe src= 'indexbbb.html' width = 100% height = 400></iframe>\")"
   ]
  },
  {
   "cell_type": "code",
   "execution_count": null,
   "metadata": {},
   "outputs": [],
   "source": []
  }
 ],
 "metadata": {
  "hide_input": false,
  "kernelspec": {
   "display_name": "R",
   "language": "R",
   "name": "ir"
  },
  "language_info": {
   "codemirror_mode": "r",
   "file_extension": ".r",
   "mimetype": "text/x-r-source",
   "name": "R",
   "pygments_lexer": "r",
   "version": "3.3.2"
  },
  "toc": {
   "colors": {
    "hover_highlight": "#DAA520",
    "navigate_num": "#000000",
    "navigate_text": "#333333",
    "running_highlight": "#FF0000",
    "selected_highlight": "#FFD700",
    "sidebar_border": "#EEEEEE",
    "wrapper_background": "#FFFFFF"
   },
   "moveMenuLeft": true,
   "nav_menu": {
    "height": "12px",
    "width": "252px"
   },
   "navigate_menu": true,
   "number_sections": true,
   "sideBar": true,
   "threshold": 4,
   "toc_cell": true,
   "toc_section_display": "block",
   "toc_window_display": true,
   "widenNotebook": false
  },
  "varInspector": {
   "cols": {
    "lenName": 16,
    "lenType": 16,
    "lenVar": 40
   },
   "kernels_config": {
    "python": {
     "delete_cmd_postfix": "",
     "delete_cmd_prefix": "del ",
     "library": "var_list.py",
     "varRefreshCmd": "print(var_dic_list())"
    },
    "r": {
     "delete_cmd_postfix": ") ",
     "delete_cmd_prefix": "rm(",
     "library": "var_list.r",
     "varRefreshCmd": "cat(var_dic_list()) "
    }
   },
   "types_to_exclude": [
    "module",
    "function",
    "builtin_function_or_method",
    "instance",
    "_Feature"
   ],
   "window_display": false
  }
 },
 "nbformat": 4,
 "nbformat_minor": 2
}
