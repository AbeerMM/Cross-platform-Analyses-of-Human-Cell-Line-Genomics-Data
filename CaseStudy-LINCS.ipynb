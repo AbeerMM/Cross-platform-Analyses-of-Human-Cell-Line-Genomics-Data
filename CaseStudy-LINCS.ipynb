{
 "cells": [
  {
   "cell_type": "markdown",
   "metadata": {
    "toc": "true"
   },
   "source": [
    "# Table of Contents\n",
    " <p><div class=\"lev2 toc-item\"><a href=\"#Motivation-and-Overview\" data-toc-modified-id=\"Motivation-and-Overview-01\"><span class=\"toc-item-num\">0.1&nbsp;&nbsp;</span>Motivation and Overview</a></div><div class=\"lev2 toc-item\"><a href=\"#Data:-Types,-Sources\" data-toc-modified-id=\"Data:-Types,-Sources-02\"><span class=\"toc-item-num\">0.2&nbsp;&nbsp;</span>Data: Types, Sources</a></div><div class=\"lev3 toc-item\"><a href=\"#Reading-Datasets\" data-toc-modified-id=\"Reading-Datasets-021\"><span class=\"toc-item-num\">0.2.1&nbsp;&nbsp;</span>Reading Datasets</a></div><div class=\"lev4 toc-item\"><a href=\"#Reading-CCLE-Data\" data-toc-modified-id=\"Reading-CCLE-Data-0211\"><span class=\"toc-item-num\">0.2.1.1&nbsp;&nbsp;</span>Reading CCLE Data</a></div><div class=\"lev4 toc-item\"><a href=\"#Reading-L1K++-Data\" data-toc-modified-id=\"Reading-L1K++-Data-0212\"><span class=\"toc-item-num\">0.2.1.2&nbsp;&nbsp;</span>Reading L1K++ Data</a></div><div class=\"lev4 toc-item\"><a href=\"#Reading-RNAseq-Data\" data-toc-modified-id=\"Reading-RNAseq-Data-0213\"><span class=\"toc-item-num\">0.2.1.3&nbsp;&nbsp;</span>Reading RNAseq Data</a></div><div class=\"lev3 toc-item\"><a href=\"#Data-Standardization\" data-toc-modified-id=\"Data-Standardization-022\"><span class=\"toc-item-num\">0.2.2&nbsp;&nbsp;</span>Data Standardization</a></div><div class=\"lev3 toc-item\"><a href=\"#Intersection-of-Datasets\" data-toc-modified-id=\"Intersection-of-Datasets-023\"><span class=\"toc-item-num\">0.2.3&nbsp;&nbsp;</span>Intersection of Datasets</a></div><div class=\"lev3 toc-item\"><a href=\"#Loading-the-Filtered-Datasets\" data-toc-modified-id=\"Loading-the-Filtered-Datasets-024\"><span class=\"toc-item-num\">0.2.4&nbsp;&nbsp;</span>Loading the Filtered Datasets</a></div><div class=\"lev4 toc-item\"><a href=\"#Heatmaps-for-Datasets\" data-toc-modified-id=\"Heatmaps-for-Datasets-0241\"><span class=\"toc-item-num\">0.2.4.1&nbsp;&nbsp;</span>Heatmaps for Datasets</a></div><div class=\"lev2 toc-item\"><a href=\"#Analysis-&amp;-Visualization\" data-toc-modified-id=\"Analysis-&amp;-Visualization-03\"><span class=\"toc-item-num\">0.3&nbsp;&nbsp;</span>Analysis &amp; Visualization</a></div><div class=\"lev3 toc-item\"><a href=\"#Computing-Cell-Line-Distances\" data-toc-modified-id=\"Computing-Cell-Line-Distances-031\"><span class=\"toc-item-num\">0.3.1&nbsp;&nbsp;</span>Computing Cell Line Distances</a></div><div class=\"lev4 toc-item\"><a href=\"#1.-L1K++--vs.-CCLE-Data-(55-cell-lines-x-978-genes)\" data-toc-modified-id=\"1.-L1K++--vs.-CCLE-Data-(55-cell-lines-x-978-genes)-0311\"><span class=\"toc-item-num\">0.3.1.1&nbsp;&nbsp;</span>1. L1K++  vs. CCLE Data (55 cell lines x 978 genes)</a></div><div class=\"lev4 toc-item\"><a href=\"#2.-L1K++--vs.-RNAseq-Data-(41-cell-lines-x-978-genes)\" data-toc-modified-id=\"2.-L1K++--vs.-RNAseq-Data-(41-cell-lines-x-978-genes)-0312\"><span class=\"toc-item-num\">0.3.1.2&nbsp;&nbsp;</span>2. L1K++  vs. RNAseq Data (41 cell lines x 978 genes)</a></div><div class=\"lev3 toc-item\"><a href=\"#Analysis-Visualization\" data-toc-modified-id=\"Analysis-Visualization-032\"><span class=\"toc-item-num\">0.3.2&nbsp;&nbsp;</span>Analysis Visualization</a></div><div class=\"lev4 toc-item\"><a href=\"#Distance/Similarity-Visualization-(Heatmaps-&amp;-MDS)\" data-toc-modified-id=\"Distance/Similarity-Visualization-(Heatmaps-&amp;-MDS)-0321\"><span class=\"toc-item-num\">0.3.2.1&nbsp;&nbsp;</span>Distance/Similarity Visualization (Heatmaps &amp; MDS)</a></div><div class=\"lev4 toc-item\"><a href=\"#Clustering-Visualization\" data-toc-modified-id=\"Clustering-Visualization-0322\"><span class=\"toc-item-num\">0.3.2.2&nbsp;&nbsp;</span>Clustering Visualization</a></div><div class=\"lev2 toc-item\"><a href=\"#Attributes-of-Notebook\" data-toc-modified-id=\"Attributes-of-Notebook-04\"><span class=\"toc-item-num\">0.4&nbsp;&nbsp;</span>Attributes of Notebook</a></div><div class=\"lev3 toc-item\"><a href=\"#Bioconductor-Packages\" data-toc-modified-id=\"Bioconductor-Packages-041\"><span class=\"toc-item-num\">0.4.1&nbsp;&nbsp;</span>Bioconductor Packages</a></div><div class=\"lev3 toc-item\"><a href=\"#Visualization\" data-toc-modified-id=\"Visualization-042\"><span class=\"toc-item-num\">0.4.2&nbsp;&nbsp;</span>Visualization</a></div><div class=\"lev1 toc-item\"><a href=\"#References\" data-toc-modified-id=\"References-1\"><span class=\"toc-item-num\">1&nbsp;&nbsp;</span>References</a></div>"
   ]
  },
  {
   "cell_type": "markdown",
   "metadata": {
    "heading_collapsed": true
   },
   "source": [
    "## Motivation and Overview"
   ]
  },
  {
   "cell_type": "markdown",
   "metadata": {
    "hidden": true
   },
   "source": [
    "The traditional process of drug discovery is extremely time-consuming and requires a large budget [1]. Recent advances in biotechnology has led to the generation of many different types of big biomedical data, which subsequently motivates the development of computational methods to analyze these data sources. In particular, L1000 technology that represents a high-throughput gene expression profiling technique. Due to cost, the L1000 technology developed by the Broad Institute selected approximately one thousand landmark genes as a representative sample of the human genome that originally contains over 20,000 genes [2]. The L1000 technology has enabled inexpensive measurements from more than one million experiments across eighty human cell lines.\n",
    "\n",
    "\n",
    "The LINCS (Library of Integrated Network based Cellular Signatures) program, funded by the National Institutes of Health, generates different types of data, including: gene expression, proteomic, and cell imaging data. These types enable scientists to understand the biological processes at the molecular and cellular level. One of the main objectives of the LINCS program is to study gene signatures resulted from perturbations applied to human cells. Using the L1000 technology mentioned above, the LINCS L1000 dataset contains the expression level of one thousand landmark genes measured in each of the perturbation experiments. This motivates us to explore cell line and drug similarities and integrate different data sources to correlate these similarities with gene/cell line signatures that could potentially contribute to novel drug discovery. The LINCS L1000 data generated by the Broad institute is publicly available online from http://lincscloud.org.\n",
    "\n",
    "we will focus on the data generated by the NIH LINCS (Library of Integrated Network-based Cellular Signatures) project. The LINCS (Library of Integrated Network-based Cellular Signatures)program provides big datasets of different types of biological assays from human cell lines under different experimental conditions. Many tools have been developed to access, integrate and visualize LINCS data. We use the LINCS L1000 gene expression data to explore similarities between different cell lines using different analysis methods, such as: pattern discovery techniques such as clustering and dimension reduction techniques. "
   ]
  },
  {
   "cell_type": "markdown",
   "metadata": {
    "heading_collapsed": true
   },
   "source": [
    "## Data: Types, Sources"
   ]
  },
  {
   "cell_type": "markdown",
   "metadata": {
    "hidden": true
   },
   "source": [
    "1. Library of Integrated Network-based Cellular Signatures(LINCS) dataset [3]: Cell Line Data\n",
    "The L1000 data is available online from http://download.lincscloud.org. The L1000 data contain gene expressions for cell lines that are exposed to different genetic and chemical perturbations. The LINCS L1000 platform reduces the 20,000 genes to 1000 genes that is highly expressed and represent 80% of the information [4]. The LINCS project provides many tools to access, integrate and visualize data, such as: iLINCS [5], Enrichr [6], and LINCS Data Portal [7]. These tools have web-based user interfaces, and use clustering and Enrichment analysis.\n",
    "\n",
    "2. The Cancer Cell Line Encyclopedia(CCLE)[8]: Cell Line Data\n",
    "The CCLE data is available from https://www.broadinstitute.org/software/cprg/?q=node/11. The CCLE project contains 1000 human cancer cell lines. The CCLE provides different tools to analyze and visualize the data using mRNA expression, mutation data, DNA copy number and more. One of these tools is CMAP that contains more than 7,000 expression profiles representing 1,309 compounds [9]. CCLE data will be used to benchmark L1000 data.\n",
    "\n",
    "\n",
    "3. RNAseq Data by Klijin et al. [10] across human cell lines:\n",
    "Gene expression information from RNAseq data is available from Array- Express database for download from https://www.ebi.ac.uk/arrayexpress/experiments/E-MTAB-2706/. These datasets contain RNA-seq expression data across 675 untreated human cancer cell lines. RNAseq data will be used to benchmark L1000 data for unperturbed cell lines along with other datasets from different sources.\n",
    "\n"
   ]
  },
  {
   "cell_type": "markdown",
   "metadata": {
    "hidden": true
   },
   "source": [
    "We will use the L1000 data processed by the L1K++ pipeline developed by Dr. Ling-Hung at University of Washington Tacoma. L1K++ is implemented in C++ using linear algorithms to make it over 1000x faster than the available pipelines [11]. L1K++ provides processed data different levels ranging from level 1 to level 2.5. A higher level represents more processed data."
   ]
  },
  {
   "cell_type": "markdown",
   "metadata": {
    "heading_collapsed": true,
    "hidden": true
   },
   "source": [
    "### Reading Datasets"
   ]
  },
  {
   "cell_type": "markdown",
   "metadata": {
    "heading_collapsed": true,
    "hidden": true
   },
   "source": [
    "#### Reading CCLE Data"
   ]
  },
  {
   "cell_type": "code",
   "execution_count": null,
   "metadata": {
    "editable": false,
    "hidden": true,
    "run_control": {
     "frozen": true
    }
   },
   "outputs": [],
   "source": [
    "library(\"stringr\")\n",
    "library(RCurl)\n",
    "library(bitops)\n",
    "#===========================================================\n",
    "#========   CCLE Data -- .res file (> 50000 genes)  ========\n",
    "#===========================================================\n",
    "breakit <- function(x)\n",
    "{\n",
    "  y <- unlist(strsplit(x,\"_\"))[1]\n",
    "  return(y)\n",
    "}\n",
    "\n",
    "url <- \"https://portals.broadinstitute.org/ccle/downloadFile/DefaultSystemRoot/exp_10/ds_21/CCLE_Expression_2012-09-29.res?downloadff=true&fileId=6760\"\n",
    "CCLE.res <- read.delim(url, sep=\"\\t\", row.names=NULL, check.names = FALSE) #, quote = \"\"\n",
    "\n",
    "rownames(CCLE.res) <- CCLE.res$Description\n",
    "CCLE.res[, 1:2] <- NULL\n",
    "\n",
    "colnames(CCLE.res)[1:2073] <- colnames(CCLE.res)[2:2074]\n",
    "CCLE.res <- CCLE.res[, -seq(2,2076, by = 2)]\n",
    "\n",
    "ccleres.names <- colnames(CCLE.res)\n",
    "name.vec2 <- NULL\n",
    "for(i in 1:ncol(CCLE.res))\n",
    "{\n",
    "  name.vec2[[i]] <- breakit(ccleres.names[[i]])\n",
    "  \n",
    "}\n",
    "colnames(CCLE.res) <- name.vec2\n",
    "\n",
    "# to get columns by their partial names: dat[1:4, grep(\"TT\",colnames(dat))]\n",
    "#There are some duplicate cell lines, e.g.:\n",
    "# TT_OESOPHAGUS , TT_THYROID  &\n",
    "# NCIH292_LUNG , NCIH292_LUNG.1 \n",
    "#which(colnames(CCLE.res) == \"TT\") #565 682\n",
    "#which(colnames(CCLE.res) == \"NCIH292\") #963 991\n",
    "# To handle that:\n",
    "CCLE.res <- CCLE.res[, !duplicated(colnames(CCLE.res), fromLast = TRUE)] # 1035 cell lines\n",
    "\n",
    "CCLE.res <- t(CCLE.res)\n",
    "#CCLE.res <- CCLE.res[, -1]\n",
    "\n",
    "rownames(CCLE.res) <-  toupper(str_replace_all(rownames(CCLE.res), \"[^[:alnum:]]\", \"\"))\n",
    "dim(CCLE.res)\n",
    "#options(repr.matrix.max.cols=50, repr.matrix.max.rows=100)\n",
    "CCLE.res <- CCLE.res[, -1]\n",
    "save(CCLE.res, file=\"./CCLE.res.RData\")\n",
    "head(CCLE.res)\n"
   ]
  },
  {
   "cell_type": "code",
   "execution_count": null,
   "metadata": {
    "editable": false,
    "hidden": true,
    "run_control": {
     "frozen": true
    }
   },
   "outputs": [],
   "source": [
    "load(\"CCLE.res.RData\")"
   ]
  },
  {
   "cell_type": "markdown",
   "metadata": {
    "heading_collapsed": true,
    "hidden": true
   },
   "source": [
    "#### Reading L1K++ Data"
   ]
  },
  {
   "cell_type": "markdown",
   "metadata": {
    "hidden": true
   },
   "source": [
    "The average of replicates for each cell line were computed."
   ]
  },
  {
   "cell_type": "code",
   "execution_count": null,
   "metadata": {
    "editable": false,
    "hidden": true,
    "run_control": {
     "frozen": true
    }
   },
   "outputs": [],
   "source": [
    "library(\"stringr\")\n",
    "#===========================================================\n",
    "#========     L1K++ Data -- 3 control types     ============\n",
    "#===========================================================\n",
    "breakit <- function(x)\n",
    "{\n",
    "  y <- unlist(strsplit(x,\"[.]\"))[1]\n",
    "  return(y)\n",
    "}\n",
    "L1K.3types <- read.csv(file = \"./en_3_pert_types_combined.tsv\",sep=\"\\t\", check.names = F, row.names = NULL)\n",
    "\n",
    "rownames(L1K.3types) <- L1K.3types$Sample\n",
    "\n",
    "L1K.names <- rownames(L1K.3types)\n",
    "name.vec <- NULL\n",
    "for(i in 1:nrow(L1K.3types))\n",
    "{\n",
    "  name.vec[[i]] <- breakit(L1K.names[[i]])\n",
    "  \n",
    "}\n",
    "L1K.3types$Sample <- name.vec\n",
    "L1K.avg <- NULL\n",
    "i <- 1\n",
    "for(cline in unique(name.vec))\n",
    "{\n",
    "  means <- colMeans(L1K.3types[which(L1K.3types$Sample == cline), 2:979])\n",
    "  L1K.avg <- rbind(L1K.avg, means)\n",
    "  rownames(L1K.avg)[i] <- cline\n",
    "  i <- i + 1\n",
    "}\n",
    "rownames(L1K.avg) <-  toupper(str_replace_all(rownames(L1K.avg), \"[^[:alnum:]]\", \"\"))\n",
    "dim(L1K.avg) # 71 cell lines\n",
    "options(repr.matrix.max.cols=50, repr.matrix.max.rows=100)\n",
    "head(L1K.avg)"
   ]
  },
  {
   "cell_type": "markdown",
   "metadata": {
    "heading_collapsed": true,
    "hidden": true
   },
   "source": [
    "#### Reading RNAseq Data"
   ]
  },
  {
   "cell_type": "code",
   "execution_count": null,
   "metadata": {
    "editable": false,
    "hidden": true,
    "run_control": {
     "frozen": true
    }
   },
   "outputs": [],
   "source": [
    "library(\"stringr\")\n",
    "#===========================================================\n",
    "#========   RNAseq Data -- 1171 genes  ========\n",
    "#===========================================================\n",
    "\n",
    "ax                    <- read.csv(\"./VSD_Entrez_in_landmark.csv\", header = F)    # File for ARRAY-EXPRESS\n",
    "ax.meta               <- read.table(\"./E_MTAB_2706_sdrf.txt\", header = T, sep=\"\\t\",stringsAsFactors = F, quote = NULL, comment = \"\")\n",
    "\n",
    "row.names(ax)         <- ax$V1\n",
    "\n",
    "ax.celines            <- levels(factor(ax.meta$Characteristics.cell.line.))\n",
    "ax.celines            <-  toupper(str_replace_all(ax.celines, \"[^[:alnum:]]\", \"\"))\n",
    "\n",
    "ax$V1                 <- NULL\n",
    "names(ax)             <- ax.celines\n",
    "dim(ax) # 1171 genes x  675 cell lines\n",
    "\n",
    "landmark.genes <- read.csv(\"./landmark_genes.csv\", header = T)    # File for ARRAY-EXPRESS\n",
    "ax <- ax[intersect(landmark.genes$Entrez.Gene.ID, rownames(ax)), ]\n",
    "ax <- t(ax)\n",
    "dim(ax) #675 cell lines x 978 genes\n",
    "options(repr.matrix.max.cols=50, repr.matrix.max.rows=100)\n",
    "head(ax)"
   ]
  },
  {
   "cell_type": "markdown",
   "metadata": {
    "heading_collapsed": true,
    "hidden": true
   },
   "source": [
    "### Data Standardization"
   ]
  },
  {
   "cell_type": "markdown",
   "metadata": {
    "hidden": true
   },
   "source": [
    "We compute the Z score for genes across cell lines for all three datasets.Standardization"
   ]
  },
  {
   "cell_type": "code",
   "execution_count": null,
   "metadata": {
    "editable": false,
    "hidden": true,
    "run_control": {
     "frozen": true
    }
   },
   "outputs": [],
   "source": [
    "#----------------------------------------------\n",
    "# Scaling\n",
    "#----------------------------------------------\n",
    "\n",
    "scaled.L1K.avg  <- scale(L1K.avg, center = TRUE, scale = TRUE)\n",
    "scaled.CCLE.res <- scale(CCLE.res, center = TRUE, scale = TRUE)\n",
    "scaled.ax       <- scale(ax, center = TRUE, scale = TRUE)"
   ]
  },
  {
   "cell_type": "markdown",
   "metadata": {
    "heading_collapsed": true,
    "hidden": true
   },
   "source": [
    "### Intersection of Datasets"
   ]
  },
  {
   "cell_type": "markdown",
   "metadata": {
    "hidden": true
   },
   "source": [
    "L1K++ and CCLE datasets have gene expressions for 55 cell lines in common. L1K++ and RNAseq datasets have gene expressions for 41 cell lines in common. For all datasets, the 1000 landmark genes are used in the analysis."
   ]
  },
  {
   "cell_type": "markdown",
   "metadata": {
    "hidden": true
   },
   "source": [
    "The following script subsets the original datasets (L1K++, CCLE, and RNAseq) based on landmark genes and cell lines in common."
   ]
  },
  {
   "cell_type": "code",
   "execution_count": null,
   "metadata": {
    "editable": false,
    "hidden": true,
    "run_control": {
     "frozen": true
    }
   },
   "outputs": [],
   "source": [
    "#----------------------------------------------\n",
    "# Intersection\n",
    "#----------------------------------------------\n",
    "# 41 cell lines and 978 genes\n",
    "cell.inters <- intersect(rownames(scaled.L1K.avg), rownames(scaled.ax))\n",
    "length(cell.inters)\n",
    "scaled.L1K.inters.ax   <- scaled.L1K.avg[cell.inters, ] #gene.inters **after mapping\n",
    "scaled.ax.inters       <- scaled.ax[cell.inters, ] #gene.inters **after mapping\n",
    "#---------------------------------\n",
    "# 55 cell lines and 978 genes\n",
    "gene.inters <- intersect(colnames(scaled.CCLE.res), colnames(scaled.L1K.avg))\n",
    "cell.inters <- intersect(rownames(scaled.L1K.avg), rownames(scaled.CCLE.res))\n",
    "scaled.CCLE.res.inters <- scaled.CCLE.res[cell.inters, gene.inters]\n",
    "scaled.L1K.inters      <- scaled.L1K.avg[cell.inters, gene.inters]\n",
    "\n",
    "#---------------------------------\n",
    "dim(scaled.CCLE.res.inters) # 55 978\n",
    "dim(scaled.L1K.inters) # 55 978\n",
    "#-------------\n",
    "dim(scaled.L1K.inters.ax) # 41 978\n",
    "dim(scaled.ax.inters) # 41 978\n",
    "#---------------------------------"
   ]
  },
  {
   "cell_type": "markdown",
   "metadata": {
    "heading_collapsed": true,
    "hidden": true
   },
   "source": [
    "### Loading the Filtered Datasets"
   ]
  },
  {
   "cell_type": "code",
   "execution_count": null,
   "metadata": {
    "hidden": true
   },
   "outputs": [],
   "source": [
    "load(\"./scaled.CCLE.res.inters.RData\")\n",
    "load(\"./scaled.L1K.inters.RData\")\n",
    "load(\"./scaled.L1K.inters.ax.RData\")\n",
    "load(\"./scaled.ax.inters.RData\")"
   ]
  },
  {
   "cell_type": "markdown",
   "metadata": {
    "hidden": true
   },
   "source": [
    "#### Heatmaps for Datasets"
   ]
  },
  {
   "cell_type": "markdown",
   "metadata": {
    "hidden": true
   },
   "source": [
    "The plot below shows the heatmap of L1K++ gene expressions dataset consisted of 55 cell lines and 978 genes, which are resulted from the intersection of L1K++ and CLEE. "
   ]
  },
  {
   "cell_type": "markdown",
   "metadata": {
    "hidden": true
   },
   "source": [
    "library(\"gplots\")\n",
    "heatmap.2(scaled.L1K.inters,dendrogram='none', Rowv=TRUE, Colv=TRUE,trace='none')"
   ]
  },
  {
   "cell_type": "markdown",
   "metadata": {
    "hidden": true
   },
   "source": [
    "The plot below shows the heatmap of CCLE gene expressions dataset consisted of 55 cell lines and 978 genes. "
   ]
  },
  {
   "cell_type": "code",
   "execution_count": null,
   "metadata": {
    "hidden": true
   },
   "outputs": [],
   "source": [
    "library(\"gplots\")\n",
    "heatmap.2(scaled.CCLE.res.inters,dendrogram='none', Rowv=TRUE, Colv=TRUE,trace='none')"
   ]
  },
  {
   "cell_type": "markdown",
   "metadata": {
    "hidden": true
   },
   "source": [
    "The plot below shows the heatmap of RNAseq expressions dataset consisted of 41 cell lines and 978 genes. "
   ]
  },
  {
   "cell_type": "code",
   "execution_count": null,
   "metadata": {
    "hidden": true
   },
   "outputs": [],
   "source": [
    "library(\"gplots\")\n",
    "heatmap.2(scaled.ax.inters,dendrogram='none', Rowv=TRUE, Colv=TRUE,trace='none')"
   ]
  },
  {
   "cell_type": "markdown",
   "metadata": {
    "hidden": true
   },
   "source": [
    "The plot below shows the heatmap of L1K++ gene expressions dataset consisted of 55 cell lines and 978 genes that resulted from the intersection of L1K++ and RNAseq. "
   ]
  },
  {
   "cell_type": "code",
   "execution_count": null,
   "metadata": {
    "hidden": true
   },
   "outputs": [],
   "source": [
    "library(\"gplots\")\n",
    "heatmap.2(scaled.L1K.inters.ax,dendrogram='none', Rowv=TRUE, Colv=TRUE,trace='none')"
   ]
  },
  {
   "cell_type": "markdown",
   "metadata": {},
   "source": [
    "## Analysis & Visualization"
   ]
  },
  {
   "cell_type": "markdown",
   "metadata": {},
   "source": [
    "### Computing Cell Line Distances"
   ]
  },
  {
   "cell_type": "markdown",
   "metadata": {},
   "source": [
    "To find cell line similarities, we calculate the pairwise distances and correlation coefficients between every two cell lines based on their gene expression profiles. Different metrics are used for the distance, such as: Pearson correlation, rank-based correlation (Kendall), and squared Mahalanobis distance. This analysis consist of two main parts. One, analyzing L1K++ compared to CCLE, and second L1K++ compared to CCLE in order to benchmark the results."
   ]
  },
  {
   "cell_type": "markdown",
   "metadata": {
    "heading_collapsed": true
   },
   "source": [
    "#### 1. L1K++  vs. CCLE Data (55 cell lines x 978 genes)"
   ]
  },
  {
   "cell_type": "markdown",
   "metadata": {
    "hidden": true
   },
   "source": [
    "The following script computes the two types of correlation coefficients(Pearson/Kendall) and one distance metric (squared Mahalanobis distance) for 55 cell lines in L1K++ and CCLE data based on their expression profiles."
   ]
  },
  {
   "cell_type": "code",
   "execution_count": null,
   "metadata": {
    "hidden": true
   },
   "outputs": [],
   "source": [
    "library(\"corpcor\")\n",
    "#==================================================================================\n",
    "#     Pearson / Kendall Correlation / Squared Mahalanobis Distance\n",
    "#==================================================================================\n",
    "\n",
    "# L1K++ vs. CCLE (55 x 55, cell lines)\n",
    "#-------------------------------------\n",
    "# .lc = L1K++ data & .c = CCLE data\n",
    "cor.mat.lc    <- as.dist((1-cor(t(scaled.L1K.inters), method = \"pearson\"))/2)\n",
    "cor.mat.c     <- as.dist((1-cor(t(scaled.CCLE.res.inters), method = \"pearson\"))/2)\n",
    "#...............................................................................\n",
    "cork.mat.lc    <- as.dist((1-cor(t(scaled.L1K.inters), method = \"kendall\"))/2)\n",
    "cork.mat.c     <- as.dist((1-cor(t(scaled.CCLE.res.inters), method = \"kendall\"))/2)\n",
    "#...............................................................................\n",
    "# Mahalanobis Diststance\n",
    "covs <- cov.shrink(scaled.L1K.inters)\n",
    "covs.inverse <- invcov.shrink(covs) \n",
    "distm.mat.lc <- as.dist(apply(scaled.L1K.inters,1,function(i){ \n",
    "  mahalanobis(scaled.L1K.inters,i, covs.inverse, inverted = T)})) \n",
    "#...........\n",
    "covs2 <- cov.shrink(scaled.CCLE.res.inters)\n",
    "covs.inverse2 <- invcov.shrink(covs2) \n",
    "distm.mat.c <- as.dist(apply(scaled.CCLE.res.inters,1,function(i){ \n",
    "  mahalanobis(scaled.CCLE.res.inters,i, covs.inverse2, inverted = T)})) \n"
   ]
  },
  {
   "cell_type": "markdown",
   "metadata": {
    "heading_collapsed": true
   },
   "source": [
    "#### 2. L1K++  vs. RNAseq Data (41 cell lines x 978 genes)"
   ]
  },
  {
   "cell_type": "markdown",
   "metadata": {
    "hidden": true
   },
   "source": [
    "The following script computes the two types of correlation coefficients(Pearson/Kendall) and one distance metric (squared Mahalanobis distance) for 41 cell lines in L1K++ and RNAseq data based on their expression profiles."
   ]
  },
  {
   "cell_type": "code",
   "execution_count": null,
   "metadata": {
    "collapsed": true,
    "hidden": true
   },
   "outputs": [],
   "source": [
    "#==================================================================================\n",
    "#     Pearson / Kendall Correlation / Squared Mahalanobis Distance\n",
    "#==================================================================================\n",
    "# L1K++ vs. RNAseq (41 x 41, cell lines)\n",
    "#-------------------------------------\n",
    "# .la = L1K++ data & .a = RNAseq data\n",
    "cor.mat.la    <- as.dist((1-cor(t(scaled.L1K.inters.ax), method = \"pearson\"))/2)\n",
    "cor.mat.a     <- as.dist((1-cor(t(scaled.ax.inters), method = \"pearson\"))/2)\n",
    "#...............................................................................\n",
    "cork.mat.la    <- as.dist((1-cor(t(scaled.L1K.inters.ax), method = \"kendall\"))/2)\n",
    "cork.mat.a     <- as.dist((1-cor(t(scaled.ax.inters), method = \"kendall\"))/2)\n",
    "#...............................................................................\n",
    "# Mahalanobis Diststance\n",
    "covs <- cov.shrink(scaled.L1K.inters.ax)\n",
    "covs.inverse <- invcov.shrink(covs) \n",
    "distm.mat.la <- as.dist(apply(scaled.L1K.inters.ax,1,function(i){ \n",
    "  mahalanobis(scaled.L1K.inters.ax,i, covs.inverse, inverted = T)})) \n",
    "#...........\n",
    "covs2 <- cov.shrink(scaled.ax.inters)\n",
    "covs.inverse2 <- invcov.shrink(covs2) \n",
    "distm.mat.a <- as.dist(apply(scaled.ax.inters,1,function(i){ \n",
    "  mahalanobis(scaled.ax.inters,i, covs.inverse2, inverted = T)})) \n"
   ]
  },
  {
   "cell_type": "markdown",
   "metadata": {},
   "source": [
    "### Analysis Visualization"
   ]
  },
  {
   "cell_type": "markdown",
   "metadata": {
    "heading_collapsed": true
   },
   "source": [
    "#### Distance/Similarity Visualization (Heatmaps & MDS)"
   ]
  },
  {
   "cell_type": "markdown",
   "metadata": {
    "hidden": true
   },
   "source": [
    "In order to improve the readability of the distance/similarity matrices, we use plotly package to visualize. It enables us to read the distance of any interesting point in our heatmap by placing the cursor on it. Since the distance/similarity matrices are symmetric, the upper and lower triangles of the heatmap are identical. Also, we used Multidimensional Scaling plots to show the similarity measures between cell lines."
   ]
  },
  {
   "cell_type": "markdown",
   "metadata": {
    "heading_collapsed": true,
    "hidden": true
   },
   "source": [
    "##### L1K++ vs. CCLE (55 cell lines)"
   ]
  },
  {
   "cell_type": "markdown",
   "metadata": {
    "heading_collapsed": true,
    "hidden": true
   },
   "source": [
    "###### 1. Pearson Correlation Coefficients"
   ]
  },
  {
   "cell_type": "code",
   "execution_count": null,
   "metadata": {
    "collapsed": true,
    "hidden": true
   },
   "outputs": [],
   "source": [
    "library(\"plotly\")\n",
    "#options(repr.plot.width=3, repr.plot.height=3)\n",
    "m <- as.matrix(cor.mat.lc)\n",
    "a <- plot_ly(x = rownames(m), y = colnames(m),\n",
    "z = m, type = \"heatmap\", colors = colorRamp(c(\"red\", \"yellow\")))\n",
    "#----\n",
    "m2 <- as.matrix(cor.mat.c)\n",
    "b <- plot_ly(x = rownames(m2), y = colnames(m2),\n",
    "z = m2, type = \"heatmap\", colors = colorRamp(c(\"red\", \"yellow\")))\n",
    "#-----\n",
    "subplot(a, b, margin = 0.06)\n",
    "#-----\n",
    "\n",
    "cmd <- cmdscale(cor.mat.lc,eig=TRUE, k=3)\n",
    "x <- cmd$points[,1]\n",
    "y <- cmd$points[,2]\n",
    "z <- cmd$points[,3]\n",
    "\n",
    "a <- plot_ly(as.data.frame(as.matrix(cor.mat.lc)), x = x, y = y, z = z, color=rownames(as.data.frame(as.matrix(cor.mat.lc)))) %>%\n",
    "  add_markers() %>%\n",
    "  layout(title = \"MDS L1K++ (Pearson)\", scene = list(xaxis = list(title = 'x'),\n",
    "                      yaxis = list(title = 'y'),\n",
    "                      zaxis = list(title = 'z')))\n",
    "\n",
    "cmd <- cmdscale(cor.mat.c,eig=TRUE, k=3)\n",
    "x <- cmd$points[,1]\n",
    "y <- cmd$points[,2]\n",
    "z <- cmd$points[,3]\n",
    "\n",
    "b <- plot_ly(as.data.frame(as.matrix(cor.mat.c)), x = x, y = y, z = z, color=rownames(as.data.frame(as.matrix(cor.mat.c)))) %>%\n",
    "  add_markers() %>%\n",
    "  layout(title = \"MDS CCLE (Pearson)\", scene = list(xaxis = list(title = 'x'),\n",
    "                      yaxis = list(title = 'y'),\n",
    "                      zaxis = list(title = 'z')))\n",
    "\n",
    "htmlwidgets::saveWidget(a, \"MDSL1KPearson.html\")\n",
    "htmlwidgets::saveWidget(b, \"MDSCCLEPearson.html\")\n",
    "\n",
    "embed_notebook(a)\n",
    "embed_notebook(b)\n",
    "#subplot(a, b, margin = 0.06)"
   ]
  },
  {
   "cell_type": "code",
   "execution_count": null,
   "metadata": {
    "collapsed": true,
    "hidden": true
   },
   "outputs": [],
   "source": [
    "library(htmlwidgets)\n",
    "tf = 'MDSL1KPearson.html'\n",
    "tf2 = 'MDSCCLEPearson.html'\n",
    "IRdisplay::display_html(\"<iframe src= 'MDSL1KPearson.html' width = 100% height = 400></iframe>\")\n",
    "IRdisplay::display_html(\"<iframe src= 'MDSCCLEPearson.html' width = 100% height = 400></iframe>\")\n",
    "\n",
    "#IRdisplay::display_html(paste(\"<iframe src=' \", tf, \" ' width = 100% height = 400></iframe>\"))"
   ]
  },
  {
   "cell_type": "markdown",
   "metadata": {
    "code_folding": [],
    "hidden": true,
    "run_control": {
     "marked": false
    }
   },
   "source": [
    "<html><dev><iframe src= 'MDSL1KPearson.html' width = 100% height = 400></iframe></dev></html>"
   ]
  },
  {
   "cell_type": "markdown",
   "metadata": {
    "hidden": true
   },
   "source": [
    "<iframe src='MDSL1KPearson.html' height=\"400\" width=\"100%\"></iframe>"
   ]
  },
  {
   "cell_type": "markdown",
   "metadata": {
    "heading_collapsed": true,
    "hidden": true
   },
   "source": [
    "###### 2. Kendall Correlation Coefficients"
   ]
  },
  {
   "cell_type": "code",
   "execution_count": null,
   "metadata": {
    "hidden": true,
    "scrolled": false
   },
   "outputs": [],
   "source": [
    "library(\"plotly\")\n",
    "#options(repr.plot.width=3, repr.plot.height=3)\n",
    "m <- as.matrix(cork.mat.lc)\n",
    "a <- plot_ly(x = rownames(m), y = colnames(m),z = m, type = \"heatmap\", colors = colorRamp(c(\"red\", \"yellow\")))\n",
    "#------\n",
    "m2 <- as.matrix(cork.mat.c)\n",
    "b <- plot_ly(x = rownames(m2), y = colnames(m2),z = m2, type = \"heatmap\", colors = colorRamp(c(\"red\", \"yellow\")))\n",
    "#------\n",
    "subplot(a, b, margin = 0.06)\n",
    "\n",
    "#------\n",
    "cmd <- cmdscale(cor.mat.lc,eig=TRUE, k=3)\n",
    "x <- cmd$points[,1]\n",
    "y <- cmd$points[,2]\n",
    "z <- cmd$points[,3]\n",
    "\n",
    "a <- plot_ly(as.data.frame(as.matrix(cork.mat.lc)), x = x, y = y, z = z, color=rownames(as.data.frame(as.matrix(cork.mat.lc)))) %>%\n",
    "  add_markers() %>%\n",
    "  layout(title = \"MDS L1K++ (Kendall)\", scene = list(xaxis = list(title = 'x'),\n",
    "                      yaxis = list(title = 'y'),\n",
    "                      zaxis = list(title = 'z')))\n",
    "\n",
    "cmd <- cmdscale(cork.mat.c,eig=TRUE, k=3)\n",
    "x <- cmd$points[,1]\n",
    "y <- cmd$points[,2]\n",
    "z <- cmd$points[,3]\n",
    "\n",
    "b <- plot_ly(as.data.frame(as.matrix(cork.mat.c)), x = x, y = y, z = z, color=rownames(as.data.frame(as.matrix(cork.mat.c)))) %>%\n",
    "  add_markers() %>%\n",
    "  layout(title = \"MDS CCLE (Kendall)\", scene = list(xaxis = list(title = 'x'),\n",
    "                      yaxis = list(title = 'y'),\n",
    "                      zaxis = list(title = 'z')))\n",
    "\n",
    "htmlwidgets::saveWidget(a, \"MDSL1KKendall.html\")\n",
    "htmlwidgets::saveWidget(b, \"MDSCCLEKendall.html\")\n",
    "\n",
    "embed_notebook(a)\n",
    "embed_notebook(b)"
   ]
  },
  {
   "cell_type": "markdown",
   "metadata": {
    "heading_collapsed": true,
    "hidden": true
   },
   "source": [
    "###### 3. Squared Mahalanobis Distance"
   ]
  },
  {
   "cell_type": "code",
   "execution_count": null,
   "metadata": {
    "hidden": true,
    "scrolled": false
   },
   "outputs": [],
   "source": [
    "library(\"plotly\")\n",
    "library(repr)\n",
    "#options(repr.plot.width=3, repr.plot.height=3)\n",
    "m <- as.matrix(distm.mat.lc)\n",
    "a <- plot_ly(x = rownames(m), y = colnames(m),\n",
    "z = m, type = \"heatmap\", colors = colorRamp(c(\"red\", \"yellow\")))\n",
    "\n",
    "m2 <- as.matrix(distm.mat.c)\n",
    "b <- plot_ly(x = rownames(m2), y = colnames(m2),\n",
    "z = m2, type = \"heatmap\", colors = colorRamp(c(\"red\", \"yellow\")))\n",
    "\n",
    "subplot(a, b, margin = 0.06)\n",
    "\n",
    "cmd <- cmdscale(distm.mat.lc,eig=TRUE, k=3)\n",
    "x <- cmd$points[,1]\n",
    "y <- cmd$points[,2]\n",
    "z <- cmd$points[,3]\n",
    "\n",
    "a <- plot_ly(as.data.frame(as.matrix(distm.mat.lc)), x = x, y = y, z = z, color=rownames(as.data.frame(as.matrix(distm.mat.lc)))) %>%\n",
    "  add_markers() %>%\n",
    "  layout(title = \"MDS L1K++ (Sqr. Mahalanobis)\", scene = list(xaxis = list(title = 'x'),\n",
    "                      yaxis = list(title = 'y'),\n",
    "                      zaxis = list(title = 'z')))\n",
    "\n",
    "cmd <- cmdscale(distm.mat.c,eig=TRUE, k=3)\n",
    "x <- cmd$points[,1]\n",
    "y <- cmd$points[,2]\n",
    "z <- cmd$points[,3]\n",
    "\n",
    "b <- plot_ly(as.data.frame(as.matrix(distm.mat.c)), x = x, y = y, z = z, color=rownames(as.data.frame(as.matrix(distm.mat.c)))) %>%\n",
    "  add_markers() %>%\n",
    "  layout(title = \"MDS CCLE (Sqr. Mahalanobis)\", scene = list(xaxis = list(title = 'x'),\n",
    "                      yaxis = list(title = 'y'),\n",
    "                      zaxis = list(title = 'z')))\n",
    "\n",
    "\n",
    "htmlwidgets::saveWidget(a, \"MDSL1KMahalanobis.html\")\n",
    "htmlwidgets::saveWidget(b, \"MDSCCLEMahalanobis.html\")\n",
    "\n",
    "embed_notebook(a)\n",
    "embed_notebook(b)"
   ]
  },
  {
   "cell_type": "markdown",
   "metadata": {
    "heading_collapsed": true,
    "hidden": true
   },
   "source": [
    "##### L1K++ vs. RNAseq (41 cell lines)"
   ]
  },
  {
   "cell_type": "markdown",
   "metadata": {
    "heading_collapsed": true,
    "hidden": true
   },
   "source": [
    "###### 1. Pearson Correlation Coefficients"
   ]
  },
  {
   "cell_type": "code",
   "execution_count": null,
   "metadata": {
    "hidden": true,
    "scrolled": false
   },
   "outputs": [],
   "source": [
    "library(\"plotly\")\n",
    "#options(repr.plot.width=6) #repr.plot.height=3\n",
    "m <- as.matrix(cor.mat.la)\n",
    "a <- plot_ly(x = rownames(m), y = colnames(m),\n",
    "z = m, type = \"heatmap\", colors = colorRamp(c(\"red\", \"yellow\")))\n",
    "\n",
    "m2 <- as.matrix(cor.mat.a)\n",
    "b <- plot_ly(x = rownames(m2), y = colnames(m2),\n",
    "z = m2, type = \"heatmap\", colors = colorRamp(c(\"red\", \"yellow\")))\n",
    "subplot(a, b, margin = 0.06)\n",
    "\n",
    "\n",
    "cmd <- cmdscale(cor.mat.la,eig=TRUE, k=3)\n",
    "x <- cmd$points[,1]\n",
    "y <- cmd$points[,2]\n",
    "z <- cmd$points[,3]\n",
    "\n",
    "a <- plot_ly(as.data.frame(as.matrix(cor.mat.la)), x = x, y = y, z = z, color=rownames(as.data.frame(as.matrix(cor.mat.la)))) %>%\n",
    "  add_markers() %>%\n",
    "  layout(title = \"MDS L1K++ (Pearson)\", scene = list(xaxis = list(title = 'x'),\n",
    "                      yaxis = list(title = 'y'),\n",
    "                      zaxis = list(title = 'z')))\n",
    "\n",
    "cmd <- cmdscale(cor.mat.a,eig=TRUE, k=3)\n",
    "x <- cmd$points[,1]\n",
    "y <- cmd$points[,2]\n",
    "z <- cmd$points[,3]\n",
    "\n",
    "b <- plot_ly(as.data.frame(as.matrix(cor.mat.a)), x = x, y = y, z = z, color=rownames(as.data.frame(as.matrix(cor.mat.a)))) %>%\n",
    "  add_markers() %>%\n",
    "  layout(title = \"MDS RNAseq (Pearson)\", scene = list(xaxis = list(title = 'x'),\n",
    "                      yaxis = list(title = 'y'),\n",
    "                      zaxis = list(title = 'z')))\n",
    "\n",
    "htmlwidgets::saveWidget(a, \"MDSL1KXPearson).html\")\n",
    "htmlwidgets::saveWidget(b, \"MDSRNAseqPearson.html\")\n",
    "\n",
    "embed_notebook(a)\n",
    "embed_notebook(b)"
   ]
  },
  {
   "cell_type": "markdown",
   "metadata": {
    "heading_collapsed": true,
    "hidden": true
   },
   "source": [
    "###### 2. Kendall Correlation Coefficients"
   ]
  },
  {
   "cell_type": "code",
   "execution_count": null,
   "metadata": {
    "hidden": true
   },
   "outputs": [],
   "source": [
    "library(\"plotly\")\n",
    "#options(repr.plot.width=3,repr.plot.height=3)\n",
    "m <- as.matrix(cork.mat.la)\n",
    "a <- plot_ly(x = rownames(m), y = colnames(m),\n",
    "z = m, type = \"heatmap\", colors = colorRamp(c(\"red\", \"yellow\")))\n",
    "\n",
    "m2 <- as.matrix(cork.mat.a)\n",
    "b <- plot_ly(x = rownames(m2), y = colnames(m2),\n",
    "z = m2, type = \"heatmap\", colors = colorRamp(c(\"red\", \"yellow\")))\n",
    "subplot(a, b, margin = 0.06)\n",
    "\n",
    "cmd <- cmdscale(cork.mat.la,eig=TRUE, k=3)\n",
    "x <- cmd$points[,1]\n",
    "y <- cmd$points[,2]\n",
    "z <- cmd$points[,3]\n",
    "\n",
    "a <- plot_ly(as.data.frame(as.matrix(cork.mat.la)), x = x, y = y, z = z, color=rownames(as.data.frame(as.matrix(cork.mat.la)))) %>%\n",
    "  add_markers() %>%\n",
    "  layout(title = \"MDS L1K++ (Kendall)\", scene = list(xaxis = list(title = 'x'),\n",
    "                      yaxis = list(title = 'y'),\n",
    "                      zaxis = list(title = 'z')))\n",
    "\n",
    "cmd <- cmdscale(cork.mat.a,eig=TRUE, k=3)\n",
    "x <- cmd$points[,1]\n",
    "y <- cmd$points[,2]\n",
    "z <- cmd$points[,3]\n",
    "\n",
    "b <- plot_ly(as.data.frame(as.matrix(cork.mat.a)), x = x, y = y, z = z, color=rownames(as.data.frame(as.matrix(cork.mat.a)))) %>%\n",
    "  add_markers() %>%\n",
    "  layout(title = \"MDS RNAseq (Kendall)\", scene = list(xaxis = list(title = 'x'),\n",
    "                      yaxis = list(title = 'y'),\n",
    "                      zaxis = list(title = 'z')))\n",
    "\n",
    "htmlwidgets::saveWidget(a, \"MDSL1KXKendall.html\")\n",
    "htmlwidgets::saveWidget(b, \"MDSRNAseqKendall.html\")\n",
    "\n",
    "embed_notebook(a)\n",
    "embed_notebook(b)"
   ]
  },
  {
   "cell_type": "markdown",
   "metadata": {
    "heading_collapsed": true,
    "hidden": true
   },
   "source": [
    "###### 3. Squared Mahalanobis Distance"
   ]
  },
  {
   "cell_type": "code",
   "execution_count": null,
   "metadata": {
    "collapsed": true,
    "hidden": true
   },
   "outputs": [],
   "source": [
    "library(\"plotly\")\n",
    "#options(repr.plot.width=6) #repr.plot.height=3\n",
    "m <- as.matrix(distm.mat.la)\n",
    "a <- plot_ly(x = rownames(m), y = colnames(m),\n",
    "z = m, type = \"heatmap\", colors = colorRamp(c(\"red\", \"yellow\")))\n",
    "\n",
    "m2 <- as.matrix(distm.mat.a)\n",
    "b <- plot_ly(x = rownames(m2), y = colnames(m2),\n",
    "z = m2, type = \"heatmap\", colors = colorRamp(c(\"red\", \"yellow\")))\n",
    "subplot(a, b, margin = 0.06)\n",
    "\n",
    "\n",
    "cmd <- cmdscale(distm.mat.la,eig=TRUE, k=3)\n",
    "x <- cmd$points[,1]\n",
    "y <- cmd$points[,2]\n",
    "z <- cmd$points[,3]\n",
    "\n",
    "a <- plot_ly(as.data.frame(as.matrix(distm.mat.la)), x = x, y = y, z = z, color=rownames(as.data.frame(as.matrix(distm.mat.la)))) %>%\n",
    "  add_markers() %>%\n",
    "  layout(title = \"MDS L1K++ (Sqr. Mahalanobis)\", scene = list(xaxis = list(title = 'x'),\n",
    "                      yaxis = list(title = 'y'),\n",
    "                      zaxis = list(title = 'z')))\n",
    "\n",
    "cmd <- cmdscale(distm.mat.a,eig=TRUE, k=3)\n",
    "x <- cmd$points[,1]\n",
    "y <- cmd$points[,2]\n",
    "z <- cmd$points[,3]\n",
    "\n",
    "b <- plot_ly(as.data.frame(as.matrix(distm.mat.a)), x = x, y = y, z = z, color=rownames(as.data.frame(as.matrix(distm.mat.a)))) %>%\n",
    "  add_markers() %>%\n",
    "  layout(title = \"MDS RNAseq (Sqr. Mahalanobis)\", scene = list(xaxis = list(title = 'x'),\n",
    "                      yaxis = list(title = 'y'),\n",
    "                      zaxis = list(title = 'z')))\n",
    "\n",
    "htmlwidgets::saveWidget(a, \"MDSL1KXMahalanobis.html\")\n",
    "htmlwidgets::saveWidget(b, \"MDSRNAseqMahalanobis.html\")\n",
    "\n",
    "embed_notebook(a)\n",
    "embed_notebook(b)"
   ]
  },
  {
   "cell_type": "markdown",
   "metadata": {
    "heading_collapsed": true,
    "hidden": true
   },
   "source": [
    "#####  Interactive Visualization For Cell Line Similarity"
   ]
  },
  {
   "cell_type": "markdown",
   "metadata": {
    "hidden": true
   },
   "source": [
    "For this interactive visualization, we use Javescript embedded in the markdown cells of this notebook to show the previous plots that are saved as HTML files to facilitate exploring the data and the plots when there is no need to change the parameters of the analysis and re-run the R scripts. Also, repeating the previous visualization using Markedown cells (Javascript/HTML tags), we ensure that the visualization will be shown even while running the notebook on some static viewers. \n",
    "\n",
    "Also, it is a workaround in terms of the size limit. Uploading this entire notebook with its outputs is going to exceed Github file size limit. Using Markdown cells (as we show in this section) to display the visualization allows us to upload the light notebook without its huge outputs since we can show the output later using nbViewer. However, if we run the notebook on Binder, we won't face this issue."
   ]
  },
  {
   "cell_type": "markdown",
   "metadata": {
    "heading_collapsed": true,
    "hidden": true
   },
   "source": [
    "###### 1. L1K++ vs. CCLE (55 Cell Lines)"
   ]
  },
  {
   "cell_type": "markdown",
   "metadata": {
    "hidden": true
   },
   "source": [
    "<html>\n",
    "<script>\n",
    "function setIframeSource() {\n",
    "   var theSelect = document.getElementById('plot');\n",
    "   var theIframe = document.getElementById('myIframe');\n",
    "   var theUrl;\n",
    " \n",
    "   theUrl = theSelect.options[theSelect.selectedIndex].value;\n",
    "   theIframe.src = theUrl;\n",
    "}\n",
    "</script>\n",
    "<head>\n",
    "\n",
    "<form id=\"form1\" method=\"post\">\n",
    "   <label> Select A Plot: <select id=\"plot\" onchange=\"setIframeSource()\"> \n",
    "   \n",
    "      <option value=\"dummy.html\">Select a plot ...</option> \n",
    "      \n",
    "      <option value=\"MDSL1KPearson.html\">MDS L1K++ (55 cell lines) - Pearson</option> \n",
    "      <option value=\"MDSCCLEPearson.html\">MDS CCLE (55 cell lines) - Pearson</option>\n",
    "      \n",
    "      <option value=\"MDSL1KKendall.html\">MDS L1K++ (55 cell lines) - Kendall</option> \n",
    "      <option value=\"MDSCCLEKendall.html\">MDS CCLE (55 cell lines) - Kendall</option>\n",
    "      \n",
    "      <option value=\"MDSL1KMahalanobis.html\">MDS L1K++ (55 cell lines) - Mahalanobis</option> \n",
    "      <option value=\"MDSCCLEMahalanobis.html\">MDS CCLE (55 cell lines) - Mahalanobis</option> \n",
    "\n",
    "   </select></label>\n",
    "</form>\n",
    " \n",
    "<iframe id=\"myIframe\" src=\"dummy.html\" frameborder=\"0\" marginwidth=\"0\" marginheight=\"0\" width=\"800\" height=\"400\"></iframe>\n",
    "\n",
    "\n",
    "</body>\n",
    "</html>\n"
   ]
  },
  {
   "cell_type": "markdown",
   "metadata": {
    "heading_collapsed": true,
    "hidden": true
   },
   "source": [
    "###### 2. L1K++ vs. RNAseq (41 Cell Lines)"
   ]
  },
  {
   "cell_type": "markdown",
   "metadata": {
    "hidden": true
   },
   "source": [
    "<html>\n",
    "<script>\n",
    "function setIframeSource() {\n",
    "   var theSelect = document.getElementById('plot');\n",
    "   var theIframe = document.getElementById('myIframe');\n",
    "   var theUrl;\n",
    " \n",
    "   theUrl = theSelect.options[theSelect.selectedIndex].value;\n",
    "   theIframe.src = theUrl;\n",
    "}\n",
    "</script>\n",
    "<head>\n",
    "\n",
    "<form id=\"form1\" method=\"post\">\n",
    "   <label> Select A Plot: <select id=\"plot\" onchange=\"setIframeSource()\"> \n",
    "   \n",
    "      <option value=\"dummy.html\">Select a plot ...</option> \n",
    "      \n",
    "      <option value=\"MDSL1KPearson.html\">MDS L1K++ (41 cell lines) - Pearson</option> \n",
    "      <option value=\"MDSRNAseqPearson.html\">MDS RNAseq (41 cell lines) - Pearson</option>\n",
    "      \n",
    "      <option value=\"MDSL1KKendall.html\">MDS L1K++ (41 cell lines) - Kendall</option> \n",
    "      <option value=\"MDSRNAseqKendall.html\">MDS RNAseq (41 cell lines) - Kendall</option>\n",
    "      \n",
    "      <option value=\"MDSL1KMahalanobis.html\">MDS L1K++ (41 cell lines) - Mahalanobis</option> \n",
    "      <option value=\"MDSRNAseqMahalanobis.html\">MDS RNAseq (41 cell lines) - Mahalanobis</option> \n",
    "\n",
    "   </select></label>\n",
    "</form>\n",
    " \n",
    "<iframe id=\"myIframe\" src=\"dummy.html\" frameborder=\"0\" marginwidth=\"0\" marginheight=\"0\" width=\"800\" height=\"400\"></iframe>\n",
    "\n",
    "\n",
    "</body>\n",
    "</html>\n"
   ]
  },
  {
   "cell_type": "markdown",
   "metadata": {},
   "source": [
    "#### Clustering Visualization"
   ]
  },
  {
   "cell_type": "markdown",
   "metadata": {
    "run_control": {
     "marked": false
    }
   },
   "source": [
    "Clustering is an effective tool in this project to explore data and discover patterns in cell lines across different perturbations. In particular, we use some clustering approaches as a similarity measurement [12]. Hierarchical clustering and model-based clustering are used to cluster similar cell lines and similar drugs. Hierarchical clustering algorithms return the clusters in a hierarchical structure and do not require a prior knowledge of the number of the clusters [13]. Model-based clustering can be a good alternative to heuristic algorithms using some mathematical models such as decision trees [14]. We cluster cell lines based on their gene expressions, and then compute the adjust rand index to assess the clustering of each two datasets. R Packages are used in this study. For hierarchical clustering, we use <B><I>\"stats\"</I></B> package to build the hierarchical clusters, and for model-based clustering, we use <B><I>\"mclust\"</I></B> package"
   ]
  },
  {
   "cell_type": "markdown",
   "metadata": {
    "format": "row",
    "run_control": {
     "marked": false
    }
   },
   "source": [
    "##### Hierarchical Clustering"
   ]
  },
  {
   "cell_type": "markdown",
   "metadata": {},
   "source": [
    "The following scripts includes a function that takes two distance matrices, a model name, and a threshold as parameters to test different numbers of clusters for each two datasets (L1K++ vs. CCLE & L1K++ vs. RNAseq) and print all the combinations of clusters number that gives an adjust rand index greater than the threshold."
   ]
  },
  {
   "cell_type": "code",
   "execution_count": null,
   "metadata": {
    "cell_style": "center",
    "code_folding": [
     2,
     5,
     7,
     15,
     17
    ],
    "format": "row"
   },
   "outputs": [],
   "source": [
    "library(\"stats\")\n",
    "findOptNumClust.hc <- function(dist.mat1, dist.mat2, model, thrsh)\n",
    "{\n",
    "  thrshold  <- thrsh\n",
    "  for(i in 2:15)\n",
    "  {\n",
    "    for(j in 2:15)\n",
    "    {\n",
    "      #-------------------\n",
    "      ARI   <<- NULL\n",
    "      ARI2  <<- NULL\n",
    "      \n",
    "      hc1 <- cutree(hclust(dist.mat1, method = model), i)\n",
    "      hc2 <- cutree(hclust(dist.mat2, method = model), j) \n",
    "        \n",
    "      tryCatch({\n",
    "        if(adjustedRandIndex(hc1, hc2) >= thrshold)\n",
    "        {\n",
    "          ARI  <<- adjustedRandIndex(hc1, hc2) \n",
    "          cat(\"======================================\\n\")\n",
    "          cat(\"#cluster_1 :\", i, \"  | \")\n",
    "          cat(\"#cluster_2 :\", j, \"\\n\")\n",
    "          cat(\"threshold :\", thrshold, \" | \")\n",
    "          cat(\"Model: \", model, \"\\n\")\n",
    "          cat(\"--------------------------\\n\")\n",
    "          cat(\"ARI :\", ARI, \"\\n\")\n",
    "        }\n",
    "      }, error=function(e){cat(\"ERROR:\",conditionMessage(e), \"\\n\")}) \n",
    "      #-------------------\n",
    "      j <- j + 1;\n",
    "    }\n",
    "    i <- i + 1;\n",
    "  }\n",
    "}"
   ]
  },
  {
   "cell_type": "markdown",
   "metadata": {},
   "source": [
    "Now, we call the function <B><I>findOptimalNumClust.hc()</I></B> and send the desired parameters including: the distance matrices for the two datasets we are clustering, the model type, and the threshold for the adjust rand index values."
   ]
  },
  {
   "cell_type": "code",
   "execution_count": 86,
   "metadata": {
    "cell_style": "center",
    "format": "row"
   },
   "outputs": [
    {
     "name": "stdout",
     "output_type": "stream",
     "text": [
      "======================================\n",
      "#cluster_1 : 11  | #cluster_2 : 11 \n",
      "threshold : 0.25  | Model:  complete \n",
      "--------------------------\n",
      "ARI : 0.2605422 \n",
      "======================================\n",
      "#cluster_1 : 11  | #cluster_2 : 12 \n",
      "threshold : 0.25  | Model:  complete \n",
      "--------------------------\n",
      "ARI : 0.2700889 \n",
      "======================================\n",
      "#cluster_1 : 11  | #cluster_2 : 13 \n",
      "threshold : 0.25  | Model:  complete \n",
      "--------------------------\n",
      "ARI : 0.2678659 \n",
      "======================================\n",
      "#cluster_1 : 11  | #cluster_2 : 14 \n",
      "threshold : 0.25  | Model:  complete \n",
      "--------------------------\n",
      "ARI : 0.2712711 \n",
      "======================================\n",
      "#cluster_1 : 11  | #cluster_2 : 15 \n",
      "threshold : 0.25  | Model:  complete \n",
      "--------------------------\n",
      "ARI : 0.2598249 \n",
      "======================================\n",
      "#cluster_1 : 12  | #cluster_2 : 10 \n",
      "threshold : 0.25  | Model:  complete \n",
      "--------------------------\n",
      "ARI : 0.2583374 \n",
      "======================================\n",
      "#cluster_1 : 12  | #cluster_2 : 11 \n",
      "threshold : 0.25  | Model:  complete \n",
      "--------------------------\n",
      "ARI : 0.2739395 \n",
      "======================================\n",
      "#cluster_1 : 12  | #cluster_2 : 12 \n",
      "threshold : 0.25  | Model:  complete \n",
      "--------------------------\n",
      "ARI : 0.2838298 \n",
      "======================================\n",
      "#cluster_1 : 12  | #cluster_2 : 13 \n",
      "threshold : 0.25  | Model:  complete \n",
      "--------------------------\n",
      "ARI : 0.2819416 \n",
      "======================================\n",
      "#cluster_1 : 12  | #cluster_2 : 14 \n",
      "threshold : 0.25  | Model:  complete \n",
      "--------------------------\n",
      "ARI : 0.2856864 \n",
      "======================================\n",
      "#cluster_1 : 12  | #cluster_2 : 15 \n",
      "threshold : 0.25  | Model:  complete \n",
      "--------------------------\n",
      "ARI : 0.2739346 \n",
      "======================================\n",
      "#cluster_1 : 13  | #cluster_2 : 9 \n",
      "threshold : 0.25  | Model:  complete \n",
      "--------------------------\n",
      "ARI : 0.2575153 \n",
      "======================================\n",
      "#cluster_1 : 13  | #cluster_2 : 10 \n",
      "threshold : 0.25  | Model:  complete \n",
      "--------------------------\n",
      "ARI : 0.2684369 \n",
      "======================================\n",
      "#cluster_1 : 13  | #cluster_2 : 11 \n",
      "threshold : 0.25  | Model:  complete \n",
      "--------------------------\n",
      "ARI : 0.2844631 \n",
      "======================================\n",
      "#cluster_1 : 13  | #cluster_2 : 12 \n",
      "threshold : 0.25  | Model:  complete \n",
      "--------------------------\n",
      "ARI : 0.294639 \n",
      "======================================\n",
      "#cluster_1 : 13  | #cluster_2 : 13 \n",
      "threshold : 0.25  | Model:  complete \n",
      "--------------------------\n",
      "ARI : 0.293086 \n",
      "======================================\n",
      "#cluster_1 : 13  | #cluster_2 : 14 \n",
      "threshold : 0.25  | Model:  complete \n",
      "--------------------------\n",
      "ARI : 0.2971422 \n",
      "======================================\n",
      "#cluster_1 : 13  | #cluster_2 : 15 \n",
      "threshold : 0.25  | Model:  complete \n",
      "--------------------------\n",
      "ARI : 0.2851622 \n",
      "======================================\n",
      "#cluster_1 : 14  | #cluster_2 : 9 \n",
      "threshold : 0.25  | Model:  complete \n",
      "--------------------------\n",
      "ARI : 0.2520187 \n",
      "======================================\n",
      "#cluster_1 : 14  | #cluster_2 : 10 \n",
      "threshold : 0.25  | Model:  complete \n",
      "--------------------------\n",
      "ARI : 0.2623568 \n",
      "======================================\n",
      "#cluster_1 : 14  | #cluster_2 : 11 \n",
      "threshold : 0.25  | Model:  complete \n",
      "--------------------------\n",
      "ARI : 0.2782378 \n",
      "======================================\n",
      "#cluster_1 : 14  | #cluster_2 : 12 \n",
      "threshold : 0.25  | Model:  complete \n",
      "--------------------------\n",
      "ARI : 0.2883387 \n",
      "======================================\n",
      "#cluster_1 : 14  | #cluster_2 : 13 \n",
      "threshold : 0.25  | Model:  complete \n",
      "--------------------------\n",
      "ARI : 0.2854635 \n",
      "======================================\n",
      "#cluster_1 : 14  | #cluster_2 : 14 \n",
      "threshold : 0.25  | Model:  complete \n",
      "--------------------------\n",
      "ARI : 0.2888807 \n",
      "======================================\n",
      "#cluster_1 : 14  | #cluster_2 : 15 \n",
      "threshold : 0.25  | Model:  complete \n",
      "--------------------------\n",
      "ARI : 0.2969925 \n",
      "======================================\n",
      "#cluster_1 : 15  | #cluster_2 : 9 \n",
      "threshold : 0.25  | Model:  complete \n",
      "--------------------------\n",
      "ARI : 0.2656615 \n",
      "======================================\n",
      "#cluster_1 : 15  | #cluster_2 : 10 \n",
      "threshold : 0.25  | Model:  complete \n",
      "--------------------------\n",
      "ARI : 0.2765646 \n",
      "======================================\n",
      "#cluster_1 : 15  | #cluster_2 : 11 \n",
      "threshold : 0.25  | Model:  complete \n",
      "--------------------------\n",
      "ARI : 0.2930886 \n",
      "======================================\n",
      "#cluster_1 : 15  | #cluster_2 : 12 \n",
      "threshold : 0.25  | Model:  complete \n",
      "--------------------------\n",
      "ARI : 0.3036236 \n",
      "======================================\n",
      "#cluster_1 : 15  | #cluster_2 : 13 \n",
      "threshold : 0.25  | Model:  complete \n",
      "--------------------------\n",
      "ARI : 0.3013174 \n",
      "======================================\n",
      "#cluster_1 : 15  | #cluster_2 : 14 \n",
      "threshold : 0.25  | Model:  complete \n",
      "--------------------------\n",
      "ARI : 0.3052385 \n",
      "======================================\n",
      "#cluster_1 : 15  | #cluster_2 : 15 \n",
      "threshold : 0.25  | Model:  complete \n",
      "--------------------------\n",
      "ARI : 0.3137906 \n"
     ]
    }
   ],
   "source": [
    "# 1st parameter: distance matrix for the 1st dataset \n",
    "# (see section: \"Computing Cell Line Distance\" to find the matrices names)\n",
    "# 2nd parameter: distance matrix for the 2nd dataset\n",
    "# 3rd parameter: cluster link type = {complete | average}\n",
    "# 4th parameter: threshold to print the numbers of clusters that gives ARI are >= threshold\n",
    "findOptNumClust.hc(cor.mat.lc, cor.mat.c, \"complete\", 0.25)"
   ]
  },
  {
   "cell_type": "markdown",
   "metadata": {},
   "source": [
    "The output above, helps us pick the best number of clusters for each one of the two datasets based on the clustering adjust rand index. It shows different combinations of the number of clusters for the two datasets we are studying.\n",
    "\n",
    "After many experiments, we have the next tables that show the top results of the clustering analysis based on the adjust rand values. For L1K++ vs. RNAseq, the hierarchical clustering based on Mahalanobis distance is the best we can get from the two datasets. For L1K++ vs. CCLE, the top adjust rand values using different distance metrics are significantly higher than the ones resulted from the previous two datasets (L1K++ vs. RNAseq). "
   ]
  },
  {
   "cell_type": "markdown",
   "metadata": {},
   "source": [
    "<table><tr><td><img src='./hclust_result1.png' style=\"width: 800px;\"></td></tr><tr><td><img src='hclust_result2.png' style=\"width: 800px;\"></td></tr></table>"
   ]
  },
  {
   "cell_type": "markdown",
   "metadata": {},
   "source": [
    "To visualize the clustering results for L1K++ against each one of the other two datasets, we can change the parameters of the following functions to visualize any dataset clustering result selecting a distance matrix, number of clusters, and visualization format."
   ]
  },
  {
   "cell_type": "code",
   "execution_count": 84,
   "metadata": {},
   "outputs": [
    {
     "name": "stderr",
     "output_type": "stream",
     "text": [
      "Warning message in file(filename, \"r\", encoding = encoding):\n",
      "“unable to connect to 'addictedtor.free.fr' on port 80.”"
     ]
    },
    {
     "ename": "ERROR",
     "evalue": "Error in file(filename, \"r\", encoding = encoding): cannot open the connection\n",
     "output_type": "error",
     "traceback": [
      "Error in file(filename, \"r\", encoding = encoding): cannot open the connection\nTraceback:\n",
      "1. source(\"http://addictedtor.free.fr/packages/A2R/lastVersion/R/code.R\")",
      "2. file(filename, \"r\", encoding = encoding)"
     ]
    },
    {
     "data": {
      "image/png": "[encoded data removed]",
      "text/plain": [
       "plot without title"
      ]
     },
     "metadata": {},
     "output_type": "display_data"
    }
   ],
   "source": [
    "library(\"ape\")\n",
    "library(ggdendro)\n",
    "\n",
    "nclust = 4\n",
    "dist.mat = cor.mat.lc\n",
    "link = \"average\"\n",
    "  \n",
    "clus <- cutree(hclust(dist.mat, method = link), nclust)\n",
    "mypal = c(\"blue\", \"orange\", \"green\", \"red\") \n",
    "tip.color = mypal[clus]\n",
    "plot(as.phylo(hclust(dist.mat, method = link)), type = \"fan\" , tip.color = mypal[clus]) # unrooted , fan\n",
    "#----------\n",
    "# load code of A2R function\n",
    "source(\"http://addictedtor.free.fr/packages/A2R/lastVersion/R/code.R\")\n",
    "op = par(bg = \"white\")\n",
    "A2Rplot(hclust(dist.mat, method = link), k = nclust, boxes = FALSE, col.down = rainbow(nclust), width = 4)"
   ]
  },
  {
   "cell_type": "code",
   "execution_count": null,
   "metadata": {
    "scrolled": true
   },
   "outputs": [],
   "source": [
    "library(sparcl)\n",
    "# colors the leaves of a dendrogram\n",
    "hc <- hclust(dist.mat, method = link)\n",
    "y = cutree(hc, 3)\n",
    "par(cex=.6)\n",
    "ColorDendrogram(hc, y = y, labels = names(y), main = \"My Data\", \n",
    "    branchlength = 80)"
   ]
  },
  {
   "cell_type": "code",
   "execution_count": null,
   "metadata": {
    "collapsed": true
   },
   "outputs": [],
   "source": [
    "library(ggplot2)\n",
    "library(ggdendro)\n",
    "hc <- hclust(dist(USArrests), \"ave\")\n",
    "hcdata <- dendro_data(hc, type=\"rectangle\")\n",
    "p <- ggplot() + \n",
    "    geom_segment(data=segment(hcdata), aes(x=x, y=y, xend=xend, yend=yend)) +\n",
    "    geom_text(data=label(hcdata), aes(x=x, y=y, label=label, hjust=0), size=3) +\n",
    "    coord_flip() + \n",
    "    scale_y_reverse(expand=c(0.2, 0))"
   ]
  },
  {
   "cell_type": "markdown",
   "metadata": {},
   "source": [
    "###### 1. L1K++ vs. CCLE (55 cell lines)"
   ]
  },
  {
   "cell_type": "markdown",
   "metadata": {},
   "source": []
  },
  {
   "cell_type": "markdown",
   "metadata": {},
   "source": [
    "###### 2. L1K++ vs. RNAseq (41 cell lines)"
   ]
  },
  {
   "cell_type": "markdown",
   "metadata": {
    "format": "row",
    "hide_input": false
   },
   "source": [
    "##### Model-based Clustering"
   ]
  },
  {
   "cell_type": "markdown",
   "metadata": {},
   "source": [
    "Since we are clustering to benchmark cell line similarities in L1K++ with each one of the two datasets: CCLE, RNAseq, we want to find the optimal number of clusters that gives the highest adjust rand index for each two datasets.  \n",
    "  \n",
    "The following script includes a function that generates hc objects for the two datasets to initialize the mclust with."
   ]
  },
  {
   "cell_type": "code",
   "execution_count": 88,
   "metadata": {
    "code_folding": [
     35
    ]
   },
   "outputs": [],
   "source": [
    "findOptimalNumClust.mc <- function(data1, data2, threshold, model.h, model.m)\n",
    "{\n",
    "hc1 <<- hc(data1, modelName = model.h)\n",
    "hc2 <<- hc(data2, modelName = model.h)\n",
    "for(g1 in 2:15)\n",
    "{\n",
    "  for(g2 in 2:15)\n",
    "  {\n",
    "    mc1 <- Mclust(data1, modelNames = model.m, G = g1, initialization = list(hcPairs= hc1))\n",
    "    mc2 <- Mclust(data2, modelNames = model.m, G = g2, initialization = list(hcPairs= hc2))\n",
    "    tryCatch({\n",
    "      if(adjustedRandIndex(mc1$classification, mc2$classification) >= threshold)\n",
    "      {\n",
    "        ARI  <- adjustedRandIndex(mc1$classification, mc2$classification)\n",
    "        cat(\"# clusters_L1K :\", g1, \"\\n\")\n",
    "        cat(\"# clusters_2nd :\", g2, \"\\n\")\n",
    "        cat(\"threshold :\", threshold, \"\\n\")\n",
    "        \n",
    "        cat(\"ARI :\", ARI, \"\\n\")\n",
    "        cat(\"---------------------------------\\n\")\n",
    "      }\n",
    "    }, error=function(e){cat(\"ERROR :\",conditionMessage(e), \"\\n\")})\n",
    "  }\n",
    "}\n",
    "}"
   ]
  },
  {
   "cell_type": "markdown",
   "metadata": {},
   "source": [
    "Call the function after selecting the values of its parameters of the process."
   ]
  },
  {
   "cell_type": "code",
   "execution_count": 89,
   "metadata": {},
   "outputs": [
    {
     "name": "stdout",
     "output_type": "stream",
     "text": [
      "# clusters_L1K : 2 \n",
      "# clusters_2nd : 2 \n",
      "threshold : 0.06 \n",
      "ARI : 0.1773913 \n",
      "---------------------------------\n",
      "# clusters_L1K : 2 \n",
      "# clusters_2nd : 3 \n",
      "threshold : 0.06 \n",
      "ARI : 0.1865255 \n",
      "---------------------------------\n",
      "# clusters_L1K : 2 \n",
      "# clusters_2nd : 4 \n",
      "threshold : 0.06 \n",
      "ARI : 0.06844687 \n",
      "---------------------------------\n",
      "# clusters_L1K : 2 \n",
      "# clusters_2nd : 5 \n",
      "threshold : 0.06 \n",
      "ARI : 0.07187863 \n",
      "---------------------------------\n",
      "# clusters_L1K : 3 \n",
      "# clusters_2nd : 2 \n",
      "threshold : 0.06 \n",
      "ARI : 0.07090129 \n",
      "---------------------------------\n",
      "# clusters_L1K : 3 \n",
      "# clusters_2nd : 3 \n",
      "threshold : 0.06 \n",
      "ARI : 0.07292008 \n",
      "---------------------------------\n",
      "# clusters_L1K : 3 \n",
      "# clusters_2nd : 5 \n",
      "threshold : 0.06 \n",
      "ARI : 0.06274364 \n",
      "---------------------------------\n",
      "# clusters_L1K : 4 \n",
      "# clusters_2nd : 2 \n",
      "threshold : 0.06 \n",
      "ARI : 0.06978622 \n",
      "---------------------------------\n",
      "# clusters_L1K : 4 \n",
      "# clusters_2nd : 5 \n",
      "threshold : 0.06 \n",
      "ARI : 0.07188106 \n",
      "---------------------------------\n",
      "# clusters_L1K : 4 \n",
      "# clusters_2nd : 6 \n",
      "threshold : 0.06 \n",
      "ARI : 0.07583777 \n",
      "---------------------------------\n",
      "# clusters_L1K : 4 \n",
      "# clusters_2nd : 7 \n",
      "threshold : 0.06 \n",
      "ARI : 0.07043366 \n",
      "---------------------------------\n",
      "# clusters_L1K : 4 \n",
      "# clusters_2nd : 8 \n",
      "threshold : 0.06 \n",
      "ARI : 0.06697071 \n",
      "---------------------------------\n",
      "# clusters_L1K : 4 \n",
      "# clusters_2nd : 9 \n",
      "threshold : 0.06 \n",
      "ARI : 0.08763137 \n",
      "---------------------------------\n",
      "# clusters_L1K : 4 \n",
      "# clusters_2nd : 10 \n",
      "threshold : 0.06 \n",
      "ARI : 0.06782135 \n",
      "---------------------------------\n",
      "# clusters_L1K : 4 \n",
      "# clusters_2nd : 11 \n",
      "threshold : 0.06 \n",
      "ARI : 0.06477804 \n",
      "---------------------------------\n",
      "# clusters_L1K : 4 \n",
      "# clusters_2nd : 12 \n",
      "threshold : 0.06 \n",
      "ARI : 0.06324892 \n",
      "---------------------------------\n",
      "# clusters_L1K : 4 \n",
      "# clusters_2nd : 13 \n",
      "threshold : 0.06 \n",
      "ARI : 0.06690179 \n",
      "---------------------------------\n",
      "# clusters_L1K : 4 \n",
      "# clusters_2nd : 14 \n",
      "threshold : 0.06 \n",
      "ARI : 0.07426167 \n",
      "---------------------------------\n",
      "# clusters_L1K : 4 \n",
      "# clusters_2nd : 15 \n",
      "threshold : 0.06 \n",
      "ARI : 0.08969005 \n",
      "---------------------------------\n",
      "# clusters_L1K : 5 \n",
      "# clusters_2nd : 2 \n",
      "threshold : 0.06 \n",
      "ARI : 0.1539622 \n",
      "---------------------------------\n",
      "# clusters_L1K : 5 \n",
      "# clusters_2nd : 3 \n",
      "threshold : 0.06 \n",
      "ARI : 0.1612826 \n",
      "---------------------------------\n",
      "# clusters_L1K : 5 \n",
      "# clusters_2nd : 4 \n",
      "threshold : 0.06 \n",
      "ARI : 0.1475234 \n",
      "---------------------------------\n",
      "# clusters_L1K : 5 \n",
      "# clusters_2nd : 5 \n",
      "threshold : 0.06 \n",
      "ARI : 0.1306611 \n",
      "---------------------------------\n",
      "# clusters_L1K : 5 \n",
      "# clusters_2nd : 6 \n",
      "threshold : 0.06 \n",
      "ARI : 0.1246159 \n",
      "---------------------------------\n",
      "# clusters_L1K : 5 \n",
      "# clusters_2nd : 7 \n",
      "threshold : 0.06 \n",
      "ARI : 0.1137273 \n",
      "---------------------------------\n",
      "# clusters_L1K : 5 \n",
      "# clusters_2nd : 8 \n",
      "threshold : 0.06 \n",
      "ARI : 0.1090883 \n",
      "---------------------------------\n",
      "# clusters_L1K : 5 \n",
      "# clusters_2nd : 9 \n",
      "threshold : 0.06 \n",
      "ARI : 0.1290931 \n",
      "---------------------------------\n",
      "# clusters_L1K : 5 \n",
      "# clusters_2nd : 10 \n",
      "threshold : 0.06 \n",
      "ARI : 0.1044692 \n",
      "---------------------------------\n",
      "# clusters_L1K : 5 \n",
      "# clusters_2nd : 11 \n",
      "threshold : 0.06 \n",
      "ARI : 0.100738 \n",
      "---------------------------------\n",
      "# clusters_L1K : 5 \n",
      "# clusters_2nd : 12 \n",
      "threshold : 0.06 \n",
      "ARI : 0.09886067 \n",
      "---------------------------------\n",
      "# clusters_L1K : 5 \n",
      "# clusters_2nd : 13 \n",
      "threshold : 0.06 \n",
      "ARI : 0.1025178 \n",
      "---------------------------------\n",
      "# clusters_L1K : 5 \n",
      "# clusters_2nd : 14 \n",
      "threshold : 0.06 \n",
      "ARI : 0.1099014 \n",
      "---------------------------------\n",
      "# clusters_L1K : 5 \n",
      "# clusters_2nd : 15 \n",
      "threshold : 0.06 \n",
      "ARI : 0.1244248 \n",
      "---------------------------------\n",
      "# clusters_L1K : 6 \n",
      "# clusters_2nd : 2 \n",
      "threshold : 0.06 \n",
      "ARI : 0.1281096 \n",
      "---------------------------------\n",
      "# clusters_L1K : 6 \n",
      "# clusters_2nd : 3 \n",
      "threshold : 0.06 \n",
      "ARI : 0.1336933 \n",
      "---------------------------------\n",
      "# clusters_L1K : 6 \n",
      "# clusters_2nd : 4 \n",
      "threshold : 0.06 \n",
      "ARI : 0.1352576 \n",
      "---------------------------------\n",
      "# clusters_L1K : 6 \n",
      "# clusters_2nd : 5 \n",
      "threshold : 0.06 \n",
      "ARI : 0.1799079 \n",
      "---------------------------------\n",
      "# clusters_L1K : 6 \n",
      "# clusters_2nd : 6 \n",
      "threshold : 0.06 \n",
      "ARI : 0.1654909 \n",
      "---------------------------------\n",
      "# clusters_L1K : 6 \n",
      "# clusters_2nd : 7 \n",
      "threshold : 0.06 \n",
      "ARI : 0.1324771 \n",
      "---------------------------------\n",
      "# clusters_L1K : 6 \n",
      "# clusters_2nd : 8 \n",
      "threshold : 0.06 \n",
      "ARI : 0.1265178 \n",
      "---------------------------------\n",
      "# clusters_L1K : 6 \n",
      "# clusters_2nd : 9 \n",
      "threshold : 0.06 \n",
      "ARI : 0.1455324 \n",
      "---------------------------------\n",
      "# clusters_L1K : 6 \n",
      "# clusters_2nd : 10 \n",
      "threshold : 0.06 \n",
      "ARI : 0.1386378 \n",
      "---------------------------------\n",
      "# clusters_L1K : 6 \n",
      "# clusters_2nd : 11 \n",
      "threshold : 0.06 \n",
      "ARI : 0.1389032 \n",
      "---------------------------------\n",
      "# clusters_L1K : 6 \n",
      "# clusters_2nd : 12 \n",
      "threshold : 0.06 \n",
      "ARI : 0.1366973 \n",
      "---------------------------------\n",
      "# clusters_L1K : 6 \n",
      "# clusters_2nd : 13 \n",
      "threshold : 0.06 \n",
      "ARI : 0.140413 \n",
      "---------------------------------\n",
      "# clusters_L1K : 6 \n",
      "# clusters_2nd : 14 \n",
      "threshold : 0.06 \n",
      "ARI : 0.1384636 \n",
      "---------------------------------\n",
      "# clusters_L1K : 6 \n",
      "# clusters_2nd : 15 \n",
      "threshold : 0.06 \n",
      "ARI : 0.1521636 \n",
      "---------------------------------\n",
      "# clusters_L1K : 7 \n",
      "# clusters_2nd : 2 \n",
      "threshold : 0.06 \n",
      "ARI : 0.1480963 \n",
      "---------------------------------\n",
      "# clusters_L1K : 7 \n",
      "# clusters_2nd : 3 \n",
      "threshold : 0.06 \n",
      "ARI : 0.1600956 \n",
      "---------------------------------\n",
      "# clusters_L1K : 7 \n",
      "# clusters_2nd : 4 \n",
      "threshold : 0.06 \n",
      "ARI : 0.1567906 \n",
      "---------------------------------\n",
      "# clusters_L1K : 7 \n",
      "# clusters_2nd : 5 \n",
      "threshold : 0.06 \n",
      "ARI : 0.2009798 \n",
      "---------------------------------\n",
      "# clusters_L1K : 7 \n",
      "# clusters_2nd : 6 \n",
      "threshold : 0.06 \n",
      "ARI : 0.1839547 \n",
      "---------------------------------\n",
      "# clusters_L1K : 7 \n",
      "# clusters_2nd : 7 \n",
      "threshold : 0.06 \n",
      "ARI : 0.1487778 \n",
      "---------------------------------\n",
      "# clusters_L1K : 7 \n",
      "# clusters_2nd : 8 \n",
      "threshold : 0.06 \n",
      "ARI : 0.1423923 \n",
      "---------------------------------\n",
      "# clusters_L1K : 7 \n",
      "# clusters_2nd : 9 \n",
      "threshold : 0.06 \n",
      "ARI : 0.161309 \n",
      "---------------------------------\n",
      "# clusters_L1K : 7 \n",
      "# clusters_2nd : 10 \n",
      "threshold : 0.06 \n",
      "ARI : 0.1532885 \n",
      "---------------------------------\n",
      "# clusters_L1K : 7 \n",
      "# clusters_2nd : 11 \n",
      "threshold : 0.06 \n",
      "ARI : 0.1534421 \n",
      "---------------------------------\n",
      "# clusters_L1K : 7 \n",
      "# clusters_2nd : 12 \n",
      "threshold : 0.06 \n",
      "ARI : 0.151101 \n",
      "---------------------------------\n",
      "# clusters_L1K : 7 \n",
      "# clusters_2nd : 13 \n",
      "threshold : 0.06 \n",
      "ARI : 0.1548508 \n",
      "---------------------------------\n",
      "# clusters_L1K : 7 \n",
      "# clusters_2nd : 14 \n",
      "threshold : 0.06 \n",
      "ARI : 0.1526489 \n",
      "---------------------------------\n",
      "# clusters_L1K : 7 \n",
      "# clusters_2nd : 15 \n",
      "threshold : 0.06 \n",
      "ARI : 0.1661477 \n",
      "---------------------------------\n",
      "# clusters_L1K : 8 \n",
      "# clusters_2nd : 2 \n",
      "threshold : 0.06 \n",
      "ARI : 0.1466463 \n",
      "---------------------------------\n",
      "# clusters_L1K : 8 \n",
      "# clusters_2nd : 3 \n",
      "threshold : 0.06 \n",
      "ARI : 0.1584677 \n",
      "---------------------------------\n",
      "# clusters_L1K : 8 \n",
      "# clusters_2nd : 4 \n",
      "threshold : 0.06 \n",
      "ARI : 0.1595534 \n",
      "---------------------------------\n",
      "# clusters_L1K : 8 \n",
      "# clusters_2nd : 5 \n",
      "threshold : 0.06 \n",
      "ARI : 0.203412 \n",
      "---------------------------------\n",
      "# clusters_L1K : 8 \n",
      "# clusters_2nd : 6 \n",
      "threshold : 0.06 \n",
      "ARI : 0.1892285 \n",
      "---------------------------------\n",
      "# clusters_L1K : 8 \n",
      "# clusters_2nd : 7 \n",
      "threshold : 0.06 \n",
      "ARI : 0.1534623 \n",
      "---------------------------------\n",
      "# clusters_L1K : 8 \n",
      "# clusters_2nd : 8 \n",
      "threshold : 0.06 \n",
      "ARI : 0.1469594 \n",
      "---------------------------------\n",
      "# clusters_L1K : 8 \n",
      "# clusters_2nd : 9 \n",
      "threshold : 0.06 \n",
      "ARI : 0.1658605 \n",
      "---------------------------------\n",
      "# clusters_L1K : 8 \n",
      "# clusters_2nd : 10 \n",
      "threshold : 0.06 \n",
      "ARI : 0.157532 \n",
      "---------------------------------\n",
      "# clusters_L1K : 8 \n",
      "# clusters_2nd : 11 \n",
      "threshold : 0.06 \n",
      "ARI : 0.1576554 \n",
      "---------------------------------\n",
      "# clusters_L1K : 8 \n",
      "# clusters_2nd : 12 \n",
      "threshold : 0.06 \n",
      "ARI : 0.1552762 \n",
      "---------------------------------\n",
      "# clusters_L1K : 8 \n",
      "# clusters_2nd : 13 \n",
      "threshold : 0.06 \n",
      "ARI : 0.1590375 \n",
      "---------------------------------\n",
      "# clusters_L1K : 8 \n",
      "# clusters_2nd : 14 \n",
      "threshold : 0.06 \n",
      "ARI : 0.1567656 \n",
      "---------------------------------\n",
      "# clusters_L1K : 8 \n",
      "# clusters_2nd : 15 \n",
      "threshold : 0.06 \n",
      "ARI : 0.1702185 \n",
      "---------------------------------\n",
      "# clusters_L1K : 9 \n",
      "# clusters_2nd : 2 \n",
      "threshold : 0.06 \n",
      "ARI : 0.1814593 \n",
      "---------------------------------\n",
      "# clusters_L1K : 9 \n",
      "# clusters_2nd : 3 \n",
      "threshold : 0.06 \n",
      "ARI : 0.1930203 \n",
      "---------------------------------\n",
      "# clusters_L1K : 9 \n",
      "# clusters_2nd : 4 \n",
      "threshold : 0.06 \n",
      "ARI : 0.1890023 \n",
      "---------------------------------\n",
      "# clusters_L1K : 9 \n",
      "# clusters_2nd : 5 \n",
      "threshold : 0.06 \n",
      "ARI : 0.2325064 \n",
      "---------------------------------\n",
      "# clusters_L1K : 9 \n",
      "# clusters_2nd : 6 \n",
      "threshold : 0.06 \n",
      "ARI : 0.2154727 \n",
      "---------------------------------\n",
      "# clusters_L1K : 9 \n",
      "# clusters_2nd : 7 \n",
      "threshold : 0.06 \n",
      "ARI : 0.1769644 \n",
      "---------------------------------\n",
      "# clusters_L1K : 9 \n",
      "# clusters_2nd : 8 \n",
      "threshold : 0.06 \n",
      "ARI : 0.1699065 \n",
      "---------------------------------\n",
      "# clusters_L1K : 9 \n",
      "# clusters_2nd : 9 \n",
      "threshold : 0.06 \n",
      "ARI : 0.1888148 \n",
      "---------------------------------\n",
      "# clusters_L1K : 9 \n",
      "# clusters_2nd : 10 \n",
      "threshold : 0.06 \n",
      "ARI : 0.1790485 \n",
      "---------------------------------\n",
      "# clusters_L1K : 9 \n",
      "# clusters_2nd : 11 \n",
      "threshold : 0.06 \n",
      "ARI : 0.179034 \n",
      "---------------------------------\n",
      "# clusters_L1K : 9 \n",
      "# clusters_2nd : 12 \n",
      "threshold : 0.06 \n",
      "ARI : 0.1764692 \n",
      "---------------------------------\n",
      "# clusters_L1K : 9 \n",
      "# clusters_2nd : 13 \n",
      "threshold : 0.06 \n",
      "ARI : 0.1803005 \n",
      "---------------------------------\n",
      "# clusters_L1K : 9 \n",
      "# clusters_2nd : 14 \n",
      "threshold : 0.06 \n",
      "ARI : 0.1776963 \n",
      "---------------------------------\n",
      "# clusters_L1K : 9 \n",
      "# clusters_2nd : 15 \n",
      "threshold : 0.06 \n",
      "ARI : 0.1910023 \n",
      "---------------------------------\n",
      "# clusters_L1K : 10 \n",
      "# clusters_2nd : 2 \n",
      "threshold : 0.06 \n",
      "ARI : 0.1618264 \n",
      "---------------------------------\n",
      "# clusters_L1K : 10 \n",
      "# clusters_2nd : 3 \n",
      "threshold : 0.06 \n",
      "ARI : 0.1722918 \n",
      "---------------------------------\n",
      "# clusters_L1K : 10 \n",
      "# clusters_2nd : 4 \n",
      "threshold : 0.06 \n",
      "ARI : 0.1655975 \n",
      "---------------------------------\n",
      "# clusters_L1K : 10 \n",
      "# clusters_2nd : 5 \n",
      "threshold : 0.06 \n",
      "ARI : 0.2080798 \n",
      "---------------------------------\n",
      "# clusters_L1K : 10 \n",
      "# clusters_2nd : 6 \n",
      "threshold : 0.06 \n",
      "ARI : 0.2030635 \n",
      "---------------------------------\n",
      "# clusters_L1K : 10 \n",
      "# clusters_2nd : 7 \n",
      "threshold : 0.06 \n",
      "ARI : 0.1575986 \n",
      "---------------------------------\n",
      "# clusters_L1K : 10 \n",
      "# clusters_2nd : 8 \n",
      "threshold : 0.06 \n",
      "ARI : 0.1491843 \n",
      "---------------------------------\n",
      "# clusters_L1K : 10 \n",
      "# clusters_2nd : 9 \n",
      "threshold : 0.06 \n",
      "ARI : 0.166378 \n",
      "---------------------------------\n",
      "# clusters_L1K : 10 \n",
      "# clusters_2nd : 10 \n",
      "threshold : 0.06 \n",
      "ARI : 0.1523042 \n",
      "---------------------------------\n",
      "# clusters_L1K : 10 \n",
      "# clusters_2nd : 11 \n",
      "threshold : 0.06 \n",
      "ARI : 0.1517809 \n",
      "---------------------------------\n",
      "# clusters_L1K : 10 \n",
      "# clusters_2nd : 12 \n",
      "threshold : 0.06 \n",
      "ARI : 0.1488144 \n",
      "---------------------------------\n",
      "# clusters_L1K : 10 \n",
      "# clusters_2nd : 13 \n",
      "threshold : 0.06 \n",
      "ARI : 0.1524748 \n",
      "---------------------------------\n",
      "# clusters_L1K : 10 \n",
      "# clusters_2nd : 14 \n",
      "threshold : 0.06 \n",
      "ARI : 0.1489311 \n",
      "---------------------------------\n",
      "# clusters_L1K : 10 \n",
      "# clusters_2nd : 15 \n",
      "threshold : 0.06 \n",
      "ARI : 0.1600259 \n",
      "---------------------------------\n",
      "# clusters_L1K : 11 \n",
      "# clusters_2nd : 2 \n",
      "threshold : 0.06 \n",
      "ARI : 0.1603899 \n",
      "---------------------------------\n",
      "# clusters_L1K : 11 \n",
      "# clusters_2nd : 3 \n",
      "threshold : 0.06 \n",
      "ARI : 0.1707741 \n",
      "---------------------------------\n",
      "# clusters_L1K : 11 \n",
      "# clusters_2nd : 4 \n",
      "threshold : 0.06 \n",
      "ARI : 0.1613322 \n",
      "---------------------------------\n",
      "# clusters_L1K : 11 \n",
      "# clusters_2nd : 5 \n",
      "threshold : 0.06 \n",
      "ARI : 0.2069084 \n",
      "---------------------------------\n",
      "# clusters_L1K : 11 \n",
      "# clusters_2nd : 6 \n",
      "threshold : 0.06 \n",
      "ARI : 0.2009679 \n",
      "---------------------------------\n",
      "# clusters_L1K : 11 \n",
      "# clusters_2nd : 7 \n",
      "threshold : 0.06 \n",
      "ARI : 0.1548477 \n",
      "---------------------------------\n",
      "# clusters_L1K : 11 \n",
      "# clusters_2nd : 8 \n",
      "threshold : 0.06 \n",
      "ARI : 0.1463057 \n",
      "---------------------------------\n",
      "# clusters_L1K : 11 \n",
      "# clusters_2nd : 9 \n",
      "threshold : 0.06 \n",
      "ARI : 0.1633086 \n",
      "---------------------------------\n",
      "# clusters_L1K : 11 \n",
      "# clusters_2nd : 10 \n",
      "threshold : 0.06 \n",
      "ARI : 0.1488125 \n",
      "---------------------------------\n",
      "# clusters_L1K : 11 \n",
      "# clusters_2nd : 11 \n",
      "threshold : 0.06 \n",
      "ARI : 0.1482378 \n",
      "---------------------------------\n",
      "# clusters_L1K : 11 \n",
      "# clusters_2nd : 12 \n",
      "threshold : 0.06 \n",
      "ARI : 0.1452339 \n",
      "---------------------------------\n",
      "# clusters_L1K : 11 \n",
      "# clusters_2nd : 13 \n",
      "threshold : 0.06 \n",
      "ARI : 0.1488721 \n",
      "---------------------------------\n",
      "# clusters_L1K : 11 \n",
      "# clusters_2nd : 14 \n",
      "threshold : 0.06 \n",
      "ARI : 0.1452365 \n",
      "---------------------------------\n",
      "# clusters_L1K : 11 \n",
      "# clusters_2nd : 15 \n",
      "threshold : 0.06 \n",
      "ARI : 0.1560869 \n",
      "---------------------------------\n",
      "# clusters_L1K : 12 \n",
      "# clusters_2nd : 2 \n",
      "threshold : 0.06 \n",
      "ARI : 0.156095 \n",
      "---------------------------------\n",
      "# clusters_L1K : 12 \n",
      "# clusters_2nd : 3 \n",
      "threshold : 0.06 \n",
      "ARI : 0.1662353 \n",
      "---------------------------------\n",
      "# clusters_L1K : 12 \n",
      "# clusters_2nd : 4 \n",
      "threshold : 0.06 \n",
      "ARI : 0.168837 \n",
      "---------------------------------\n",
      "# clusters_L1K : 12 \n",
      "# clusters_2nd : 5 \n",
      "threshold : 0.06 \n",
      "ARI : 0.2143867 \n",
      "---------------------------------\n",
      "# clusters_L1K : 12 \n",
      "# clusters_2nd : 6 \n",
      "threshold : 0.06 \n",
      "ARI : 0.2079266 \n",
      "---------------------------------\n",
      "# clusters_L1K : 12 \n",
      "# clusters_2nd : 7 \n",
      "threshold : 0.06 \n",
      "ARI : 0.161076 \n",
      "---------------------------------\n",
      "# clusters_L1K : 12 \n",
      "# clusters_2nd : 8 \n",
      "threshold : 0.06 \n",
      "ARI : 0.1523789 \n",
      "---------------------------------\n",
      "# clusters_L1K : 12 \n",
      "# clusters_2nd : 9 \n",
      "threshold : 0.06 \n",
      "ARI : 0.1693926 \n",
      "---------------------------------\n",
      "# clusters_L1K : 12 \n",
      "# clusters_2nd : 10 \n",
      "threshold : 0.06 \n",
      "ARI : 0.1544751 \n",
      "---------------------------------\n",
      "# clusters_L1K : 12 \n",
      "# clusters_2nd : 11 \n",
      "threshold : 0.06 \n",
      "ARI : 0.1538586 \n",
      "---------------------------------\n",
      "# clusters_L1K : 12 \n",
      "# clusters_2nd : 12 \n",
      "threshold : 0.06 \n",
      "ARI : 0.1507988 \n",
      "---------------------------------\n",
      "# clusters_L1K : 12 \n",
      "# clusters_2nd : 13 \n",
      "threshold : 0.06 \n",
      "ARI : 0.1544571 \n",
      "---------------------------------\n",
      "# clusters_L1K : 12 \n",
      "# clusters_2nd : 14 \n",
      "threshold : 0.06 \n",
      "ARI : 0.1507198 \n",
      "---------------------------------\n",
      "# clusters_L1K : 12 \n",
      "# clusters_2nd : 15 \n",
      "threshold : 0.06 \n",
      "ARI : 0.1615137 \n",
      "---------------------------------\n",
      "# clusters_L1K : 13 \n",
      "# clusters_2nd : 2 \n",
      "threshold : 0.06 \n",
      "ARI : 0.1307749 \n",
      "---------------------------------\n",
      "# clusters_L1K : 13 \n",
      "# clusters_2nd : 3 \n",
      "threshold : 0.06 \n",
      "ARI : 0.1394506 \n",
      "---------------------------------\n",
      "# clusters_L1K : 13 \n",
      "# clusters_2nd : 4 \n",
      "threshold : 0.06 \n",
      "ARI : 0.1595514 \n",
      "---------------------------------\n",
      "# clusters_L1K : 13 \n",
      "# clusters_2nd : 5 \n",
      "threshold : 0.06 \n",
      "ARI : 0.2003434 \n",
      "---------------------------------\n",
      "# clusters_L1K : 13 \n",
      "# clusters_2nd : 6 \n",
      "threshold : 0.06 \n",
      "ARI : 0.2055223 \n",
      "---------------------------------\n",
      "# clusters_L1K : 13 \n",
      "# clusters_2nd : 7 \n",
      "threshold : 0.06 \n",
      "ARI : 0.1494949 \n",
      "---------------------------------\n",
      "# clusters_L1K : 13 \n",
      "# clusters_2nd : 8 \n",
      "threshold : 0.06 \n",
      "ARI : 0.1389411 \n",
      "---------------------------------\n",
      "# clusters_L1K : 13 \n",
      "# clusters_2nd : 9 \n",
      "threshold : 0.06 \n",
      "ARI : 0.1538304 \n",
      "---------------------------------\n",
      "# clusters_L1K : 13 \n",
      "# clusters_2nd : 10 \n",
      "threshold : 0.06 \n",
      "ARI : 0.1328802 \n",
      "---------------------------------\n",
      "# clusters_L1K : 13 \n",
      "# clusters_2nd : 11 \n",
      "threshold : 0.06 \n",
      "ARI : 0.131546 \n",
      "---------------------------------\n",
      "# clusters_L1K : 13 \n",
      "# clusters_2nd : 12 \n",
      "threshold : 0.06 \n",
      "ARI : 0.127894 \n",
      "---------------------------------\n",
      "# clusters_L1K : 13 \n",
      "# clusters_2nd : 13 \n",
      "threshold : 0.06 \n",
      "ARI : 0.1313442 \n",
      "---------------------------------\n",
      "# clusters_L1K : 13 \n",
      "# clusters_2nd : 14 \n",
      "threshold : 0.06 \n",
      "ARI : 0.1262422 \n",
      "---------------------------------\n",
      "# clusters_L1K : 13 \n",
      "# clusters_2nd : 15 \n",
      "threshold : 0.06 \n",
      "ARI : 0.1339511 \n",
      "---------------------------------\n",
      "# clusters_L1K : 14 \n",
      "# clusters_2nd : 2 \n",
      "threshold : 0.06 \n",
      "ARI : 0.1252506 \n",
      "---------------------------------\n",
      "# clusters_L1K : 14 \n",
      "# clusters_2nd : 3 \n",
      "threshold : 0.06 \n",
      "ARI : 0.1336006 \n",
      "---------------------------------\n",
      "# clusters_L1K : 14 \n",
      "# clusters_2nd : 4 \n",
      "threshold : 0.06 \n",
      "ARI : 0.1454737 \n",
      "---------------------------------\n",
      "# clusters_L1K : 14 \n",
      "# clusters_2nd : 5 \n",
      "threshold : 0.06 \n",
      "ARI : 0.1840451 \n",
      "---------------------------------\n",
      "# clusters_L1K : 14 \n",
      "# clusters_2nd : 6 \n",
      "threshold : 0.06 \n",
      "ARI : 0.206002 \n",
      "---------------------------------\n",
      "# clusters_L1K : 14 \n",
      "# clusters_2nd : 7 \n",
      "threshold : 0.06 \n",
      "ARI : 0.1478853 \n",
      "---------------------------------\n",
      "# clusters_L1K : 14 \n",
      "# clusters_2nd : 8 \n",
      "threshold : 0.06 \n",
      "ARI : 0.1368998 \n",
      "---------------------------------\n",
      "# clusters_L1K : 14 \n",
      "# clusters_2nd : 9 \n",
      "threshold : 0.06 \n",
      "ARI : 0.1513085 \n",
      "---------------------------------\n",
      "# clusters_L1K : 14 \n",
      "# clusters_2nd : 10 \n",
      "threshold : 0.06 \n",
      "ARI : 0.1289269 \n",
      "---------------------------------\n",
      "# clusters_L1K : 14 \n",
      "# clusters_2nd : 11 \n",
      "threshold : 0.06 \n",
      "ARI : 0.1274208 \n",
      "---------------------------------\n",
      "# clusters_L1K : 14 \n",
      "# clusters_2nd : 12 \n",
      "threshold : 0.06 \n",
      "ARI : 0.1236254 \n",
      "---------------------------------\n",
      "# clusters_L1K : 14 \n",
      "# clusters_2nd : 13 \n",
      "threshold : 0.06 \n",
      "ARI : 0.1270272 \n",
      "---------------------------------\n",
      "# clusters_L1K : 14 \n",
      "# clusters_2nd : 14 \n",
      "threshold : 0.06 \n",
      "ARI : 0.1215946 \n",
      "---------------------------------\n",
      "# clusters_L1K : 14 \n",
      "# clusters_2nd : 15 \n",
      "threshold : 0.06 \n",
      "ARI : 0.1415621 \n",
      "---------------------------------\n",
      "# clusters_L1K : 15 \n",
      "# clusters_2nd : 2 \n",
      "threshold : 0.06 \n",
      "ARI : 0.07712988 \n",
      "---------------------------------\n",
      "# clusters_L1K : 15 \n",
      "# clusters_2nd : 3 \n",
      "threshold : 0.06 \n",
      "ARI : 0.08254919 \n",
      "---------------------------------\n",
      "# clusters_L1K : 15 \n",
      "# clusters_2nd : 4 \n",
      "threshold : 0.06 \n",
      "ARI : 0.1106486 \n",
      "---------------------------------\n",
      "# clusters_L1K : 15 \n",
      "# clusters_2nd : 5 \n",
      "threshold : 0.06 \n",
      "ARI : 0.1362869 \n",
      "---------------------------------\n",
      "# clusters_L1K : 15 \n",
      "# clusters_2nd : 6 \n",
      "threshold : 0.06 \n",
      "ARI : 0.1636698 \n",
      "---------------------------------\n",
      "# clusters_L1K : 15 \n",
      "# clusters_2nd : 7 \n",
      "threshold : 0.06 \n",
      "ARI : 0.2031987 \n",
      "---------------------------------\n",
      "# clusters_L1K : 15 \n",
      "# clusters_2nd : 8 \n",
      "threshold : 0.06 \n",
      "ARI : 0.1893684 \n",
      "---------------------------------\n",
      "# clusters_L1K : 15 \n",
      "# clusters_2nd : 9 \n",
      "threshold : 0.06 \n",
      "ARI : 0.2095743 \n",
      "---------------------------------\n",
      "# clusters_L1K : 15 \n",
      "# clusters_2nd : 10 \n",
      "threshold : 0.06 \n",
      "ARI : 0.1787595 \n",
      "---------------------------------\n",
      "# clusters_L1K : 15 \n",
      "# clusters_2nd : 11 \n",
      "threshold : 0.06 \n",
      "ARI : 0.1763123 \n",
      "---------------------------------\n",
      "# clusters_L1K : 15 \n",
      "# clusters_2nd : 12 \n",
      "threshold : 0.06 \n",
      "ARI : 0.1787171 \n",
      "---------------------------------\n",
      "# clusters_L1K : 15 \n",
      "# clusters_2nd : 13 \n",
      "threshold : 0.06 \n",
      "ARI : 0.1823782 \n",
      "---------------------------------\n",
      "# clusters_L1K : 15 \n",
      "# clusters_2nd : 14 \n",
      "threshold : 0.06 \n",
      "ARI : 0.1749 \n",
      "---------------------------------\n",
      "# clusters_L1K : 15 \n",
      "# clusters_2nd : 15 \n",
      "threshold : 0.06 \n",
      "ARI : 0.1958934 \n",
      "---------------------------------\n"
     ]
    }
   ],
   "source": [
    "#------------------------------------------------------------------\n",
    "# There are 4 data matrices(their names on the right hand):\n",
    "#------------------------------------------------------------------\n",
    "# L1Kc:   its cell lines intersect with CCLE    --> scaled.L1K.inters\n",
    "# CCLE:    ---     ---     ---     ---     ---  --> scaled.CCLE.res.inters\n",
    "# L1Ka:   its cell lines intersect with RNAseq  --> scaled.L1K.inters.ax\n",
    "# RNAseq:  ---     ---     ---     ---     ---  --> scaled.RNAseq.inters\n",
    "data1      <<- scaled.L1K.inters\n",
    "data2      <<- scaled.CCLE.res.inters\n",
    "#------------------------------------------------------------------\n",
    "threshold  <<- 0.06   # threshold of Adjust rand index values\n",
    "model.h    <<- \"EEE\"  # pick one of those two models {EEE | EII} for hc\n",
    "model.m    <<- \"EEI\"  # pick one of those two models {EEI | EII} for mclust\n",
    "#------------------------------------------------------------------\n",
    "\n",
    "findOptimalNumClust.mc(data1, data2, threshold, model.h, model.m)"
   ]
  },
  {
   "cell_type": "markdown",
   "metadata": {},
   "source": [
    "After getting the output of the function, we can select the number of clusters for each of the two datasets we are testing, which gives the largest value of the adjust index rand for the two clusterings. We use these parameters to build the final clusterings in order to visualize."
   ]
  },
  {
   "cell_type": "code",
   "execution_count": 90,
   "metadata": {
    "collapsed": true
   },
   "outputs": [],
   "source": [
    "# Let's say that these numbers of clusters gave the largest ARI value, \n",
    "# we can start building the final clustering based on that\n",
    "numClust1 <- 4\n",
    "numClust2 <- 10\n",
    "mc1 <- Mclust(data1, modelNames = model.m, G = numClust1, initialization = list(hcPairs= hc1))\n",
    "mc2 <- Mclust(data2, modelNames = model.m, G = numClust2, initialization = list(hcPairs= hc2))"
   ]
  },
  {
   "cell_type": "markdown",
   "metadata": {},
   "source": [
    "Then following script prints the clustering results for each one of the two clusterings."
   ]
  },
  {
   "cell_type": "code",
   "execution_count": null,
   "metadata": {
    "scrolled": true
   },
   "outputs": [],
   "source": [
    "cat(\"..............................................\\n\")\n",
    "cat(\"L1K++ Clusters\\n\")\n",
    "cat(\"..............................................\\n\")\n",
    "clusters.lc <- sapply(1:numClust1, function(x){names(which(mc1$classification == x))})\n",
    "unlist((clusters.lc))\n",
    "cat(\"..............................................\\n\")\n",
    "cat(\"2nd Dataset Clusters\\n\")\n",
    "cat(\"..............................................\\n\")\n",
    "#clusters.c  <- sapply(1:numClust2, function(x){names(which(mc2$classification == x))})\n",
    "#unlist(noquote(clusters.c))"
   ]
  },
  {
   "cell_type": "markdown",
   "metadata": {},
   "source": [
    "Now you can use <B><I>\"fviz_cluster\"</I></B> that uses principal components to visualize the clustering for each of the two tested datasets."
   ]
  },
  {
   "cell_type": "code",
   "execution_count": null,
   "metadata": {
    "collapsed": true
   },
   "outputs": [],
   "source": [
    "library(\"factoextra\")\n",
    "fviz_cluster(mc1, frame.type = \"norm\", geom = \"text\", main = \"L1K++ Clusters\")\n",
    "fviz_cluster(mc2, frame.type = \"norm\", geom = \"text\", main = \"Second Datasets Clusters\")"
   ]
  },
  {
   "cell_type": "markdown",
   "metadata": {
    "format": "row"
   },
   "source": [
    "<table>\n",
    "  <tr>\n",
    "    <th>Dist Measure</th>\n",
    "    <th># clusters</th>\n",
    "    <th># clusters</th>\n",
    "    <th>Average</th>\n",
    "  </tr>\n",
    "  <tr>\n",
    "    <th>Pearson</th>\n",
    "    <th>Kendall</th>\n",
    "    <th>Square Mahalanobis</th>\n",
    "    <th>Square Mahalanobis</th>\n",
    "  </tr>\n",
    "</table>\n"
   ]
  },
  {
   "cell_type": "markdown",
   "metadata": {},
   "source": [
    "## Attributes of Notebook"
   ]
  },
  {
   "cell_type": "markdown",
   "metadata": {},
   "source": [
    "### Bioconductor Packages"
   ]
  },
  {
   "cell_type": "code",
   "execution_count": 83,
   "metadata": {
    "cell_style": "split"
   },
   "outputs": [
    {
     "data": {
      "text/plain": [
       "\n",
       "To cite package ‘corpcor’ in publications use:\n",
       "\n",
       "  Juliane Schafer, Rainer Opgen-Rhein, Verena Zuber, Miika Ahdesmaki,\n",
       "  A. Pedro Duarte Silva and Korbinian Strimmer. (2017). corpcor:\n",
       "  Efficient Estimation of Covariance and (Partial) Correlation. R\n",
       "  package version 1.6.9. https://CRAN.R-project.org/package=corpcor\n",
       "\n",
       "A BibTeX entry for LaTeX users is\n",
       "\n",
       "  @Manual{,\n",
       "    title = {corpcor: Efficient Estimation of Covariance and (Partial) Correlation},\n",
       "    author = {Juliane Schafer and Rainer Opgen-Rhein and Verena Zuber and Miika Ahdesmaki and A. Pedro Duarte Silva and Korbinian Strimmer.},\n",
       "    year = {2017},\n",
       "    note = {R package version 1.6.9},\n",
       "    url = {https://CRAN.R-project.org/package=corpcor},\n",
       "  }\n",
       "\n",
       "ATTENTION: This citation information has been auto-generated from the\n",
       "package DESCRIPTION file and may need manual editing, see\n",
       "‘help(\"citation\")’.\n"
      ]
     },
     "metadata": {},
     "output_type": "display_data"
    },
    {
     "data": {
      "text/plain": [
       "\n",
       "To cite package ‘plotly’ in publications use:\n",
       "\n",
       "  Carson Sievert, Chris Parmer, Toby Hocking, Scott Chamberlain,\n",
       "  Karthik Ram, Marianne Corvellec and Pedro Despouy (2017). plotly:\n",
       "  Create Interactive Web Graphics via 'plotly.js'. R package version\n",
       "  4.6.0. https://CRAN.R-project.org/package=plotly\n",
       "\n",
       "A BibTeX entry for LaTeX users is\n",
       "\n",
       "  @Manual{,\n",
       "    title = {plotly: Create Interactive Web Graphics via 'plotly.js'},\n",
       "    author = {Carson Sievert and Chris Parmer and Toby Hocking and Scott Chamberlain and Karthik Ram and Marianne Corvellec and Pedro Despouy},\n",
       "    year = {2017},\n",
       "    note = {R package version 4.6.0},\n",
       "    url = {https://CRAN.R-project.org/package=plotly},\n",
       "  }\n"
      ]
     },
     "metadata": {},
     "output_type": "display_data"
    },
    {
     "data": {
      "text/plain": [
       "\n",
       "To cite the R package 'cluster' in publications use:\n",
       "\n",
       "  Maechler, M., Rousseeuw, P., Struyf, A., Hubert, M., Hornik,\n",
       "  K.(2017).  cluster: Cluster Analysis Basics and Extensions. R package\n",
       "  version 2.0.6.\n",
       "\n",
       "A BibTeX entry for LaTeX users is\n",
       "\n",
       "  @Manual{,\n",
       "    title = {cluster: Cluster Analysis Basics and Extensions},\n",
       "    author = {Martin Maechler and Peter Rousseeuw and Anja Struyf and Mia Hubert and Kurt Hornik},\n",
       "    year = {2017},\n",
       "    note = {R package version 2.0.6 --- For new features, see the 'Changelog' file (in the package source)},\n",
       "  }\n"
      ]
     },
     "metadata": {},
     "output_type": "display_data"
    },
    {
     "data": {
      "text/plain": [
       "\n",
       "To cite package ‘stringr’ in publications use:\n",
       "\n",
       "  Hadley Wickham (2017). stringr: Simple, Consistent Wrappers for\n",
       "  Common String Operations. R package version 1.2.0.\n",
       "  https://CRAN.R-project.org/package=stringr\n",
       "\n",
       "A BibTeX entry for LaTeX users is\n",
       "\n",
       "  @Manual{,\n",
       "    title = {stringr: Simple, Consistent Wrappers for Common String Operations},\n",
       "    author = {Hadley Wickham},\n",
       "    year = {2017},\n",
       "    note = {R package version 1.2.0},\n",
       "    url = {https://CRAN.R-project.org/package=stringr},\n",
       "  }\n"
      ]
     },
     "metadata": {},
     "output_type": "display_data"
    },
    {
     "data": {
      "text/plain": [
       "\n",
       "To cite R in publications use:\n",
       "\n",
       "  R Core Team (2016). R: A language and environment for statistical\n",
       "  computing. R Foundation for Statistical Computing, Vienna, Austria.\n",
       "  URL https://www.R-project.org/.\n",
       "\n",
       "A BibTeX entry for LaTeX users is\n",
       "\n",
       "  @Manual{,\n",
       "    title = {R: A Language and Environment for Statistical Computing},\n",
       "    author = {{R Core Team}},\n",
       "    organization = {R Foundation for Statistical Computing},\n",
       "    address = {Vienna, Austria},\n",
       "    year = {2016},\n",
       "    url = {https://www.R-project.org/},\n",
       "  }\n",
       "\n",
       "We have invested a lot of time and effort in creating R, please cite it\n",
       "when using it for data analysis. See also ‘citation(\"pkgname\")’ for\n",
       "citing R packages.\n"
      ]
     },
     "metadata": {},
     "output_type": "display_data"
    },
    {
     "data": {
      "text/plain": [
       "\n",
       "The ‘stats’ package is part of R.  To cite R in publications use:\n",
       "\n",
       "  R Core Team (2016). R: A language and environment for statistical\n",
       "  computing. R Foundation for Statistical Computing, Vienna, Austria.\n",
       "  URL https://www.R-project.org/.\n",
       "\n",
       "A BibTeX entry for LaTeX users is\n",
       "\n",
       "  @Manual{,\n",
       "    title = {R: A Language and Environment for Statistical Computing},\n",
       "    author = {{R Core Team}},\n",
       "    organization = {R Foundation for Statistical Computing},\n",
       "    address = {Vienna, Austria},\n",
       "    year = {2016},\n",
       "    url = {https://www.R-project.org/},\n",
       "  }\n",
       "\n",
       "We have invested a lot of time and effort in creating R, please cite it\n",
       "when using it for data analysis. See also ‘citation(\"pkgname\")’ for\n",
       "citing R packages.\n"
      ]
     },
     "metadata": {},
     "output_type": "display_data"
    },
    {
     "data": {
      "text/plain": [
       "\n",
       "To cite package 'mclust' in publications use:\n",
       "\n",
       "  Chris Fraley, Adrian E. Raftery, T. Brendan Murphy, and Luca Scrucca\n",
       "  (2012) mclust Version 4 for R: Normal Mixture Modeling for\n",
       "  Model-Based Clustering, Classification, and Density Estimation\n",
       "  Technical Report No. 597, Department of Statistics, University of\n",
       "  Washington\n",
       "\n",
       "  Chris Fraley and Adrian E. Raftery (2002) Model-based Clustering,\n",
       "  Discriminant Analysis and Density Estimation Journal of the American\n",
       "  Statistical Association 97:611-631\n"
      ]
     },
     "metadata": {},
     "output_type": "display_data"
    },
    {
     "data": {
      "text/plain": [
       "\n",
       "To cite package ‘bios2mds’ in publications use:\n",
       "\n",
       "  Julien Pele with Jean-Michel Becu, Herve Abdi and Marie Chabbert\n",
       "  (2012). bios2mds: From BIOlogical Sequences to MultiDimensional\n",
       "  Scaling. R package version 1.2.2.\n",
       "  https://CRAN.R-project.org/package=bios2mds\n",
       "\n",
       "A BibTeX entry for LaTeX users is\n",
       "\n",
       "  @Manual{,\n",
       "    title = {bios2mds: From BIOlogical Sequences to MultiDimensional Scaling},\n",
       "    author = {Julien Pele with Jean-Michel Becu and Herve Abdi and Marie Chabbert},\n",
       "    year = {2012},\n",
       "    note = {R package version 1.2.2},\n",
       "    url = {https://CRAN.R-project.org/package=bios2mds},\n",
       "  }\n",
       "\n",
       "ATTENTION: This citation information has been auto-generated from the\n",
       "package DESCRIPTION file and may need manual editing, see\n",
       "‘help(\"citation\")’.\n"
      ]
     },
     "metadata": {},
     "output_type": "display_data"
    },
    {
     "data": {
      "text/plain": [
       "\n",
       "To cite package ‘rgl’ in publications use:\n",
       "\n",
       "  Daniel Adler, Duncan Murdoch and others (2017). rgl: 3D Visualization\n",
       "  Using OpenGL. R package version 0.98.1.\n",
       "  https://CRAN.R-project.org/package=rgl\n",
       "\n",
       "A BibTeX entry for LaTeX users is\n",
       "\n",
       "  @Manual{,\n",
       "    title = {rgl: 3D Visualization Using OpenGL},\n",
       "    author = {Daniel Adler and Duncan Murdoch and {others}},\n",
       "    year = {2017},\n",
       "    note = {R package version 0.98.1},\n",
       "    url = {https://CRAN.R-project.org/package=rgl},\n",
       "  }\n",
       "\n",
       "ATTENTION: This citation information has been auto-generated from the\n",
       "package DESCRIPTION file and may need manual editing, see\n",
       "‘help(\"citation\")’.\n"
      ]
     },
     "metadata": {},
     "output_type": "display_data"
    },
    {
     "data": {
      "text/plain": [
       "\n",
       "To cite ape in a publication use:\n",
       "\n",
       "  Paradis E., Claude J. & Strimmer K. 2004. APE: analyses of\n",
       "  phylogenetics and evolution in R language. Bioinformatics 20:\n",
       "  289-290.\n",
       "\n",
       "A BibTeX entry for LaTeX users is\n",
       "\n",
       "  @Article{,\n",
       "    title = {A{PE}: analyses of phylogenetics and evolution in {R} language},\n",
       "    author = {E. Paradis and J. Claude and K. Strimmer},\n",
       "    journal = {Bioinformatics},\n",
       "    year = {2004},\n",
       "    volume = {20},\n",
       "    pages = {289-290},\n",
       "  }\n",
       "\n",
       "As ape is evolving quickly, you may want to cite also its version\n",
       "number (found with 'library(help = ape)').\n"
      ]
     },
     "metadata": {},
     "output_type": "display_data"
    },
    {
     "data": {
      "text/plain": [
       "\n",
       "To cite package ‘ggdendro’ in publications use:\n",
       "\n",
       "  Andrie de Vries and Brian D. Ripley (2016). ggdendro: Create\n",
       "  Dendrograms and Tree Diagrams Using 'ggplot2'. R package version\n",
       "  0.1-20. https://CRAN.R-project.org/package=ggdendro\n",
       "\n",
       "A BibTeX entry for LaTeX users is\n",
       "\n",
       "  @Manual{,\n",
       "    title = {ggdendro: Create Dendrograms and Tree Diagrams Using 'ggplot2'},\n",
       "    author = {Andrie {de Vries} and Brian D. Ripley},\n",
       "    year = {2016},\n",
       "    note = {R package version 0.1-20},\n",
       "    url = {https://CRAN.R-project.org/package=ggdendro},\n",
       "  }\n"
      ]
     },
     "metadata": {},
     "output_type": "display_data"
    }
   ],
   "source": [
    "citation(\"corpcor\")\n",
    "citation(\"plotly\") \n",
    "citation(\"cluster\")  \n",
    "citation(\"stringr\")  \n",
    "citation(\"base\")  \n",
    "citation(\"stats\")  \n",
    "citation(\"mclust\")  \n",
    "citation(\"bios2mds\")  \n",
    "citation(\"rgl\")  \n",
    "citation(\"ape\")  \n",
    "citation(\"ggdendro\")"
   ]
  },
  {
   "cell_type": "markdown",
   "metadata": {},
   "source": [
    "### Visualization"
   ]
  },
  {
   "cell_type": "markdown",
   "metadata": {},
   "source": []
  },
  {
   "cell_type": "markdown",
   "metadata": {
    "heading_collapsed": true
   },
   "source": [
    "# References\n",
    "\n"
   ]
  },
  {
   "cell_type": "markdown",
   "metadata": {
    "hidden": true
   },
   "source": [
    "[1] J. Drews, Drug Discovery: A Historical Perspective. Science, vol. 287, no. 5460, pp. 1960-1964, 2000.  \n",
    "[2] W. C. Young, K. Y. Yeung and A. E. Raftery. A Posterior Probability Approach for Gene Regulatory Network Inference in Genetic Perturbation Data. MBE Mathematical Biosciences and Engineering 13.6, 1241-251. Web, 2016.  \n",
    "[3] NIH LINCS Program, Lincsproject.org, 2016. [Online]. Available: http://www.lincsproject.org/data/. [Accessed: 04-Mar-2016]   \n",
    "[4] Gene Expression Data (L1000), 2016. [Online]. Available: http://www.lincscloud.org/l1000/. [Accessed: 04-Mar-2016].  \n",
    "[5] iLincs - DCIC integrative LINCS genomics data portal, Ilincs.org, 2016. [Online]. Available:\n",
    "http://www.ilincs.org/ilincs/#/. [Accessed: 16-Sep-2016]   \n",
    "[6] Enrichr, Amp.pharm.mssm.edu, 2016. [Online]. Available:\n",
    "http://amp.pharm.mssm.edu/Enrichr/. [Accessed: 16-Sep-2016]  \n",
    "[7] LINCS Data Portal, 2016. [Online]. Available: http://www.lincscloud.org/l1000/. [Accessed: 16-Sep-2016]  \n",
    "[8] The Cancer Cell Line Encyclopedia, Broadinstitute.org, 2016. Available:\n",
    "http://www.broadinstitute.org/ccle. [Accessed: 04-Mar-2016].  \n",
    "[9] Cancer Program Resource Gateway, 2016. [Online]. Available: https://www.broadinstitute.org/software/cprg/?q=node/12. [Accessed: 04-Mar-2016].  \n",
    "[10] C. Klijn, J. Settleman, S. Seshagiri and Z. Zhang, Abstract A1-19: A comprehensive transcriptional portrait of human cancer cell lines, Cancer Research, vol. 75, no. 221, pp. A1-19 A1-19, 2015.  \n",
    "[11] L. Hung, L1K++: A Fast Pipeline that Increases the Accuracy of L1000 Gene Expression Data. BD2K-LINCS DCIC, 2015 [Online]. Available: https://youtu.be/jcpEagg1iaQ. [Accessed: 10-Sep-2016]  \n",
    "[12] C. Tang and A. Zhang, An iterative strategy for pattern discovery in high- dimensional data sets. Proceedings of the eleventh international conference on Information and knowledge management - CIKM ’02, 2002.   \n",
    "[13] Hierarchical clustering, 2016. [Online]. Available: http://nlp.stanford.edu/IR-book/html/htmledition/hierarchical clustering-1.html. [Accessed: 04-Mar-2016].  \n",
    "[14] L. Rokach and O. Maimon, Chapter 15 Minkowski : Distance Measures for Numeric Attributes in DATA MINING AND KNOLEDGE DISCOVERY HAND- BOOK, New York: Springer, 2005.  \n"
   ]
  }
 ],
 "metadata": {
  "_draft": {
   "nbviewer_url": "https://gist.github.com/714524fdebd24ac07d0900323670eaa8"
  },
  "gist": {
   "data": {
    "description": "/Case Study LINCS Data & External Datasets.ipynb",
    "public": false
   },
   "id": "714524fdebd24ac07d0900323670eaa8"
  },
  "hide_input": false,
  "kernelspec": {
   "display_name": "R",
   "language": "R",
   "name": "ir"
  },
  "language_info": {
   "codemirror_mode": "r",
   "file_extension": ".r",
   "mimetype": "text/x-r-source",
   "name": "R",
   "pygments_lexer": "r",
   "version": "3.3.2"
  },
  "latex_envs": {
   "LaTeX_envs_menu_present": true,
   "autocomplete": true,
   "bibliofile": "biblio.bib",
   "cite_by": "key",
   "current_citInitial": 1,
   "eqLabelWithNumbers": true,
   "eqNumInitial": 1,
   "hotkeys": {
    "equation": "Ctrl-E",
    "itemize": "Ctrl-I"
   },
   "labels_anchors": true,
   "latex_user_defs": true,
   "report_style_numbering": true,
   "user_envs_cfg": false
  },
  "toc": {
   "colors": {
    "hover_highlight": "#DAA520",
    "navigate_num": "#000000",
    "navigate_text": "#333333",
    "running_highlight": "#FF0000",
    "selected_highlight": "#FFD700",
    "sidebar_border": "#EEEEEE",
    "wrapper_background": "#FFFFFF"
   },
   "moveMenuLeft": true,
   "nav_menu": {
    "height": "278px",
    "width": "239px"
   },
   "navigate_menu": true,
   "number_sections": false,
   "sideBar": true,
   "threshold": 4,
   "toc_cell": true,
   "toc_position": {
    "height": "606px",
    "left": "0px",
    "right": "989px",
    "top": "154px",
    "width": "194px"
   },
   "toc_section_display": "block",
   "toc_window_display": true,
   "widenNotebook": false
  },
  "varInspector": {
   "cols": {
    "lenName": 16,
    "lenType": 16,
    "lenVar": 40
   },
   "kernels_config": {
    "python": {
     "delete_cmd_postfix": "",
     "delete_cmd_prefix": "del ",
     "library": "var_list.py",
     "varRefreshCmd": "print(var_dic_list())"
    },
    "r": {
     "delete_cmd_postfix": ") ",
     "delete_cmd_prefix": "rm(",
     "library": "var_list.r",
     "varRefreshCmd": "cat(var_dic_list()) "
    }
   },
   "types_to_exclude": [
    "module",
    "function",
    "builtin_function_or_method",
    "instance",
    "_Feature"
   ],
   "window_display": false
  }
 },
 "nbformat": 4,
 "nbformat_minor": 2
}
