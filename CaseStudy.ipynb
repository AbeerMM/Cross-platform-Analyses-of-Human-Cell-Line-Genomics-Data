{
 "cells": [
  {
   "cell_type": "markdown",
   "metadata": {
    "toc": "true"
   },
   "source": [
    "# Table of Contents\n",
    " <p><div class=\"lev2 toc-item\"><a href=\"#Motivation-and-Overview\" data-toc-modified-id=\"Motivation-and-Overview-01\"><span class=\"toc-item-num\">0.1&nbsp;&nbsp;</span>Motivation and Overview</a></div><div class=\"lev2 toc-item\"><a href=\"#Data:-Types,-Sources\" data-toc-modified-id=\"Data:-Types,-Sources-02\"><span class=\"toc-item-num\">0.2&nbsp;&nbsp;</span>Data: Types, Sources</a></div><div class=\"lev3 toc-item\"><a href=\"#Reading-Datasets\" data-toc-modified-id=\"Reading-Datasets-021\"><span class=\"toc-item-num\">0.2.1&nbsp;&nbsp;</span>Reading Datasets</a></div><div class=\"lev4 toc-item\"><a href=\"#Reading-CCLE-Data\" data-toc-modified-id=\"Reading-CCLE-Data-0211\"><span class=\"toc-item-num\">0.2.1.1&nbsp;&nbsp;</span>Reading CCLE Data</a></div><div class=\"lev4 toc-item\"><a href=\"#Reading-L1K++-Data\" data-toc-modified-id=\"Reading-L1K++-Data-0212\"><span class=\"toc-item-num\">0.2.1.2&nbsp;&nbsp;</span>Reading L1K++ Data</a></div><div class=\"lev4 toc-item\"><a href=\"#Reading-RNAseq-Data\" data-toc-modified-id=\"Reading-RNAseq-Data-0213\"><span class=\"toc-item-num\">0.2.1.3&nbsp;&nbsp;</span>Reading RNAseq Data</a></div><div class=\"lev3 toc-item\"><a href=\"#Data-Standardization\" data-toc-modified-id=\"Data-Standardization-022\"><span class=\"toc-item-num\">0.2.2&nbsp;&nbsp;</span>Data Standardization</a></div><div class=\"lev3 toc-item\"><a href=\"#Intersection-of-Datasets\" data-toc-modified-id=\"Intersection-of-Datasets-023\"><span class=\"toc-item-num\">0.2.3&nbsp;&nbsp;</span>Intersection of Datasets</a></div><div class=\"lev3 toc-item\"><a href=\"#Loading-the-Filtered-Datasets\" data-toc-modified-id=\"Loading-the-Filtered-Datasets-024\"><span class=\"toc-item-num\">0.2.4&nbsp;&nbsp;</span>Loading the Filtered Datasets</a></div><div class=\"lev4 toc-item\"><a href=\"#Heatmaps-for-Datasets\" data-toc-modified-id=\"Heatmaps-for-Datasets-0241\"><span class=\"toc-item-num\">0.2.4.1&nbsp;&nbsp;</span>Heatmaps for Datasets</a></div><div class=\"lev2 toc-item\"><a href=\"#Analysis-&amp;-Visualization\" data-toc-modified-id=\"Analysis-&amp;-Visualization-03\"><span class=\"toc-item-num\">0.3&nbsp;&nbsp;</span>Analysis &amp; Visualization</a></div><div class=\"lev3 toc-item\"><a href=\"#Computing-Cell-Line-Distances\" data-toc-modified-id=\"Computing-Cell-Line-Distances-031\"><span class=\"toc-item-num\">0.3.1&nbsp;&nbsp;</span>Computing Cell Line Distances</a></div><div class=\"lev4 toc-item\"><a href=\"#1.-Untreated-L1K++--vs.-CCLE-Data-(55-cell-lines-x-978-genes)\" data-toc-modified-id=\"1.-Untreated-L1K++--vs.-CCLE-Data-(55-cell-lines-x-978-genes)-0311\"><span class=\"toc-item-num\">0.3.1.1&nbsp;&nbsp;</span>1. Untreated L1K++  vs. CCLE Data (55 cell lines x 978 genes)</a></div><div class=\"lev4 toc-item\"><a href=\"#2.-Untreated-L1K++--vs.-RNAseq-Data-(41-cell-lines-x-978-genes)\" data-toc-modified-id=\"2.-Untreated-L1K++--vs.-RNAseq-Data-(41-cell-lines-x-978-genes)-0312\"><span class=\"toc-item-num\">0.3.1.2&nbsp;&nbsp;</span>2. Untreated L1K++  vs. RNAseq Data (41 cell lines x 978 genes)</a></div><div class=\"lev3 toc-item\"><a href=\"#Analysis-Visualization\" data-toc-modified-id=\"Analysis-Visualization-032\"><span class=\"toc-item-num\">0.3.2&nbsp;&nbsp;</span>Analysis Visualization</a></div><div class=\"lev4 toc-item\"><a href=\"#Distance/Similarity-Visualization-(Heatmaps-&amp;-MDS)\" data-toc-modified-id=\"Distance/Similarity-Visualization-(Heatmaps-&amp;-MDS)-0321\"><span class=\"toc-item-num\">0.3.2.1&nbsp;&nbsp;</span>Distance/Similarity Visualization (Heatmaps &amp; MDS)</a></div><div class=\"lev4 toc-item\"><a href=\"#Clustering-Visualization-()\" data-toc-modified-id=\"Clustering-Visualization-()-0322\"><span class=\"toc-item-num\">0.3.2.2&nbsp;&nbsp;</span>Clustering Visualization ()</a></div><div class=\"lev2 toc-item\"><a href=\"#Attributes-of-Notebook\" data-toc-modified-id=\"Attributes-of-Notebook-04\"><span class=\"toc-item-num\">0.4&nbsp;&nbsp;</span>Attributes of Notebook</a></div><div class=\"lev3 toc-item\"><a href=\"#Bioconductor-Packages\" data-toc-modified-id=\"Bioconductor-Packages-041\"><span class=\"toc-item-num\">0.4.1&nbsp;&nbsp;</span>Bioconductor Packages</a></div><div class=\"lev3 toc-item\"><a href=\"#Visualization\" data-toc-modified-id=\"Visualization-042\"><span class=\"toc-item-num\">0.4.2&nbsp;&nbsp;</span>Visualization</a></div><div class=\"lev1 toc-item\"><a href=\"#References\" data-toc-modified-id=\"References-1\"><span class=\"toc-item-num\">1&nbsp;&nbsp;</span>References</a></div>"
   ]
  },
  {
   "cell_type": "markdown",
   "metadata": {
    "heading_collapsed": true
   },
   "source": [
    "## Motivation and Overview"
   ]
  },
  {
   "cell_type": "markdown",
   "metadata": {
    "hidden": true
   },
   "source": [
    "The traditional process of drug discovery is extremely time-consuming and requires a large budget [1]. Recent advances in biotechnology has led to the generation of many different types of big biomedical data, which subsequently motivates the development of computational methods to analyze these data sources. In particular, L1000 technology that represents a high-throughput gene expression pro- filing technique. Due to cost, the L1000 technology developed by the Broad Institute selected approximately one thousand landmark genes as a representative sample of the human genome that originally contains over 20,000 genes [2]. The L1000 technology has enabled inexpensive measurements from more than one million experiments across eighty human cell lines.\n",
    "\n",
    "\n",
    "The LINCS (Library of Integrated Network based Cellular Signatures) program, funded by the National Institutes of Health, generates different types of data, including: gene expression, proteomic, and cell imaging data. These types enable scientists to understand the biological processes at the molecular and cellular level. One of the main objectives of the LINCS program is to study gene signatures resulted from perturbations applied to human cells. Using the L1000 technology mentioned above, the LINCS L1000 dataset contains the expression level of one thousand landmark genes measured in each of the perturbation experiments. This motivates us to explore cell line and drug similarities and integrate different data sources to correlate these similarities with gene/cell line signatures that could potentially contribute to novel drug discovery. The LINCS L1000 data generated by the Broad institute is publicly available online from http://lincscloud.org.\n",
    "\n",
    "we will focus on the data generated by the NIH LINCS (Library of Integrated Network-based Cellular Signatures) project. The LINCS (Library of Integrated Network-based Cellular Signatures)program provides big datasets of different types of biological assays from human cell lines under different experimental conditions. Many tools have been developed to access, integrate and visualize LINCS data. We use the LINCS L1000 gene expression data to explore similarities between different cell lines using different analysis methods, such as: pattern discovery techniques such as clustering and dimension reduction techniques. "
   ]
  },
  {
   "cell_type": "markdown",
   "metadata": {},
   "source": [
    "## Data: Types, Sources"
   ]
  },
  {
   "cell_type": "markdown",
   "metadata": {},
   "source": [
    "1. Library of Integrated Network-based Cellular Signatures(LINCS) dataset [17]: Cell Line Data\n",
    "The L1000 data is available online from http://download.lincscloud. org. The L1000 data contain gene expressions for cell lines that are exposed to different genetic and chemical perturbations. The LINCS L1000 platform reduces the 20,000 genes to 1000 genes that is highly expressed and represent 80% of the information [18]. The LINCS project provides many tools to access, integrate and visualize data, such as: iLINCS [19], Enrichr [20], and LINCS Data Portal [21]. These tools have web-based user interfaces, and use clustering and Enrichment analysis.\n",
    "\n",
    "2. The Cancer Cell Line Encyclopedia(CCLE)[22]: Cell Line Data\n",
    "The CCLE data is available from https://www.broadinstitute.org/ software/cprg/?q=node/11. The CCLE project contains 1000 human cancer cell lines. The CCLE provides different tools to analyze and visu- alize the data using mRNA expression, mutation data, DNA copy number and more. One of these tools is CMAP that contains more than 7,000 expression profiles representing 1,309 compounds [23]. CCLE data will be used to benchmark L1000 data.\n",
    "\n",
    "\n",
    "3. RNAseq Data by Klijin et al. [24] across human cell lines:\n",
    "Gene expression information from RNAseq data is available from Array- Express database for download from https://www.ebi.ac.uk/arrayexpress/ experiments/E-MTAB-2706/. These datasets contain RNA-seq expres-\n",
    "sion data across 675 untreated human cancer cell lines. RNAseq data will\n",
    "be used to benchmark L1000 data for unperturbed cell lines along with other datasets from different sources.\n",
    "\n"
   ]
  },
  {
   "cell_type": "markdown",
   "metadata": {},
   "source": [
    "We will use the L1000 data processed by the L1K++ pipeline developed by Dr. Ling-Hung at University of Washington Tacoma. L1K++ is implemented in C++ using linear algorithms to make it over 1000x faster than the available pipelines [6]. L1K++ provides processed data different levels ranging from level 1 to level 2.5. A higher level represents more processed data."
   ]
  },
  {
   "cell_type": "markdown",
   "metadata": {},
   "source": [
    "### Reading Datasets"
   ]
  },
  {
   "cell_type": "markdown",
   "metadata": {
    "heading_collapsed": true
   },
   "source": [
    "#### Reading CCLE Data"
   ]
  },
  {
   "cell_type": "code",
   "execution_count": null,
   "metadata": {
    "editable": false,
    "hidden": true,
    "run_control": {
     "frozen": true
    }
   },
   "outputs": [],
   "source": [
    "library(\"stringr\")\n",
    "library(RCurl)\n",
    "library(bitops)\n",
    "#===========================================================\n",
    "#========   CCLE Data -- .res file (> 50000 genes)  ========\n",
    "#===========================================================\n",
    "breakit <- function(x)\n",
    "{\n",
    "  y <- unlist(strsplit(x,\"_\"))[1]\n",
    "  return(y)\n",
    "}\n",
    "\n",
    "url <- \"https://portals.broadinstitute.org/ccle/downloadFile/DefaultSystemRoot/exp_10/ds_21/CCLE_Expression_2012-09-29.res?downloadff=true&fileId=6760\"\n",
    "CCLE.res <- read.delim(url, sep=\"\\t\", row.names=NULL, check.names = FALSE) #, quote = \"\"\n",
    "\n",
    "rownames(CCLE.res) <- CCLE.res$Description\n",
    "CCLE.res[, 1:2] <- NULL\n",
    "\n",
    "colnames(CCLE.res)[1:2073] <- colnames(CCLE.res)[2:2074]\n",
    "CCLE.res <- CCLE.res[, -seq(2,2076, by = 2)]\n",
    "\n",
    "ccleres.names <- colnames(CCLE.res)\n",
    "name.vec2 <- NULL\n",
    "for(i in 1:ncol(CCLE.res))\n",
    "{\n",
    "  name.vec2[[i]] <- breakit(ccleres.names[[i]])\n",
    "  \n",
    "}\n",
    "colnames(CCLE.res) <- name.vec2\n",
    "\n",
    "# to get columns by their partial names: dat[1:4, grep(\"TT\",colnames(dat))]\n",
    "#There are some duplicate cell lines, e.g.:\n",
    "# TT_OESOPHAGUS , TT_THYROID  &\n",
    "# NCIH292_LUNG , NCIH292_LUNG.1 \n",
    "#which(colnames(CCLE.res) == \"TT\") #565 682\n",
    "#which(colnames(CCLE.res) == \"NCIH292\") #963 991\n",
    "# To handle that:\n",
    "CCLE.res <- CCLE.res[, !duplicated(colnames(CCLE.res), fromLast = TRUE)] # 1035 cell lines\n",
    "\n",
    "CCLE.res <- t(CCLE.res)\n",
    "#CCLE.res <- CCLE.res[, -1]\n",
    "\n",
    "rownames(CCLE.res) <-  toupper(str_replace_all(rownames(CCLE.res), \"[^[:alnum:]]\", \"\"))\n",
    "dim(CCLE.res)\n",
    "#options(repr.matrix.max.cols=50, repr.matrix.max.rows=100)\n",
    "CCLE.res <- CCLE.res[, -1]\n",
    "save(CCLE.res, file=\"./CCLE.res.RData\")\n",
    "head(CCLE.res)\n"
   ]
  },
  {
   "cell_type": "code",
   "execution_count": null,
   "metadata": {
    "editable": false,
    "hidden": true,
    "run_control": {
     "frozen": true
    }
   },
   "outputs": [],
   "source": [
    "load(\"CCLE.res.RData\")"
   ]
  },
  {
   "cell_type": "markdown",
   "metadata": {
    "heading_collapsed": true
   },
   "source": [
    "#### Reading L1K++ Data"
   ]
  },
  {
   "cell_type": "markdown",
   "metadata": {
    "hidden": true
   },
   "source": [
    "The average of replicates for each cell line were computed."
   ]
  },
  {
   "cell_type": "code",
   "execution_count": null,
   "metadata": {
    "editable": false,
    "hidden": true,
    "run_control": {
     "frozen": true
    }
   },
   "outputs": [],
   "source": [
    "library(\"stringr\")\n",
    "#===========================================================\n",
    "#========     L1K++ Data -- 3 control types     ============\n",
    "#===========================================================\n",
    "breakit <- function(x)\n",
    "{\n",
    "  y <- unlist(strsplit(x,\"[.]\"))[1]\n",
    "  return(y)\n",
    "}\n",
    "L1K.3types <- read.csv(file = \"./en_3_pert_types_combined.tsv\",sep=\"\\t\", check.names = F, row.names = NULL)\n",
    "\n",
    "rownames(L1K.3types) <- L1K.3types$Sample\n",
    "\n",
    "L1K.names <- rownames(L1K.3types)\n",
    "name.vec <- NULL\n",
    "for(i in 1:nrow(L1K.3types))\n",
    "{\n",
    "  name.vec[[i]] <- breakit(L1K.names[[i]])\n",
    "  \n",
    "}\n",
    "L1K.3types$Sample <- name.vec\n",
    "L1K.avg <- NULL\n",
    "i <- 1\n",
    "for(cline in unique(name.vec))\n",
    "{\n",
    "  means <- colMeans(L1K.3types[which(L1K.3types$Sample == cline), 2:979])\n",
    "  L1K.avg <- rbind(L1K.avg, means)\n",
    "  rownames(L1K.avg)[i] <- cline\n",
    "  i <- i + 1\n",
    "}\n",
    "rownames(L1K.avg) <-  toupper(str_replace_all(rownames(L1K.avg), \"[^[:alnum:]]\", \"\"))\n",
    "dim(L1K.avg) # 71 cell lines\n",
    "options(repr.matrix.max.cols=50, repr.matrix.max.rows=100)\n",
    "head(L1K.avg)"
   ]
  },
  {
   "cell_type": "markdown",
   "metadata": {
    "heading_collapsed": true
   },
   "source": [
    "#### Reading RNAseq Data"
   ]
  },
  {
   "cell_type": "code",
   "execution_count": null,
   "metadata": {
    "editable": false,
    "hidden": true,
    "run_control": {
     "frozen": true
    }
   },
   "outputs": [],
   "source": [
    "library(\"stringr\")\n",
    "#===========================================================\n",
    "#========   RNAseq Data -- 1171 genes  ========\n",
    "#===========================================================\n",
    "\n",
    "ax                    <- read.csv(\"./VSD_Entrez_in_landmark.csv\", header = F)    # File for ARRAY-EXPRESS\n",
    "ax.meta               <- read.table(\"./E_MTAB_2706_sdrf.txt\", header = T, sep=\"\\t\",stringsAsFactors = F, quote = NULL, comment = \"\")\n",
    "\n",
    "row.names(ax)         <- ax$V1\n",
    "\n",
    "ax.celines            <- levels(factor(ax.meta$Characteristics.cell.line.))\n",
    "ax.celines            <-  toupper(str_replace_all(ax.celines, \"[^[:alnum:]]\", \"\"))\n",
    "\n",
    "ax$V1                 <- NULL\n",
    "names(ax)             <- ax.celines\n",
    "dim(ax) # 1171 genes x  675 cell lines\n",
    "\n",
    "landmark.genes <- read.csv(\"./landmark_genes.csv\", header = T)    # File for ARRAY-EXPRESS\n",
    "ax <- ax[intersect(landmark.genes$Entrez.Gene.ID, rownames(ax)), ]\n",
    "ax <- t(ax)\n",
    "dim(ax) #675 cell lines x 978 genes\n",
    "options(repr.matrix.max.cols=50, repr.matrix.max.rows=100)\n",
    "head(ax)"
   ]
  },
  {
   "cell_type": "markdown",
   "metadata": {
    "heading_collapsed": true
   },
   "source": [
    "### Data Standardization"
   ]
  },
  {
   "cell_type": "markdown",
   "metadata": {
    "hidden": true
   },
   "source": [
    "We compute the Z score for genes across cell lines for all three datasets.Standardization"
   ]
  },
  {
   "cell_type": "code",
   "execution_count": null,
   "metadata": {
    "editable": false,
    "hidden": true,
    "run_control": {
     "frozen": true
    }
   },
   "outputs": [],
   "source": [
    "#----------------------------------------------\n",
    "# Scaling\n",
    "#----------------------------------------------\n",
    "\n",
    "scaled.L1K.avg  <- scale(L1K.avg, center = TRUE, scale = TRUE)\n",
    "scaled.CCLE.res <- scale(CCLE.res, center = TRUE, scale = TRUE)\n",
    "scaled.ax       <- scale(ax, center = TRUE, scale = TRUE)"
   ]
  },
  {
   "cell_type": "markdown",
   "metadata": {
    "heading_collapsed": true
   },
   "source": [
    "### Intersection of Datasets"
   ]
  },
  {
   "cell_type": "markdown",
   "metadata": {
    "hidden": true
   },
   "source": [
    "L1K++ and CCLE datasets have gene expressions for 55 cell lines in common. L1K++ and RNAseq datasets have gene expressions for 41 cell lines in common. For all datasets, the 1000 landmark genes are used in the analysis."
   ]
  },
  {
   "cell_type": "markdown",
   "metadata": {
    "hidden": true
   },
   "source": [
    "The following script subsets the original datasets (L1K++, CCLE, and RNAseq) based on landmark genes and cell lines in common."
   ]
  },
  {
   "cell_type": "code",
   "execution_count": null,
   "metadata": {
    "editable": false,
    "hidden": true,
    "run_control": {
     "frozen": true
    }
   },
   "outputs": [],
   "source": [
    "#----------------------------------------------\n",
    "# Intersection\n",
    "#----------------------------------------------\n",
    "# 41 cell lines and 978 genes\n",
    "cell.inters <- intersect(rownames(scaled.L1K.avg), rownames(scaled.ax))\n",
    "length(cell.inters)\n",
    "scaled.L1K.inters.ax   <- scaled.L1K.avg[cell.inters, ] #gene.inters **after mapping\n",
    "scaled.ax.inters       <- scaled.ax[cell.inters, ] #gene.inters **after mapping\n",
    "#---------------------------------\n",
    "# 55 cell lines and 978 genes\n",
    "gene.inters <- intersect(colnames(scaled.CCLE.res), colnames(scaled.L1K.avg))\n",
    "cell.inters <- intersect(rownames(scaled.L1K.avg), rownames(scaled.CCLE.res))\n",
    "scaled.CCLE.res.inters <- scaled.CCLE.res[cell.inters, gene.inters]\n",
    "scaled.L1K.inters      <- scaled.L1K.avg[cell.inters, gene.inters]\n",
    "\n",
    "#---------------------------------\n",
    "dim(scaled.CCLE.res.inters) # 55 978\n",
    "dim(scaled.L1K.inters) # 55 978\n",
    "#-------------\n",
    "dim(scaled.L1K.inters.ax) # 41 978\n",
    "dim(scaled.ax.inters) # 41 978\n",
    "#---------------------------------"
   ]
  },
  {
   "cell_type": "markdown",
   "metadata": {
    "heading_collapsed": true
   },
   "source": [
    "### Loading the Filtered Datasets"
   ]
  },
  {
   "cell_type": "code",
   "execution_count": 2,
   "metadata": {
    "hidden": true
   },
   "outputs": [],
   "source": [
    "load(\"./scaled.CCLE.res.inters.RData\")\n",
    "load(\"./scaled.L1K.inters.RData\")\n",
    "load(\"./scaled.L1K.inters.ax.RData\")\n",
    "load(\"./scaled.ax.inters.RData\")"
   ]
  },
  {
   "cell_type": "markdown",
   "metadata": {
    "heading_collapsed": true,
    "hidden": true
   },
   "source": [
    "#### Heatmaps for Datasets"
   ]
  },
  {
   "cell_type": "markdown",
   "metadata": {
    "hidden": true
   },
   "source": [
    "The plot below shows the heatmap of L1K++ gene expressions dataset consisted of 55 cell lines and 978 genes, which are resulted from the intersection of L1K++ and CLEE. "
   ]
  },
  {
   "cell_type": "markdown",
   "metadata": {
    "hidden": true
   },
   "source": [
    "library(\"gplots\")\n",
    "heatmap.2(scaled.L1K.inters,dendrogram='none', Rowv=TRUE, Colv=TRUE,trace='none')"
   ]
  },
  {
   "cell_type": "markdown",
   "metadata": {
    "hidden": true
   },
   "source": [
    "The plot below shows the heatmap of CCLE gene expressions dataset consisted of 55 cell lines and 978 genes. "
   ]
  },
  {
   "cell_type": "code",
   "execution_count": null,
   "metadata": {
    "hidden": true
   },
   "outputs": [],
   "source": [
    "library(\"gplots\")\n",
    "heatmap.2(scaled.CCLE.res.inters,dendrogram='none', Rowv=TRUE, Colv=TRUE,trace='none')"
   ]
  },
  {
   "cell_type": "markdown",
   "metadata": {
    "hidden": true
   },
   "source": [
    "The plot below shows the heatmap of RNAseq expressions dataset consisted of 41 cell lines and 978 genes. "
   ]
  },
  {
   "cell_type": "code",
   "execution_count": null,
   "metadata": {
    "hidden": true
   },
   "outputs": [],
   "source": [
    "library(\"gplots\")\n",
    "heatmap.2(scaled.ax.inters,dendrogram='none', Rowv=TRUE, Colv=TRUE,trace='none')"
   ]
  },
  {
   "cell_type": "markdown",
   "metadata": {
    "hidden": true
   },
   "source": [
    "The plot below shows the heatmap of L1K++ gene expressions dataset consisted of 55 cell lines and 978 genes that resulted from the intersection of L1K++ and RNAseq. "
   ]
  },
  {
   "cell_type": "code",
   "execution_count": null,
   "metadata": {
    "hidden": true
   },
   "outputs": [],
   "source": [
    "library(\"gplots\")\n",
    "heatmap.2(scaled.L1K.inters.ax,dendrogram='none', Rowv=TRUE, Colv=TRUE,trace='none')"
   ]
  },
  {
   "cell_type": "markdown",
   "metadata": {},
   "source": [
    "## Analysis & Visualization"
   ]
  },
  {
   "cell_type": "markdown",
   "metadata": {},
   "source": [
    "To find cell line similarities, we calculate the pairwise distances and correlation coefficients between every two cell lines based on their gene expression profiles. Different metrics are used for the distance, such as: Pearson correlation, rank-based correlation (Kendall), and squared Mahalanobis distance. This analysis consist of two main parts. One, analyzing L1K++ compared to CCLE, and second L1K++ compared to CCLE in order to benchmark the results."
   ]
  },
  {
   "cell_type": "markdown",
   "metadata": {},
   "source": [
    "### Computing Cell Line Distances"
   ]
  },
  {
   "cell_type": "markdown",
   "metadata": {
    "heading_collapsed": true
   },
   "source": [
    "#### 1. Untreated L1K++  vs. CCLE Data (55 cell lines x 978 genes)"
   ]
  },
  {
   "cell_type": "markdown",
   "metadata": {
    "hidden": true
   },
   "source": [
    "The following script computes the two types of correlation coefficients(Pearson/Kendall) and one distance metric (squared Mahalanobis distance) for 55 cell lines in L1K++ and CCLE data based on their expression profiles."
   ]
  },
  {
   "cell_type": "code",
   "execution_count": 3,
   "metadata": {
    "hidden": true
   },
   "outputs": [
    {
     "name": "stdout",
     "output_type": "stream",
     "text": [
      "Estimating optimal shrinkage intensity lambda.var (variance vector): 1 \n",
      "\n",
      "Estimating optimal shrinkage intensity lambda (correlation matrix): 0.1934 \n",
      "\n",
      "Estimating optimal shrinkage intensity lambda.var (variance vector): 0.0604 \n",
      "\n",
      "Estimating optimal shrinkage intensity lambda (correlation matrix): 0.0067 \n",
      "\n",
      "Estimating optimal shrinkage intensity lambda.var (variance vector): 0.8741 \n",
      "\n",
      "Estimating optimal shrinkage intensity lambda (correlation matrix): 0.4814 \n",
      "\n",
      "Estimating optimal shrinkage intensity lambda.var (variance vector): 0.0746 \n",
      "\n",
      "Estimating optimal shrinkage intensity lambda (correlation matrix): 0.0078 \n",
      "\n"
     ]
    }
   ],
   "source": [
    "library(\"corpcor\")\n",
    "#==================================================================================\n",
    "#     Pearson / Kendall Correlation / Squared Mahalanobis Distance\n",
    "#==================================================================================\n",
    "\n",
    "# L1K++ vs. CCLE (55 x 55, cell lines)\n",
    "#-------------------------------------\n",
    "# .lc = L1K++ data & .c = CCLE data\n",
    "cor.mat.lc    <- as.dist((1-cor(t(scaled.L1K.inters), method = \"pearson\"))/2)\n",
    "cor.mat.c     <- as.dist((1-cor(t(scaled.CCLE.res.inters), method = \"pearson\"))/2)\n",
    "#...............................................................................\n",
    "cork.mat.lc    <- as.dist((1-cor(t(scaled.L1K.inters), method = \"kendall\"))/2)\n",
    "cork.mat.c     <- as.dist((1-cor(t(scaled.CCLE.res.inters), method = \"kendall\"))/2)\n",
    "#...............................................................................\n",
    "# Mahalanobis Diststance\n",
    "covs <- cov.shrink(scaled.L1K.inters)\n",
    "covs.inverse <- invcov.shrink(covs) \n",
    "distm.mat.lc <- as.dist(apply(scaled.L1K.inters,1,function(i){ \n",
    "  mahalanobis(scaled.L1K.inters,i, covs.inverse, inverted = T)})) \n",
    "#...........\n",
    "covs2 <- cov.shrink(scaled.CCLE.res.inters)\n",
    "covs.inverse2 <- invcov.shrink(covs2) \n",
    "distm.mat.c <- as.dist(apply(scaled.CCLE.res.inters,1,function(i){ \n",
    "  mahalanobis(scaled.CCLE.res.inters,i, covs.inverse2, inverted = T)})) \n"
   ]
  },
  {
   "cell_type": "markdown",
   "metadata": {
    "heading_collapsed": true
   },
   "source": [
    "#### 2. Untreated L1K++  vs. RNAseq Data (41 cell lines x 978 genes)"
   ]
  },
  {
   "cell_type": "markdown",
   "metadata": {
    "hidden": true
   },
   "source": [
    "The following script computes the two types of correlation coefficients(Pearson/Kendall) and one distance metric (squared Mahalanobis distance) for 41 cell lines in L1K++ and RNAseq data based on their expression profiles."
   ]
  },
  {
   "cell_type": "code",
   "execution_count": null,
   "metadata": {
    "hidden": true
   },
   "outputs": [],
   "source": [
    "#==================================================================================\n",
    "#     Pearson / Kendall Correlation / Squared Mahalanobis Distance\n",
    "#==================================================================================\n",
    "# L1K++ vs. RNAseq (41 x 41, cell lines)\n",
    "#-------------------------------------\n",
    "# .la = L1K++ data & .a = RNAseq data\n",
    "cor.mat.la    <- as.dist((1-cor(t(scaled.L1K.inters.ax), method = \"pearson\"))/2)\n",
    "cor.mat.a     <- as.dist((1-cor(t(scaled.ax.inters), method = \"pearson\"))/2)\n",
    "#...............................................................................\n",
    "cork.mat.la    <- as.dist((1-cor(t(scaled.L1K.inters.ax), method = \"kendall\"))/2)\n",
    "cork.mat.a     <- as.dist((1-cor(t(scaled.ax.inters), method = \"kendall\"))/2)\n",
    "#...............................................................................\n",
    "# Mahalanobis Diststance\n",
    "covs <- cov.shrink(scaled.L1K.inters.ax)\n",
    "covs.inverse <- invcov.shrink(covs) \n",
    "distm.mat.la <- as.dist(apply(scaled.L1K.inters.ax,1,function(i){ \n",
    "  mahalanobis(scaled.L1K.inters.ax,i, covs.inverse, inverted = T)})) \n",
    "#...........\n",
    "covs2 <- cov.shrink(scaled.ax.inters)\n",
    "covs.inverse2 <- invcov.shrink(covs2) \n",
    "distm.mat.a <- as.dist(apply(scaled.ax.inters,1,function(i){ \n",
    "  mahalanobis(scaled.ax.inters,i, covs.inverse2, inverted = T)})) \n"
   ]
  },
  {
   "cell_type": "markdown",
   "metadata": {},
   "source": [
    "### Analysis Visualization"
   ]
  },
  {
   "cell_type": "markdown",
   "metadata": {},
   "source": [
    "#### Distance/Similarity Visualization (Heatmaps & MDS)"
   ]
  },
  {
   "cell_type": "markdown",
   "metadata": {},
   "source": [
    "In order to improve the readability of the distance/similarity matrices, we use plotly package to visualize. It enables us to read the distance of any interesting point in our heatmap by placing the cursor on it. Since the distance/similarity matrices are symmetric, the upper and lower triangles of the heatmap are identical. Also, we used Multidimensional Scaling plots to show the similarity measures between cell lines."
   ]
  },
  {
   "cell_type": "markdown",
   "metadata": {},
   "source": [
    "##### L1K++ vs. CCLE (55 cell lines)"
   ]
  },
  {
   "cell_type": "markdown",
   "metadata": {},
   "source": [
    "###### 1. Pearson Correlation Coefficients"
   ]
  },
  {
   "cell_type": "code",
   "execution_count": null,
   "metadata": {
    "collapsed": true
   },
   "outputs": [],
   "source": [
    "library(\"plotly\")\n",
    "#options(repr.plot.width=3, repr.plot.height=3)\n",
    "m <- as.matrix(cor.mat.lc)\n",
    "a <- plot_ly(x = rownames(m), y = colnames(m),\n",
    "z = m, type = \"heatmap\", colors = colorRamp(c(\"red\", \"yellow\")))\n",
    "#----\n",
    "m2 <- as.matrix(cor.mat.c)\n",
    "b <- plot_ly(x = rownames(m2), y = colnames(m2),\n",
    "z = m2, type = \"heatmap\", colors = colorRamp(c(\"red\", \"yellow\")))\n",
    "#-----\n",
    "subplot(a, b, margin = 0.06)\n",
    "#-----\n",
    "\n",
    "cmd <- cmdscale(cor.mat.lc,eig=TRUE, k=3)\n",
    "x <- cmd$points[,1]\n",
    "y <- cmd$points[,2]\n",
    "z <- cmd$points[,3]\n",
    "\n",
    "a <- plot_ly(as.data.frame(as.matrix(cor.mat.lc)), x = x, y = y, z = z, color=rownames(as.data.frame(as.matrix(cor.mat.lc)))) %>%\n",
    "  add_markers() %>%\n",
    "  layout(title = \"MDS L1K++ (Pearson)\", scene = list(xaxis = list(title = 'x'),\n",
    "                      yaxis = list(title = 'y'),\n",
    "                      zaxis = list(title = 'z')))\n",
    "\n",
    "cmd <- cmdscale(cor.mat.c,eig=TRUE, k=3)\n",
    "x <- cmd$points[,1]\n",
    "y <- cmd$points[,2]\n",
    "z <- cmd$points[,3]\n",
    "\n",
    "b <- plot_ly(as.data.frame(as.matrix(cor.mat.c)), x = x, y = y, z = z, color=rownames(as.data.frame(as.matrix(cor.mat.c)))) %>%\n",
    "  add_markers() %>%\n",
    "  layout(title = \"MDS CCLE (Pearson)\", scene = list(xaxis = list(title = 'x'),\n",
    "                      yaxis = list(title = 'y'),\n",
    "                      zaxis = list(title = 'z')))\n",
    "\n",
    "#htmlwidgets::saveWidget(a, \"indexaaa.html\")\n",
    "#htmlwidgets::saveWidget(b, \"indexbbb.html\")\n",
    "\n",
    "embed_notebook(b)"
   ]
  },
  {
   "cell_type": "markdown",
   "metadata": {},
   "source": [
    "<iframe src=\"indexaaa.html\" width=\"100%\" height=\"800px\"\n",
    "                style=\"border: none;\"></iframe>"
   ]
  },
  {
   "cell_type": "markdown",
   "metadata": {
    "heading_collapsed": true
   },
   "source": [
    "###### 2. Kendall Correlation Coefficients"
   ]
  },
  {
   "cell_type": "code",
   "execution_count": null,
   "metadata": {
    "hidden": true,
    "scrolled": false
   },
   "outputs": [],
   "source": [
    "library(\"plotly\")\n",
    "#options(repr.plot.width=3, repr.plot.height=3)\n",
    "m <- as.matrix(cork.mat.lc)\n",
    "a <- plot_ly(x = rownames(m), y = colnames(m),z = m, type = \"heatmap\", colors = colorRamp(c(\"red\", \"yellow\")))\n",
    "#------\n",
    "m2 <- as.matrix(cork.mat.c)\n",
    "b <- plot_ly(x = rownames(m2), y = colnames(m2),z = m2, type = \"heatmap\", colors = colorRamp(c(\"red\", \"yellow\")))\n",
    "#------\n",
    "subplot(a, b, margin = 0.06)\n",
    "\n",
    "#------\n",
    "cmd <- cmdscale(cor.mat.lc,eig=TRUE, k=3)\n",
    "x <- cmd$points[,1]\n",
    "y <- cmd$points[,2]\n",
    "z <- cmd$points[,3]\n",
    "\n",
    "plot_ly(as.data.frame(as.matrix(cork.mat.lc)), x = x, y = y, z = z, color=rownames(as.data.frame(as.matrix(cork.mat.lc)))) %>%\n",
    "  add_markers() %>%\n",
    "  layout(title = \"MDS L1K++ (Kendall)\", scene = list(xaxis = list(title = 'x'),\n",
    "                      yaxis = list(title = 'y'),\n",
    "                      zaxis = list(title = 'z')))\n",
    "\n",
    "cmd <- cmdscale(cork.mat.c,eig=TRUE, k=3)\n",
    "x <- cmd$points[,1]\n",
    "y <- cmd$points[,2]\n",
    "z <- cmd$points[,3]\n",
    "\n",
    "plot_ly(as.data.frame(as.matrix(cork.mat.c)), x = x, y = y, z = z, color=rownames(as.data.frame(as.matrix(cork.mat.c)))) %>%\n",
    "  add_markers() %>%\n",
    "  layout(title = \"MDS CCLE (Kendall)\", scene = list(xaxis = list(title = 'x'),\n",
    "                      yaxis = list(title = 'y'),\n",
    "                      zaxis = list(title = 'z')))"
   ]
  },
  {
   "cell_type": "markdown",
   "metadata": {
    "heading_collapsed": true
   },
   "source": [
    "###### 3. Squared Mahalanobis Distance"
   ]
  },
  {
   "cell_type": "code",
   "execution_count": null,
   "metadata": {
    "hidden": true,
    "scrolled": false
   },
   "outputs": [],
   "source": [
    "library(\"plotly\")\n",
    "library(repr)\n",
    "#options(repr.plot.width=3, repr.plot.height=3)\n",
    "m <- as.matrix(distm.mat.lc)\n",
    "a <- plot_ly(x = rownames(m), y = colnames(m),\n",
    "z = m, type = \"heatmap\", colors = colorRamp(c(\"red\", \"yellow\")))\n",
    "\n",
    "m2 <- as.matrix(distm.mat.c)\n",
    "b <- plot_ly(x = rownames(m2), y = colnames(m2),\n",
    "z = m2, type = \"heatmap\", colors = colorRamp(c(\"red\", \"yellow\")))\n",
    "\n",
    "subplot(a, b, margin = 0.06)\n",
    "\n",
    "cmd <- cmdscale(distm.mat.lc,eig=TRUE, k=3)\n",
    "x <- cmd$points[,1]\n",
    "y <- cmd$points[,2]\n",
    "z <- cmd$points[,3]\n",
    "\n",
    "plot_ly(as.data.frame(as.matrix(distm.mat.lc)), x = x, y = y, z = z, color=rownames(as.data.frame(as.matrix(distm.mat.lc)))) %>%\n",
    "  add_markers() %>%\n",
    "  layout(title = \"MDS L1K++ (Sqr. Mahalanobis)\", scene = list(xaxis = list(title = 'x'),\n",
    "                      yaxis = list(title = 'y'),\n",
    "                      zaxis = list(title = 'z')))\n",
    "\n",
    "cmd <- cmdscale(distm.mat.c,eig=TRUE, k=3)\n",
    "x <- cmd$points[,1]\n",
    "y <- cmd$points[,2]\n",
    "z <- cmd$points[,3]\n",
    "\n",
    "plot_ly(as.data.frame(as.matrix(distm.mat.c)), x = x, y = y, z = z, color=rownames(as.data.frame(as.matrix(distm.mat.c)))) %>%\n",
    "  add_markers() %>%\n",
    "  layout(title = \"MDS CCLE (Sqr. Mahalanobis)\", scene = list(xaxis = list(title = 'x'),\n",
    "                      yaxis = list(title = 'y'),\n",
    "                      zaxis = list(title = 'z')))"
   ]
  },
  {
   "cell_type": "markdown",
   "metadata": {},
   "source": [
    "##### L1K++ vs. RNAseq (41 cell lines)"
   ]
  },
  {
   "cell_type": "markdown",
   "metadata": {
    "heading_collapsed": true
   },
   "source": [
    "###### 1. Pearson Correlation Coefficients"
   ]
  },
  {
   "cell_type": "code",
   "execution_count": null,
   "metadata": {
    "hidden": true,
    "scrolled": false
   },
   "outputs": [],
   "source": [
    "library(\"plotly\")\n",
    "#options(repr.plot.width=6) #repr.plot.height=3\n",
    "m <- as.matrix(cor.mat.la)\n",
    "a <- plot_ly(x = rownames(m), y = colnames(m),\n",
    "z = m, type = \"heatmap\", colors = colorRamp(c(\"red\", \"yellow\")))\n",
    "\n",
    "m2 <- as.matrix(cor.mat.a)\n",
    "b <- plot_ly(x = rownames(m2), y = colnames(m2),\n",
    "z = m2, type = \"heatmap\", colors = colorRamp(c(\"red\", \"yellow\")))\n",
    "subplot(a, b, margin = 0.06)\n",
    "\n",
    "\n",
    "cmd <- cmdscale(cor.mat.la,eig=TRUE, k=3)\n",
    "x <- cmd$points[,1]\n",
    "y <- cmd$points[,2]\n",
    "z <- cmd$points[,3]\n",
    "\n",
    "plot_ly(as.data.frame(as.matrix(cor.mat.la)), x = x, y = y, z = z, color=rownames(as.data.frame(as.matrix(cor.mat.la)))) %>%\n",
    "  add_markers() %>%\n",
    "  layout(title = \"MDS L1K++ (Pearson)\", scene = list(xaxis = list(title = 'x'),\n",
    "                      yaxis = list(title = 'y'),\n",
    "                      zaxis = list(title = 'z')))\n",
    "\n",
    "cmd <- cmdscale(cor.mat.a,eig=TRUE, k=3)\n",
    "x <- cmd$points[,1]\n",
    "y <- cmd$points[,2]\n",
    "z <- cmd$points[,3]\n",
    "\n",
    "plot_ly(as.data.frame(as.matrix(cor.mat.a)), x = x, y = y, z = z, color=rownames(as.data.frame(as.matrix(cor.mat.a)))) %>%\n",
    "  add_markers() %>%\n",
    "  layout(title = \"MDS RNAseq (Pearson)\", scene = list(xaxis = list(title = 'x'),\n",
    "                      yaxis = list(title = 'y'),\n",
    "                      zaxis = list(title = 'z')))"
   ]
  },
  {
   "cell_type": "markdown",
   "metadata": {
    "heading_collapsed": true
   },
   "source": [
    "###### 2. Kendall Correlation Coefficients"
   ]
  },
  {
   "cell_type": "code",
   "execution_count": null,
   "metadata": {
    "hidden": true
   },
   "outputs": [],
   "source": [
    "library(\"plotly\")\n",
    "#options(repr.plot.width=3,repr.plot.height=3)\n",
    "m <- as.matrix(cork.mat.la)\n",
    "a <- plot_ly(x = rownames(m), y = colnames(m),\n",
    "z = m, type = \"heatmap\", colors = colorRamp(c(\"red\", \"yellow\")))\n",
    "\n",
    "m2 <- as.matrix(cork.mat.a)\n",
    "b <- plot_ly(x = rownames(m2), y = colnames(m2),\n",
    "z = m2, type = \"heatmap\", colors = colorRamp(c(\"red\", \"yellow\")))\n",
    "subplot(a, b, margin = 0.06)\n",
    "\n",
    "cmd <- cmdscale(cork.mat.la,eig=TRUE, k=3)\n",
    "x <- cmd$points[,1]\n",
    "y <- cmd$points[,2]\n",
    "z <- cmd$points[,3]\n",
    "\n",
    "plot_ly(as.data.frame(as.matrix(cork.mat.la)), x = x, y = y, z = z, color=rownames(as.data.frame(as.matrix(cork.mat.la)))) %>%\n",
    "  add_markers() %>%\n",
    "  layout(title = \"MDS L1K++ (Kendall)\", scene = list(xaxis = list(title = 'x'),\n",
    "                      yaxis = list(title = 'y'),\n",
    "                      zaxis = list(title = 'z')))\n",
    "\n",
    "cmd <- cmdscale(cork.mat.a,eig=TRUE, k=3)\n",
    "x <- cmd$points[,1]\n",
    "y <- cmd$points[,2]\n",
    "z <- cmd$points[,3]\n",
    "\n",
    "plot_ly(as.data.frame(as.matrix(cork.mat.a)), x = x, y = y, z = z, color=rownames(as.data.frame(as.matrix(cork.mat.a)))) %>%\n",
    "  add_markers() %>%\n",
    "  layout(title = \"MDS RNAseq (Kendall)\", scene = list(xaxis = list(title = 'x'),\n",
    "                      yaxis = list(title = 'y'),\n",
    "                      zaxis = list(title = 'z')))"
   ]
  },
  {
   "cell_type": "markdown",
   "metadata": {
    "heading_collapsed": true
   },
   "source": [
    "###### 3. Squared Mahalanobis Distance"
   ]
  },
  {
   "cell_type": "code",
   "execution_count": null,
   "metadata": {
    "hidden": true
   },
   "outputs": [],
   "source": [
    "library(\"plotly\")\n",
    "#options(repr.plot.width=6) #repr.plot.height=3\n",
    "m <- as.matrix(distm.mat.la)\n",
    "a <- plot_ly(x = rownames(m), y = colnames(m),\n",
    "z = m, type = \"heatmap\", colors = colorRamp(c(\"red\", \"yellow\")))\n",
    "\n",
    "m2 <- as.matrix(distm.mat.a)\n",
    "b <- plot_ly(x = rownames(m2), y = colnames(m2),\n",
    "z = m2, type = \"heatmap\", colors = colorRamp(c(\"red\", \"yellow\")))\n",
    "subplot(a, b, margin = 0.06)\n",
    "\n",
    "\n",
    "cmd <- cmdscale(distm.mat.la,eig=TRUE, k=3)\n",
    "x <- cmd$points[,1]\n",
    "y <- cmd$points[,2]\n",
    "z <- cmd$points[,3]\n",
    "\n",
    "plot_ly(as.data.frame(as.matrix(distm.mat.la)), x = x, y = y, z = z, color=rownames(as.data.frame(as.matrix(distm.mat.la)))) %>%\n",
    "  add_markers() %>%\n",
    "  layout(title = \"MDS L1K++ (Sqr. Mahalanobis)\", scene = list(xaxis = list(title = 'x'),\n",
    "                      yaxis = list(title = 'y'),\n",
    "                      zaxis = list(title = 'z')))\n",
    "\n",
    "cmd <- cmdscale(distm.mat.a,eig=TRUE, k=3)\n",
    "x <- cmd$points[,1]\n",
    "y <- cmd$points[,2]\n",
    "z <- cmd$points[,3]\n",
    "\n",
    "plot_ly(as.data.frame(as.matrix(distm.mat.a)), x = x, y = y, z = z, color=rownames(as.data.frame(as.matrix(distm.mat.a)))) %>%\n",
    "  add_markers() %>%\n",
    "  layout(title = \"MDS RNAseq (Sqr. Mahalanobis)\", scene = list(xaxis = list(title = 'x'),\n",
    "                      yaxis = list(title = 'y'),\n",
    "                      zaxis = list(title = 'z')))"
   ]
  },
  {
   "cell_type": "markdown",
   "metadata": {},
   "source": [
    "#### Clustering Visualization ()"
   ]
  },
  {
   "cell_type": "markdown",
   "metadata": {
    "run_control": {
     "marked": false
    }
   },
   "source": [
    "Clustering is an effective tool in this project to explore data and discover patterns in cell lines across different perturbations. In particular, we use some clustering approaches as a similarity measurement [29]. Hierarchical clustering and model-based clustering are used to cluster similar cell lines and similar drugs. Hierarchical clustering algorithms return the clusters in a hierarchical structure and do not require a prior knowledge of the number of the clusters [30]. Model-based clustering can be a good alternative to heuristic algorithms using some mathematical models such as decision trees [31]. We cluster cell lines based on their gene expressions, and then compute the adjust rand index to assess the clustering of each two datasets."
   ]
  },
  {
   "cell_type": "markdown",
   "metadata": {
    "format": "row",
    "heading_collapsed": true,
    "run_control": {
     "marked": false
    }
   },
   "source": [
    "##### Hierarchical Clustering"
   ]
  },
  {
   "cell_type": "markdown",
   "metadata": {
    "hidden": true
   },
   "source": [
    "The following scripts includes a function that takes two distance matrices, a model name, and a threshold as parameters to test different numbers of clusters for the two datasets and print all combinations that gives an adjust rand index greater than the threshold. "
   ]
  },
  {
   "cell_type": "code",
   "execution_count": null,
   "metadata": {
    "cell_style": "center",
    "format": "row",
    "hidden": true
   },
   "outputs": [],
   "source": [
    "library(\"mclust\")\n",
    "findOptNumClust.hc <- function(dist.mat1, dist.mat2, model, thrsh)\n",
    "{\n",
    "  thrshold  <- thrsh\n",
    "  for(i in 2:15)\n",
    "  {\n",
    "    for(j in 2:15)\n",
    "    {\n",
    "      #-------------------\n",
    "      ARI   <<- NULL\n",
    "      ARI2  <<- NULL\n",
    "      \n",
    "      hc1 <- cutree(hclust(dist.mat1, method = model), i)\n",
    "      hc2 <- cutree(hclust(dist.mat2, method = model), j) \n",
    "        \n",
    "      tryCatch({\n",
    "        if(adjustedRandIndex(hc1, hc2) >= thrshold)\n",
    "        {\n",
    "          ARI  <<- adjustedRandIndex(hc1, hc2) \n",
    "          cat(\"======================================\\n\")\n",
    "          cat(\"#cluster_1 :\", i, \",\")\n",
    "          cat(\"#cluster_2 :\", j, \"\\n\")\n",
    "          cat(\"threshold :\", thrshold, \" | \")\n",
    "          cat(\"Model: \", model, \"\\n\")\n",
    "          cat(\"--------------------------\\n\")\n",
    "          cat(\"ARI :\", ARI, \"\\n\")\n",
    "        }\n",
    "      }, error=function(e){cat(\"ERROR:\",conditionMessage(e), \"\\n\")}) #cat(\"ERROR:\",conditionMessage(e), \"\\n\")\n",
    "      \n",
    "      #-------------------\n",
    "      j <- j + 1;\n",
    "    }\n",
    "    i <- i + 1;\n",
    "  }\n",
    "}"
   ]
  },
  {
   "cell_type": "code",
   "execution_count": null,
   "metadata": {
    "cell_style": "center",
    "format": "row",
    "hidden": true
   },
   "outputs": [],
   "source": [
    "findOptNumClust.hc(cor.mat.lc, cor.mat.c, \"complete\", 0.18)\n",
    "#findOptNumClust.hc(\"average\", 0.25)"
   ]
  },
  {
   "cell_type": "markdown",
   "metadata": {
    "hidden": true
   },
   "source": [
    "The output above, helps us pick the best number of clusters for each one of the two datasets based on the clustering adjust rand index."
   ]
  },
  {
   "cell_type": "markdown",
   "metadata": {
    "format": "row",
    "hidden": true
   },
   "source": [
    "<table>\n",
    "  <tr>\n",
    "    <th>Dist Measure</th>\n",
    "    <th># clusters</th>\n",
    "    <th># clusters</th>\n",
    "    <th>Average</th>\n",
    "  </tr>\n",
    "  <tr>\n",
    "    <th>Pearson</th>\n",
    "    <th>Kendall</th>\n",
    "    <th>Square Mahalanobis</th>\n",
    "  </tr>\n",
    "</table>\n"
   ]
  },
  {
   "cell_type": "markdown",
   "metadata": {
    "hidden": true
   },
   "source": [
    "###### 1. L1K++ vs. CCLE (55 cell lines)"
   ]
  },
  {
   "cell_type": "markdown",
   "metadata": {
    "hidden": true
   },
   "source": []
  },
  {
   "cell_type": "markdown",
   "metadata": {
    "hidden": true
   },
   "source": [
    "###### 2. L1K++ vs. RNAseq (41 cell lines)"
   ]
  },
  {
   "cell_type": "markdown",
   "metadata": {
    "format": "row",
    "hide_input": false
   },
   "source": [
    "##### Model-based Clustering"
   ]
  },
  {
   "cell_type": "markdown",
   "metadata": {},
   "source": [
    "Since we are clustering to benchmark cell line similarities in L1K++ with each one of the two datasets: CCLE, RNAseq, we want to find the optimal number of clusters that gives the highest adjust rand index for each two datasets.  \n",
    "  \n",
    "The following script includes a function that generates hclust f"
   ]
  },
  {
   "cell_type": "markdown",
   "metadata": {},
   "source": [
    "## Attributes of Notebook"
   ]
  },
  {
   "cell_type": "markdown",
   "metadata": {},
   "source": [
    "### Bioconductor Packages"
   ]
  },
  {
   "cell_type": "markdown",
   "metadata": {
    "cell_style": "split"
   },
   "source": [
    "corpcor  \n",
    "plotly\n",
    "cluster\n",
    "stringr\n",
    "base\n",
    "stats\n",
    "mclust\n",
    "bios2mds\n",
    "rgl"
   ]
  },
  {
   "cell_type": "markdown",
   "metadata": {},
   "source": [
    "### Visualization"
   ]
  },
  {
   "cell_type": "markdown",
   "metadata": {},
   "source": []
  },
  {
   "cell_type": "markdown",
   "metadata": {},
   "source": [
    "# References\n",
    "\n"
   ]
  }
 ],
 "metadata": {
  "_draft": {
   "nbviewer_url": "https://gist.github.com/714524fdebd24ac07d0900323670eaa8"
  },
  "gist": {
   "data": {
    "description": "/Case Study LINCS Data & External Datasets.ipynb",
    "public": false
   },
   "id": "714524fdebd24ac07d0900323670eaa8"
  },
  "hide_input": false,
  "kernelspec": {
   "display_name": "R",
   "language": "R",
   "name": "ir"
  },
  "language_info": {
   "codemirror_mode": "r",
   "file_extension": ".r",
   "mimetype": "text/x-r-source",
   "name": "R",
   "pygments_lexer": "r",
   "version": "3.3.2"
  },
  "latex_envs": {
   "LaTeX_envs_menu_present": true,
   "autocomplete": true,
   "bibliofile": "biblio.bib",
   "cite_by": "key",
   "current_citInitial": 1,
   "eqLabelWithNumbers": true,
   "eqNumInitial": 1,
   "hotkeys": {
    "equation": "Ctrl-E",
    "itemize": "Ctrl-I"
   },
   "labels_anchors": true,
   "latex_user_defs": true,
   "report_style_numbering": true,
   "user_envs_cfg": false
  },
  "toc": {
   "colors": {
    "hover_highlight": "#DAA520",
    "navigate_num": "#000000",
    "navigate_text": "#333333",
    "running_highlight": "#FF0000",
    "selected_highlight": "#FFD700",
    "sidebar_border": "#EEEEEE",
    "wrapper_background": "#FFFFFF"
   },
   "moveMenuLeft": true,
   "nav_menu": {
    "height": "278px",
    "width": "239px"
   },
   "navigate_menu": true,
   "number_sections": false,
   "sideBar": true,
   "threshold": 4,
   "toc_cell": true,
   "toc_position": {
    "height": "606px",
    "left": "0px",
    "right": "989px",
    "top": "154px",
    "width": "184px"
   },
   "toc_section_display": "block",
   "toc_window_display": true,
   "widenNotebook": false
  },
  "varInspector": {
   "cols": {
    "lenName": 16,
    "lenType": 16,
    "lenVar": 40
   },
   "kernels_config": {
    "python": {
     "delete_cmd_postfix": "",
     "delete_cmd_prefix": "del ",
     "library": "var_list.py",
     "varRefreshCmd": "print(var_dic_list())"
    },
    "r": {
     "delete_cmd_postfix": ") ",
     "delete_cmd_prefix": "rm(",
     "library": "var_list.r",
     "varRefreshCmd": "cat(var_dic_list()) "
    }
   },
   "types_to_exclude": [
    "module",
    "function",
    "builtin_function_or_method",
    "instance",
    "_Feature"
   ],
   "window_display": false
  }
 },
 "nbformat": 4,
 "nbformat_minor": 2
}
